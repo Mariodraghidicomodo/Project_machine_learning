{
 "cells": [
  {
   "cell_type": "markdown",
   "metadata": {},
   "source": [
    "# IDEA:"
   ]
  },
  {
   "cell_type": "markdown",
   "metadata": {},
   "source": [
    "Now we want to obtain 5 df, one for each user that we obtain from the cluster analysis \n",
    "\n",
    "this is the first step for build our NN, since we want to train the model with the song that each single User listen, and we want to predict the 'valence' (that is a evaluation of how much the song is liked to the user) based on the teste of the single user"
   ]
  },
  {
   "cell_type": "markdown",
   "metadata": {},
   "source": [
    "## Df"
   ]
  },
  {
   "cell_type": "code",
   "execution_count": 23,
   "metadata": {},
   "outputs": [],
   "source": [
    "# we recall our df after the clustering procedure\n",
    "%store -r merge_unique_df"
   ]
  },
  {
   "cell_type": "markdown",
   "metadata": {},
   "source": [
    "FIRST IMPLEMENTATION "
   ]
  },
  {
   "cell_type": "code",
   "execution_count": 24,
   "metadata": {},
   "outputs": [
    {
     "name": "stdout",
     "output_type": "stream",
     "text": [
      "<class 'pandas.core.frame.DataFrame'>\n",
      "Index: 27207 entries, -twistin'-White Silver SandsBill Black's Combo to Zunga ZengK7\n",
      "Data columns (total 21 columns):\n",
      " #   Column                         Non-Null Count  Dtype  \n",
      "---  ------                         --------------  -----  \n",
      " 0   Performer                      27207 non-null  object \n",
      " 1   Song                           27207 non-null  object \n",
      " 2   spotify_genre                  27207 non-null  object \n",
      " 3   spotify_track_duration_minute  27207 non-null  float64\n",
      " 4   spotify_track_explicit         27207 non-null  object \n",
      " 5   spotify_track_album            27207 non-null  object \n",
      " 6   danceability                   27207 non-null  float64\n",
      " 7   energy                         27207 non-null  float64\n",
      " 8   key                            27207 non-null  float64\n",
      " 9   loudness                       27207 non-null  float64\n",
      " 10  mode                           27207 non-null  float64\n",
      " 11  speechiness                    27207 non-null  float64\n",
      " 12  acousticness                   27207 non-null  float64\n",
      " 13  instrumentalness               27207 non-null  float64\n",
      " 14  liveness                       27207 non-null  float64\n",
      " 15  valence                        27207 non-null  float64\n",
      " 16  tempo                          27207 non-null  float64\n",
      " 17  time_signature                 27207 non-null  float64\n",
      " 18  spotify_track_popularity       27207 non-null  float64\n",
      " 19  maingenere                     27207 non-null  object \n",
      " 20  User                           27207 non-null  int32  \n",
      "dtypes: float64(14), int32(1), object(6)\n",
      "memory usage: 5.5+ MB\n"
     ]
    }
   ],
   "source": [
    "merge_unique_df.info()"
   ]
  },
  {
   "cell_type": "code",
   "execution_count": 25,
   "metadata": {},
   "outputs": [
    {
     "name": "stdout",
     "output_type": "stream",
     "text": [
      "<class 'pandas.core.frame.DataFrame'>\n",
      "Index: 27207 entries, -twistin'-White Silver SandsBill Black's Combo to Zunga ZengK7\n",
      "Data columns (total 21 columns):\n",
      " #   Column                         Non-Null Count  Dtype  \n",
      "---  ------                         --------------  -----  \n",
      " 0   Performer                      27207 non-null  object \n",
      " 1   Song                           27207 non-null  object \n",
      " 2   spotify_genre                  27207 non-null  object \n",
      " 3   spotify_track_duration_minute  27207 non-null  float64\n",
      " 4   spotify_track_explicit         27207 non-null  object \n",
      " 5   spotify_track_album            27207 non-null  object \n",
      " 6   danceability                   27207 non-null  float64\n",
      " 7   energy                         27207 non-null  float64\n",
      " 8   key                            27207 non-null  float64\n",
      " 9   loudness                       27207 non-null  float64\n",
      " 10  mode                           27207 non-null  float64\n",
      " 11  speechiness                    27207 non-null  float64\n",
      " 12  acousticness                   27207 non-null  float64\n",
      " 13  instrumentalness               27207 non-null  float64\n",
      " 14  liveness                       27207 non-null  float64\n",
      " 15  valence                        27207 non-null  float64\n",
      " 16  tempo                          27207 non-null  float64\n",
      " 17  time_signature                 27207 non-null  float64\n",
      " 18  spotify_track_popularity       27207 non-null  float64\n",
      " 19  maingenere                     27207 non-null  object \n",
      " 20  User                           27207 non-null  int32  \n",
      "dtypes: float64(14), int32(1), object(6)\n",
      "memory usage: 5.5+ MB\n"
     ]
    }
   ],
   "source": [
    "# i want to rename the column Cluster --> WILL BE OUR USER \n",
    "merge_unique_df.rename(columns={'cluster':'User'},inplace=True)\n",
    "merge_unique_df.info()"
   ]
  },
  {
   "cell_type": "code",
   "execution_count": 26,
   "metadata": {},
   "outputs": [
    {
     "data": {
      "text/plain": [
       "Index(['Performer', 'Song', 'spotify_genre', 'spotify_track_duration_minute',\n",
       "       'spotify_track_explicit', 'spotify_track_album', 'danceability',\n",
       "       'energy', 'key', 'loudness', 'mode', 'speechiness', 'acousticness',\n",
       "       'instrumentalness', 'liveness', 'valence', 'tempo', 'time_signature',\n",
       "       'spotify_track_popularity', 'maingenere', 'User'],\n",
       "      dtype='object')"
      ]
     },
     "execution_count": 26,
     "metadata": {},
     "output_type": "execute_result"
    }
   ],
   "source": [
    "# to see wich feature consider in the model \n",
    "merge_unique_df.columns"
   ]
  },
  {
   "cell_type": "code",
   "execution_count": 27,
   "metadata": {},
   "outputs": [
    {
     "data": {
      "text/plain": [
       "(27207, 21)"
      ]
     },
     "execution_count": 27,
     "metadata": {},
     "output_type": "execute_result"
    }
   ],
   "source": [
    "merge_unique_df.shape"
   ]
  },
  {
   "cell_type": "code",
   "execution_count": 28,
   "metadata": {},
   "outputs": [
    {
     "data": {
      "text/plain": [
       "Performer                        0\n",
       "Song                             0\n",
       "spotify_genre                    0\n",
       "spotify_track_duration_minute    0\n",
       "spotify_track_explicit           0\n",
       "spotify_track_album              0\n",
       "danceability                     0\n",
       "energy                           0\n",
       "key                              0\n",
       "loudness                         0\n",
       "mode                             0\n",
       "speechiness                      0\n",
       "acousticness                     0\n",
       "instrumentalness                 0\n",
       "liveness                         0\n",
       "valence                          0\n",
       "tempo                            0\n",
       "time_signature                   0\n",
       "spotify_track_popularity         0\n",
       "maingenere                       0\n",
       "User                             0\n",
       "dtype: int64"
      ]
     },
     "execution_count": 28,
     "metadata": {},
     "output_type": "execute_result"
    }
   ],
   "source": [
    "# to verify that we don't have Nan value after the marge\n",
    "merge_unique_df.isnull().sum()"
   ]
  },
  {
   "cell_type": "markdown",
   "metadata": {},
   "source": [
    "## PACKAGES"
   ]
  },
  {
   "cell_type": "code",
   "execution_count": 147,
   "metadata": {},
   "outputs": [
    {
     "name": "stdout",
     "output_type": "stream",
     "text": [
      "Requirement already satisfied: pydot in c:\\users\\elped\\appdata\\local\\programs\\python\\python312\\lib\\site-packages (3.0.3)"
     ]
    },
    {
     "name": "stderr",
     "output_type": "stream",
     "text": [
      "\n",
      "[notice] A new release of pip is available: 24.3.1 -> 25.0.1\n",
      "[notice] To update, run: python.exe -m pip install --upgrade pip\n"
     ]
    },
    {
     "name": "stdout",
     "output_type": "stream",
     "text": [
      "\n",
      "Requirement already satisfied: pyparsing>=3.0.9 in c:\\users\\elped\\appdata\\local\\programs\\python\\python312\\lib\\site-packages (from pydot) (3.1.2)\n"
     ]
    }
   ],
   "source": [
    "# package that we need\n",
    "import keras\n",
    "from keras.models import Sequential\n",
    "# we most use sequential model -> one layer after the other (sequence of layer)\n",
    "from keras.layers import Dense, Activation\n",
    "from keras.optimizers import Adam\n",
    "from tensorflow.keras.models import Sequential\n",
    "from tensorflow.keras.layers import Dense\n",
    "from tensorflow.keras.optimizers import SGD\n",
    "from tensorflow.keras.metrics import MeanAbsolutePercentageError\n",
    "import pandas as pd\n",
    "\n",
    "\n",
    "# non so se siano utili\n",
    "from sklearn.model_selection import train_test_split\n",
    "from sklearn.preprocessing import StandardScaler, LabelEncoder\n",
    "from sklearn.metrics import mean_squared_error\n",
    "from sklearn.metrics import confusion_matrix, ConfusionMatrixDisplay\n",
    "\n",
    "# essential\n",
    "import numpy as np\n",
    "import matplotlib.pyplot as plt\n",
    "\n",
    "#correlation\n",
    "import seaborn as sns\n",
    "\n",
    "\n",
    "#RICORDARE DA INSTALLARE PEDROLLO \n",
    "! pip install pydot"
   ]
  },
  {
   "cell_type": "markdown",
   "metadata": {},
   "source": [
    "## Now we can try to develop our (first) NN"
   ]
  },
  {
   "cell_type": "code",
   "execution_count": 30,
   "metadata": {},
   "outputs": [],
   "source": [
    "# fisrt we define the FEATURE of our model --> INPUT\n",
    "feature=[    'spotify_track_duration_minute', 'danceability', 'energy', 'key', 'loudness',\n",
    "    'mode', 'speechiness', 'acousticness', 'tempo', 'time_signature',\n",
    "    'spotify_track_popularity', 'instrumentalness', 'liveness']\n",
    "# now we have to define our TARGET (what we are interested in) --> OUTPUT\n",
    "target='valence'\n",
    "\n",
    "# we also define the USER, since we train the model dividing by users\n",
    "user='User'"
   ]
  },
  {
   "cell_type": "code",
   "execution_count": 31,
   "metadata": {},
   "outputs": [
    {
     "data": {
      "text/plain": [
       "13"
      ]
     },
     "execution_count": 31,
     "metadata": {},
     "output_type": "execute_result"
    }
   ],
   "source": [
    "len(feature)"
   ]
  },
  {
   "cell_type": "markdown",
   "metadata": {},
   "source": [
    "### USER 1 - Test\n"
   ]
  },
  {
   "cell_type": "code",
   "execution_count": 32,
   "metadata": {},
   "outputs": [
    {
     "data": {
      "text/plain": [
       "(4669, 21)"
      ]
     },
     "execution_count": 32,
     "metadata": {},
     "output_type": "execute_result"
    }
   ],
   "source": [
    "# first we have to obtain only the songs listen to the USER1\n",
    "mask_user1=merge_unique_df['User']==1\n",
    "user1_df=merge_unique_df[mask_user1]\n",
    "user1_df.shape"
   ]
  },
  {
   "cell_type": "code",
   "execution_count": 33,
   "metadata": {},
   "outputs": [
    {
     "data": {
      "text/plain": [
       "array([1])"
      ]
     },
     "execution_count": 33,
     "metadata": {},
     "output_type": "execute_result"
    }
   ],
   "source": [
    "user1_df.User.unique()"
   ]
  },
  {
   "cell_type": "code",
   "execution_count": 34,
   "metadata": {},
   "outputs": [
    {
     "data": {
      "text/html": [
       "<div>\n",
       "<style scoped>\n",
       "    .dataframe tbody tr th:only-of-type {\n",
       "        vertical-align: middle;\n",
       "    }\n",
       "\n",
       "    .dataframe tbody tr th {\n",
       "        vertical-align: top;\n",
       "    }\n",
       "\n",
       "    .dataframe thead th {\n",
       "        text-align: right;\n",
       "    }\n",
       "</style>\n",
       "<table border=\"1\" class=\"dataframe\">\n",
       "  <thead>\n",
       "    <tr style=\"text-align: right;\">\n",
       "      <th></th>\n",
       "      <th>Performer</th>\n",
       "      <th>Song</th>\n",
       "      <th>spotify_genre</th>\n",
       "      <th>spotify_track_duration_minute</th>\n",
       "      <th>spotify_track_explicit</th>\n",
       "      <th>spotify_track_album</th>\n",
       "      <th>danceability</th>\n",
       "      <th>energy</th>\n",
       "      <th>key</th>\n",
       "      <th>loudness</th>\n",
       "      <th>...</th>\n",
       "      <th>speechiness</th>\n",
       "      <th>acousticness</th>\n",
       "      <th>instrumentalness</th>\n",
       "      <th>liveness</th>\n",
       "      <th>valence</th>\n",
       "      <th>tempo</th>\n",
       "      <th>time_signature</th>\n",
       "      <th>spotify_track_popularity</th>\n",
       "      <th>maingenere</th>\n",
       "      <th>User</th>\n",
       "    </tr>\n",
       "    <tr>\n",
       "      <th>SongID</th>\n",
       "      <th></th>\n",
       "      <th></th>\n",
       "      <th></th>\n",
       "      <th></th>\n",
       "      <th></th>\n",
       "      <th></th>\n",
       "      <th></th>\n",
       "      <th></th>\n",
       "      <th></th>\n",
       "      <th></th>\n",
       "      <th></th>\n",
       "      <th></th>\n",
       "      <th></th>\n",
       "      <th></th>\n",
       "      <th></th>\n",
       "      <th></th>\n",
       "      <th></th>\n",
       "      <th></th>\n",
       "      <th></th>\n",
       "      <th></th>\n",
       "      <th></th>\n",
       "    </tr>\n",
       "  </thead>\n",
       "  <tbody>\n",
       "    <tr>\n",
       "      <th>'65 Love AffairPaul Davis</th>\n",
       "      <td>Paul Davis</td>\n",
       "      <td>'65 Love Affair</td>\n",
       "      <td>['album rock', 'bubblegum pop', 'country rock'...</td>\n",
       "      <td>3.66</td>\n",
       "      <td>False</td>\n",
       "      <td>Radio Hits Of the '80s</td>\n",
       "      <td>0.647</td>\n",
       "      <td>0.686</td>\n",
       "      <td>2.0</td>\n",
       "      <td>-4.247</td>\n",
       "      <td>...</td>\n",
       "      <td>0.0274</td>\n",
       "      <td>0.4320</td>\n",
       "      <td>0.000006</td>\n",
       "      <td>0.1330</td>\n",
       "      <td>0.952</td>\n",
       "      <td>155.697</td>\n",
       "      <td>4.0</td>\n",
       "      <td>40.0</td>\n",
       "      <td>rock</td>\n",
       "      <td>1</td>\n",
       "    </tr>\n",
       "    <tr>\n",
       "      <th>'til I Can Make It On My OwnTammy Wynette</th>\n",
       "      <td>Tammy Wynette</td>\n",
       "      <td>'til I Can Make It On My Own</td>\n",
       "      <td>['country', 'country dawn', 'nashville sound']</td>\n",
       "      <td>3.03</td>\n",
       "      <td>False</td>\n",
       "      <td>The Essential Tammy Wynette</td>\n",
       "      <td>0.450</td>\n",
       "      <td>0.294</td>\n",
       "      <td>7.0</td>\n",
       "      <td>-12.022</td>\n",
       "      <td>...</td>\n",
       "      <td>0.0318</td>\n",
       "      <td>0.8320</td>\n",
       "      <td>0.000035</td>\n",
       "      <td>0.1080</td>\n",
       "      <td>0.146</td>\n",
       "      <td>141.148</td>\n",
       "      <td>4.0</td>\n",
       "      <td>31.0</td>\n",
       "      <td>country</td>\n",
       "      <td>1</td>\n",
       "    </tr>\n",
       "    <tr>\n",
       "      <th>'Til My Baby Comes HomeLuther Vandross</th>\n",
       "      <td>Luther Vandross</td>\n",
       "      <td>'Til My Baby Comes Home</td>\n",
       "      <td>['funk', 'motown', 'neo soul', 'new jack swing...</td>\n",
       "      <td>5.54</td>\n",
       "      <td>False</td>\n",
       "      <td>The Night I Fell In Love</td>\n",
       "      <td>0.804</td>\n",
       "      <td>0.714</td>\n",
       "      <td>11.0</td>\n",
       "      <td>-6.714</td>\n",
       "      <td>...</td>\n",
       "      <td>0.1830</td>\n",
       "      <td>0.0567</td>\n",
       "      <td>0.000006</td>\n",
       "      <td>0.0253</td>\n",
       "      <td>0.802</td>\n",
       "      <td>139.663</td>\n",
       "      <td>4.0</td>\n",
       "      <td>29.0</td>\n",
       "      <td>soul</td>\n",
       "      <td>1</td>\n",
       "    </tr>\n",
       "  </tbody>\n",
       "</table>\n",
       "<p>3 rows × 21 columns</p>\n",
       "</div>"
      ],
      "text/plain": [
       "                                                 Performer  \\\n",
       "SongID                                                       \n",
       "'65 Love AffairPaul Davis                       Paul Davis   \n",
       "'til I Can Make It On My OwnTammy Wynette    Tammy Wynette   \n",
       "'Til My Baby Comes HomeLuther Vandross     Luther Vandross   \n",
       "\n",
       "                                                                   Song  \\\n",
       "SongID                                                                    \n",
       "'65 Love AffairPaul Davis                               '65 Love Affair   \n",
       "'til I Can Make It On My OwnTammy Wynette  'til I Can Make It On My Own   \n",
       "'Til My Baby Comes HomeLuther Vandross          'Til My Baby Comes Home   \n",
       "\n",
       "                                                                               spotify_genre  \\\n",
       "SongID                                                                                         \n",
       "'65 Love AffairPaul Davis                  ['album rock', 'bubblegum pop', 'country rock'...   \n",
       "'til I Can Make It On My OwnTammy Wynette     ['country', 'country dawn', 'nashville sound']   \n",
       "'Til My Baby Comes HomeLuther Vandross     ['funk', 'motown', 'neo soul', 'new jack swing...   \n",
       "\n",
       "                                           spotify_track_duration_minute  \\\n",
       "SongID                                                                     \n",
       "'65 Love AffairPaul Davis                                           3.66   \n",
       "'til I Can Make It On My OwnTammy Wynette                           3.03   \n",
       "'Til My Baby Comes HomeLuther Vandross                              5.54   \n",
       "\n",
       "                                          spotify_track_explicit  \\\n",
       "SongID                                                             \n",
       "'65 Love AffairPaul Davis                                  False   \n",
       "'til I Can Make It On My OwnTammy Wynette                  False   \n",
       "'Til My Baby Comes HomeLuther Vandross                     False   \n",
       "\n",
       "                                                   spotify_track_album  \\\n",
       "SongID                                                                   \n",
       "'65 Love AffairPaul Davis                       Radio Hits Of the '80s   \n",
       "'til I Can Make It On My OwnTammy Wynette  The Essential Tammy Wynette   \n",
       "'Til My Baby Comes HomeLuther Vandross        The Night I Fell In Love   \n",
       "\n",
       "                                           danceability  energy   key  \\\n",
       "SongID                                                                  \n",
       "'65 Love AffairPaul Davis                         0.647   0.686   2.0   \n",
       "'til I Can Make It On My OwnTammy Wynette         0.450   0.294   7.0   \n",
       "'Til My Baby Comes HomeLuther Vandross            0.804   0.714  11.0   \n",
       "\n",
       "                                           loudness  ...  speechiness  \\\n",
       "SongID                                               ...                \n",
       "'65 Love AffairPaul Davis                    -4.247  ...       0.0274   \n",
       "'til I Can Make It On My OwnTammy Wynette   -12.022  ...       0.0318   \n",
       "'Til My Baby Comes HomeLuther Vandross       -6.714  ...       0.1830   \n",
       "\n",
       "                                           acousticness  instrumentalness  \\\n",
       "SongID                                                                      \n",
       "'65 Love AffairPaul Davis                        0.4320          0.000006   \n",
       "'til I Can Make It On My OwnTammy Wynette        0.8320          0.000035   \n",
       "'Til My Baby Comes HomeLuther Vandross           0.0567          0.000006   \n",
       "\n",
       "                                           liveness  valence    tempo  \\\n",
       "SongID                                                                  \n",
       "'65 Love AffairPaul Davis                    0.1330    0.952  155.697   \n",
       "'til I Can Make It On My OwnTammy Wynette    0.1080    0.146  141.148   \n",
       "'Til My Baby Comes HomeLuther Vandross       0.0253    0.802  139.663   \n",
       "\n",
       "                                           time_signature  \\\n",
       "SongID                                                      \n",
       "'65 Love AffairPaul Davis                             4.0   \n",
       "'til I Can Make It On My OwnTammy Wynette             4.0   \n",
       "'Til My Baby Comes HomeLuther Vandross                4.0   \n",
       "\n",
       "                                           spotify_track_popularity  \\\n",
       "SongID                                                                \n",
       "'65 Love AffairPaul Davis                                      40.0   \n",
       "'til I Can Make It On My OwnTammy Wynette                      31.0   \n",
       "'Til My Baby Comes HomeLuther Vandross                         29.0   \n",
       "\n",
       "                                           maingenere User  \n",
       "SongID                                                      \n",
       "'65 Love AffairPaul Davis                        rock    1  \n",
       "'til I Can Make It On My OwnTammy Wynette     country    1  \n",
       "'Til My Baby Comes HomeLuther Vandross           soul    1  \n",
       "\n",
       "[3 rows x 21 columns]"
      ]
     },
     "execution_count": 34,
     "metadata": {},
     "output_type": "execute_result"
    }
   ],
   "source": [
    "# we obtain the user1 subset\n",
    "user1_df.head(3)"
   ]
  },
  {
   "cell_type": "code",
   "execution_count": 35,
   "metadata": {},
   "outputs": [
    {
     "name": "stdout",
     "output_type": "stream",
     "text": [
      "maingenere\n",
      "pop        1256\n",
      "rock       1108\n",
      "country     521\n",
      "rap         520\n",
      "other       483\n",
      "soul        308\n",
      "metal        69\n",
      "disco        66\n",
      "dance        65\n",
      "folk         50\n",
      "blues        48\n",
      "jazz         43\n",
      "funk         40\n",
      "house        31\n",
      "indie        24\n",
      "r&b          23\n",
      "latin        14\n",
      "Name: count, dtype: int64\n"
     ]
    },
    {
     "data": {
      "text/plain": [
       "maingenere\n",
       "blues      0.825375\n",
       "country    0.496266\n",
       "dance      0.601092\n",
       "disco      0.648318\n",
       "folk       0.602440\n",
       "funk       0.601755\n",
       "house      0.552652\n",
       "indie      0.682583\n",
       "jazz       0.603488\n",
       "latin      0.709857\n",
       "metal      0.374229\n",
       "other      0.664371\n",
       "pop        0.595602\n",
       "r&b        0.533957\n",
       "rap        0.460987\n",
       "rock       0.631969\n",
       "soul       0.655705\n",
       "Name: valence, dtype: float64"
      ]
     },
     "metadata": {},
     "output_type": "display_data"
    }
   ],
   "source": [
    "#E SE TRASFORMASSIMO IL MAINGENERE IN UN NUMERO????? POTREBBE ESSERE UTILE PER CONSIGLIARE LE CANZONI?? (magari in un mese ascolta solo un genere quindi meglio consigliargli un genere simile)\n",
    "print(user1_df['maingenere'].value_counts()) #check song recensite\n",
    "mean_valence_maingenere = user1_df.groupby('maingenere')['valence'].mean() #check the mean for maingenere (the averege rank that the usere give to some type of songs)\n",
    "display(mean_valence_maingenere)"
   ]
  },
  {
   "cell_type": "markdown",
   "metadata": {},
   "source": [
    "Note:\n",
    "in order to understand the property of our cluster, we check for wich is the mean vote for each maingenre:\n",
    "\n",
    "we see that the user like a lot blues and don't like metal, this generes can be use to test the model \n",
    "\n",
    "(check if the model propose the song with this main genere)"
   ]
  },
  {
   "cell_type": "code",
   "execution_count": 36,
   "metadata": {},
   "outputs": [],
   "source": [
    "# now we estract the FEATURE\n",
    "x=user1_df[feature]\n",
    "#x.columns\n",
    "\n",
    "# and the TARGET\n",
    "y=user1_df[target]\n",
    "#y"
   ]
  },
  {
   "cell_type": "code",
   "execution_count": 37,
   "metadata": {},
   "outputs": [],
   "source": [
    "# NORMALIZE OUR FEATURES\n",
    "\n",
    "scaler=StandardScaler()\n",
    "\n",
    "x_scaled=scaler.fit_transform(x)"
   ]
  },
  {
   "cell_type": "code",
   "execution_count": 38,
   "metadata": {},
   "outputs": [],
   "source": [
    "# now we divide the df in test and train \n",
    "# necessary in order test our results after the application of the model\n",
    "x_train,x_test,y_train,y_test=train_test_split(x_scaled,y,test_size=0.2,random_state=42)"
   ]
  },
  {
   "cell_type": "code",
   "execution_count": 39,
   "metadata": {},
   "outputs": [
    {
     "data": {
      "text/plain": [
       "((3735, 13), (934, 13), (3735,), (934,))"
      ]
     },
     "execution_count": 39,
     "metadata": {},
     "output_type": "execute_result"
    }
   ],
   "source": [
    "# for keras we need to convert y_train and y_test in Numpy array \n",
    "y_train=np.array(y_train)\n",
    "y_test=np.array(y_test)\n",
    "\n",
    "#before apply the model we need to verify the shape of this array\n",
    "\n",
    "x_train.shape,x_test.shape,y_train.shape,y_test.shape"
   ]
  },
  {
   "cell_type": "code",
   "execution_count": 40,
   "metadata": {},
   "outputs": [
    {
     "data": {
      "text/plain": [
       "13"
      ]
     },
     "execution_count": 40,
     "metadata": {},
     "output_type": "execute_result"
    }
   ],
   "source": [
    "x_train.shape[1]"
   ]
  },
  {
   "cell_type": "code",
   "execution_count": 41,
   "metadata": {},
   "outputs": [
    {
     "data": {
      "text/plain": [
       "Index(['spotify_track_duration_minute', 'danceability', 'energy', 'key',\n",
       "       'loudness', 'mode', 'speechiness', 'acousticness', 'tempo',\n",
       "       'time_signature', 'spotify_track_popularity', 'instrumentalness',\n",
       "       'liveness'],\n",
       "      dtype='object')"
      ]
     },
     "execution_count": 41,
     "metadata": {},
     "output_type": "execute_result"
    }
   ],
   "source": [
    "# are 13 as the number of input that we have to insert in the input_dim --> only in the first layer\n",
    "x.columns"
   ]
  },
  {
   "cell_type": "code",
   "execution_count": 153,
   "metadata": {},
   "outputs": [
    {
     "name": "stderr",
     "output_type": "stream",
     "text": [
      "c:\\Users\\elped\\AppData\\Local\\Programs\\Python\\Python312\\Lib\\site-packages\\keras\\src\\layers\\core\\dense.py:87: UserWarning: Do not pass an `input_shape`/`input_dim` argument to a layer. When using Sequential models, prefer using an `Input(shape)` object as the first layer in the model instead.\n",
      "  super().__init__(activity_regularizer=activity_regularizer, **kwargs)\n"
     ]
    }
   ],
   "source": [
    "# NOW WE CAN TRY TO APPLY OUR NN (LINEAR)\n",
    "model_user1=Sequential([\n",
    "    Dense(32,input_dim=x_train.shape[1],activation='relu',name='first_layer'),\n",
    "    # 64 as the number of initial layer is a common choice when we build a NN --> VEDIAMO COME FUNZIA POI NEL CASO SI SISTEMA IN SEGUITO\n",
    "    # input_dim: take the dimension of the x_train array --> that is equivalent to the number of feature in input\n",
    "    \n",
    "    # SI POSSONO AGGIUNGERE PER OGNI LAYER --> Dropout(0.3) per evitare overfitting\n",
    "    \n",
    "\n",
    "    Dense(16,activation='relu',name='secod_layer'),\n",
    "    #Dense(1,activation='linear',name='final_layer')\n",
    "    Dense(1,activation='sigmoid',name='final_layer') #ATENZION PROVIAMO SIGMOID PRCHè CI SERVE UN OUTPUT NEL RANGE DI O E 1 \n",
    "])"
   ]
  },
  {
   "cell_type": "code",
   "execution_count": 154,
   "metadata": {},
   "outputs": [
    {
     "data": {
      "text/html": [
       "<pre style=\"white-space:pre;overflow-x:auto;line-height:normal;font-family:Menlo,'DejaVu Sans Mono',consolas,'Courier New',monospace\"><span style=\"font-weight: bold\">Model: \"sequential_11\"</span>\n",
       "</pre>\n"
      ],
      "text/plain": [
       "\u001b[1mModel: \"sequential_11\"\u001b[0m\n"
      ]
     },
     "metadata": {},
     "output_type": "display_data"
    },
    {
     "data": {
      "text/html": [
       "<pre style=\"white-space:pre;overflow-x:auto;line-height:normal;font-family:Menlo,'DejaVu Sans Mono',consolas,'Courier New',monospace\">┏━━━━━━━━━━━━━━━━━━━━━━━━━━━━━━━━━┳━━━━━━━━━━━━━━━━━━━━━━━━┳━━━━━━━━━━━━━━━┓\n",
       "┃<span style=\"font-weight: bold\"> Layer (type)                    </span>┃<span style=\"font-weight: bold\"> Output Shape           </span>┃<span style=\"font-weight: bold\">       Param # </span>┃\n",
       "┡━━━━━━━━━━━━━━━━━━━━━━━━━━━━━━━━━╇━━━━━━━━━━━━━━━━━━━━━━━━╇━━━━━━━━━━━━━━━┩\n",
       "│ first_layer (<span style=\"color: #0087ff; text-decoration-color: #0087ff\">Dense</span>)             │ (<span style=\"color: #00d7ff; text-decoration-color: #00d7ff\">None</span>, <span style=\"color: #00af00; text-decoration-color: #00af00\">32</span>)             │           <span style=\"color: #00af00; text-decoration-color: #00af00\">448</span> │\n",
       "├─────────────────────────────────┼────────────────────────┼───────────────┤\n",
       "│ secod_layer (<span style=\"color: #0087ff; text-decoration-color: #0087ff\">Dense</span>)             │ (<span style=\"color: #00d7ff; text-decoration-color: #00d7ff\">None</span>, <span style=\"color: #00af00; text-decoration-color: #00af00\">16</span>)             │           <span style=\"color: #00af00; text-decoration-color: #00af00\">528</span> │\n",
       "├─────────────────────────────────┼────────────────────────┼───────────────┤\n",
       "│ final_layer (<span style=\"color: #0087ff; text-decoration-color: #0087ff\">Dense</span>)             │ (<span style=\"color: #00d7ff; text-decoration-color: #00d7ff\">None</span>, <span style=\"color: #00af00; text-decoration-color: #00af00\">1</span>)              │            <span style=\"color: #00af00; text-decoration-color: #00af00\">17</span> │\n",
       "└─────────────────────────────────┴────────────────────────┴───────────────┘\n",
       "</pre>\n"
      ],
      "text/plain": [
       "┏━━━━━━━━━━━━━━━━━━━━━━━━━━━━━━━━━┳━━━━━━━━━━━━━━━━━━━━━━━━┳━━━━━━━━━━━━━━━┓\n",
       "┃\u001b[1m \u001b[0m\u001b[1mLayer (type)                   \u001b[0m\u001b[1m \u001b[0m┃\u001b[1m \u001b[0m\u001b[1mOutput Shape          \u001b[0m\u001b[1m \u001b[0m┃\u001b[1m \u001b[0m\u001b[1m      Param #\u001b[0m\u001b[1m \u001b[0m┃\n",
       "┡━━━━━━━━━━━━━━━━━━━━━━━━━━━━━━━━━╇━━━━━━━━━━━━━━━━━━━━━━━━╇━━━━━━━━━━━━━━━┩\n",
       "│ first_layer (\u001b[38;5;33mDense\u001b[0m)             │ (\u001b[38;5;45mNone\u001b[0m, \u001b[38;5;34m32\u001b[0m)             │           \u001b[38;5;34m448\u001b[0m │\n",
       "├─────────────────────────────────┼────────────────────────┼───────────────┤\n",
       "│ secod_layer (\u001b[38;5;33mDense\u001b[0m)             │ (\u001b[38;5;45mNone\u001b[0m, \u001b[38;5;34m16\u001b[0m)             │           \u001b[38;5;34m528\u001b[0m │\n",
       "├─────────────────────────────────┼────────────────────────┼───────────────┤\n",
       "│ final_layer (\u001b[38;5;33mDense\u001b[0m)             │ (\u001b[38;5;45mNone\u001b[0m, \u001b[38;5;34m1\u001b[0m)              │            \u001b[38;5;34m17\u001b[0m │\n",
       "└─────────────────────────────────┴────────────────────────┴───────────────┘\n"
      ]
     },
     "metadata": {},
     "output_type": "display_data"
    },
    {
     "data": {
      "text/html": [
       "<pre style=\"white-space:pre;overflow-x:auto;line-height:normal;font-family:Menlo,'DejaVu Sans Mono',consolas,'Courier New',monospace\"><span style=\"font-weight: bold\"> Total params: </span><span style=\"color: #00af00; text-decoration-color: #00af00\">993</span> (3.88 KB)\n",
       "</pre>\n"
      ],
      "text/plain": [
       "\u001b[1m Total params: \u001b[0m\u001b[38;5;34m993\u001b[0m (3.88 KB)\n"
      ]
     },
     "metadata": {},
     "output_type": "display_data"
    },
    {
     "data": {
      "text/html": [
       "<pre style=\"white-space:pre;overflow-x:auto;line-height:normal;font-family:Menlo,'DejaVu Sans Mono',consolas,'Courier New',monospace\"><span style=\"font-weight: bold\"> Trainable params: </span><span style=\"color: #00af00; text-decoration-color: #00af00\">993</span> (3.88 KB)\n",
       "</pre>\n"
      ],
      "text/plain": [
       "\u001b[1m Trainable params: \u001b[0m\u001b[38;5;34m993\u001b[0m (3.88 KB)\n"
      ]
     },
     "metadata": {},
     "output_type": "display_data"
    },
    {
     "data": {
      "text/html": [
       "<pre style=\"white-space:pre;overflow-x:auto;line-height:normal;font-family:Menlo,'DejaVu Sans Mono',consolas,'Courier New',monospace\"><span style=\"font-weight: bold\"> Non-trainable params: </span><span style=\"color: #00af00; text-decoration-color: #00af00\">0</span> (0.00 B)\n",
       "</pre>\n"
      ],
      "text/plain": [
       "\u001b[1m Non-trainable params: \u001b[0m\u001b[38;5;34m0\u001b[0m (0.00 B)\n"
      ]
     },
     "metadata": {},
     "output_type": "display_data"
    }
   ],
   "source": [
    "# Now we try to compile the model\n",
    "model_user1.compile(optimizer='adam',loss='mse',metrics=['mae']) #CAN WE PUT ALSO ACCURACY IN METRICS?\n",
    "\n",
    "#now see some results\n",
    "model_user1.summary()"
   ]
  },
  {
   "cell_type": "code",
   "execution_count": 155,
   "metadata": {},
   "outputs": [
    {
     "name": "stdout",
     "output_type": "stream",
     "text": [
      "Epoch 1/30\n",
      "\u001b[1m114/114\u001b[0m \u001b[32m━━━━━━━━━━━━━━━━━━━━\u001b[0m\u001b[37m\u001b[0m \u001b[1m2s\u001b[0m 5ms/step - loss: 0.0454 - mae: 0.1767 - val_loss: 0.0351 - val_mae: 0.1518\n",
      "Epoch 2/30\n",
      "\u001b[1m114/114\u001b[0m \u001b[32m━━━━━━━━━━━━━━━━━━━━\u001b[0m\u001b[37m\u001b[0m \u001b[1m0s\u001b[0m 2ms/step - loss: 0.0314 - mae: 0.1432 - val_loss: 0.0316 - val_mae: 0.1438\n",
      "Epoch 3/30\n",
      "\u001b[1m114/114\u001b[0m \u001b[32m━━━━━━━━━━━━━━━━━━━━\u001b[0m\u001b[37m\u001b[0m \u001b[1m0s\u001b[0m 2ms/step - loss: 0.0296 - mae: 0.1377 - val_loss: 0.0308 - val_mae: 0.1416\n",
      "Epoch 4/30\n",
      "\u001b[1m114/114\u001b[0m \u001b[32m━━━━━━━━━━━━━━━━━━━━\u001b[0m\u001b[37m\u001b[0m \u001b[1m0s\u001b[0m 3ms/step - loss: 0.0288 - mae: 0.1354 - val_loss: 0.0302 - val_mae: 0.1401\n",
      "Epoch 5/30\n",
      "\u001b[1m114/114\u001b[0m \u001b[32m━━━━━━━━━━━━━━━━━━━━\u001b[0m\u001b[37m\u001b[0m \u001b[1m0s\u001b[0m 2ms/step - loss: 0.0279 - mae: 0.1325 - val_loss: 0.0301 - val_mae: 0.1386\n",
      "Epoch 6/30\n",
      "\u001b[1m114/114\u001b[0m \u001b[32m━━━━━━━━━━━━━━━━━━━━\u001b[0m\u001b[37m\u001b[0m \u001b[1m0s\u001b[0m 2ms/step - loss: 0.0276 - mae: 0.1317 - val_loss: 0.0296 - val_mae: 0.1381\n",
      "Epoch 7/30\n",
      "\u001b[1m114/114\u001b[0m \u001b[32m━━━━━━━━━━━━━━━━━━━━\u001b[0m\u001b[37m\u001b[0m \u001b[1m1s\u001b[0m 2ms/step - loss: 0.0279 - mae: 0.1325 - val_loss: 0.0294 - val_mae: 0.1373\n",
      "Epoch 8/30\n",
      "\u001b[1m114/114\u001b[0m \u001b[32m━━━━━━━━━━━━━━━━━━━━\u001b[0m\u001b[37m\u001b[0m \u001b[1m0s\u001b[0m 3ms/step - loss: 0.0265 - mae: 0.1283 - val_loss: 0.0291 - val_mae: 0.1376\n",
      "Epoch 9/30\n",
      "\u001b[1m114/114\u001b[0m \u001b[32m━━━━━━━━━━━━━━━━━━━━\u001b[0m\u001b[37m\u001b[0m \u001b[1m0s\u001b[0m 2ms/step - loss: 0.0276 - mae: 0.1319 - val_loss: 0.0290 - val_mae: 0.1371\n",
      "Epoch 10/30\n",
      "\u001b[1m114/114\u001b[0m \u001b[32m━━━━━━━━━━━━━━━━━━━━\u001b[0m\u001b[37m\u001b[0m \u001b[1m1s\u001b[0m 9ms/step - loss: 0.0258 - mae: 0.1276 - val_loss: 0.0289 - val_mae: 0.1369\n",
      "Epoch 11/30\n",
      "\u001b[1m114/114\u001b[0m \u001b[32m━━━━━━━━━━━━━━━━━━━━\u001b[0m\u001b[37m\u001b[0m \u001b[1m1s\u001b[0m 8ms/step - loss: 0.0254 - mae: 0.1264 - val_loss: 0.0289 - val_mae: 0.1372\n",
      "Epoch 12/30\n",
      "\u001b[1m114/114\u001b[0m \u001b[32m━━━━━━━━━━━━━━━━━━━━\u001b[0m\u001b[37m\u001b[0m \u001b[1m1s\u001b[0m 4ms/step - loss: 0.0259 - mae: 0.1272 - val_loss: 0.0287 - val_mae: 0.1363\n",
      "Epoch 13/30\n",
      "\u001b[1m114/114\u001b[0m \u001b[32m━━━━━━━━━━━━━━━━━━━━\u001b[0m\u001b[37m\u001b[0m \u001b[1m0s\u001b[0m 3ms/step - loss: 0.0268 - mae: 0.1295 - val_loss: 0.0289 - val_mae: 0.1368\n",
      "Epoch 14/30\n",
      "\u001b[1m114/114\u001b[0m \u001b[32m━━━━━━━━━━━━━━━━━━━━\u001b[0m\u001b[37m\u001b[0m \u001b[1m0s\u001b[0m 3ms/step - loss: 0.0247 - mae: 0.1235 - val_loss: 0.0288 - val_mae: 0.1374\n",
      "Epoch 15/30\n",
      "\u001b[1m114/114\u001b[0m \u001b[32m━━━━━━━━━━━━━━━━━━━━\u001b[0m\u001b[37m\u001b[0m \u001b[1m0s\u001b[0m 3ms/step - loss: 0.0258 - mae: 0.1271 - val_loss: 0.0289 - val_mae: 0.1377\n",
      "Epoch 16/30\n",
      "\u001b[1m114/114\u001b[0m \u001b[32m━━━━━━━━━━━━━━━━━━━━\u001b[0m\u001b[37m\u001b[0m \u001b[1m1s\u001b[0m 6ms/step - loss: 0.0258 - mae: 0.1268 - val_loss: 0.0287 - val_mae: 0.1367\n",
      "Epoch 17/30\n",
      "\u001b[1m114/114\u001b[0m \u001b[32m━━━━━━━━━━━━━━━━━━━━\u001b[0m\u001b[37m\u001b[0m \u001b[1m0s\u001b[0m 3ms/step - loss: 0.0258 - mae: 0.1274 - val_loss: 0.0288 - val_mae: 0.1363\n",
      "Epoch 18/30\n",
      "\u001b[1m114/114\u001b[0m \u001b[32m━━━━━━━━━━━━━━━━━━━━\u001b[0m\u001b[37m\u001b[0m \u001b[1m0s\u001b[0m 4ms/step - loss: 0.0255 - mae: 0.1257 - val_loss: 0.0287 - val_mae: 0.1362\n",
      "Epoch 19/30\n",
      "\u001b[1m114/114\u001b[0m \u001b[32m━━━━━━━━━━━━━━━━━━━━\u001b[0m\u001b[37m\u001b[0m \u001b[1m0s\u001b[0m 3ms/step - loss: 0.0246 - mae: 0.1236 - val_loss: 0.0289 - val_mae: 0.1362\n",
      "Epoch 20/30\n",
      "\u001b[1m114/114\u001b[0m \u001b[32m━━━━━━━━━━━━━━━━━━━━\u001b[0m\u001b[37m\u001b[0m \u001b[1m1s\u001b[0m 3ms/step - loss: 0.0244 - mae: 0.1230 - val_loss: 0.0289 - val_mae: 0.1357\n",
      "Epoch 21/30\n",
      "\u001b[1m114/114\u001b[0m \u001b[32m━━━━━━━━━━━━━━━━━━━━\u001b[0m\u001b[37m\u001b[0m \u001b[1m1s\u001b[0m 3ms/step - loss: 0.0255 - mae: 0.1254 - val_loss: 0.0288 - val_mae: 0.1359\n",
      "Epoch 22/30\n",
      "\u001b[1m114/114\u001b[0m \u001b[32m━━━━━━━━━━━━━━━━━━━━\u001b[0m\u001b[37m\u001b[0m \u001b[1m0s\u001b[0m 3ms/step - loss: 0.0230 - mae: 0.1195 - val_loss: 0.0287 - val_mae: 0.1357\n",
      "Epoch 23/30\n",
      "\u001b[1m114/114\u001b[0m \u001b[32m━━━━━━━━━━━━━━━━━━━━\u001b[0m\u001b[37m\u001b[0m \u001b[1m0s\u001b[0m 3ms/step - loss: 0.0252 - mae: 0.1252 - val_loss: 0.0288 - val_mae: 0.1364\n",
      "Epoch 24/30\n",
      "\u001b[1m114/114\u001b[0m \u001b[32m━━━━━━━━━━━━━━━━━━━━\u001b[0m\u001b[37m\u001b[0m \u001b[1m0s\u001b[0m 3ms/step - loss: 0.0240 - mae: 0.1223 - val_loss: 0.0287 - val_mae: 0.1360\n",
      "Epoch 25/30\n",
      "\u001b[1m114/114\u001b[0m \u001b[32m━━━━━━━━━━━━━━━━━━━━\u001b[0m\u001b[37m\u001b[0m \u001b[1m0s\u001b[0m 3ms/step - loss: 0.0241 - mae: 0.1231 - val_loss: 0.0289 - val_mae: 0.1366\n",
      "Epoch 26/30\n",
      "\u001b[1m114/114\u001b[0m \u001b[32m━━━━━━━━━━━━━━━━━━━━\u001b[0m\u001b[37m\u001b[0m \u001b[1m0s\u001b[0m 3ms/step - loss: 0.0243 - mae: 0.1226 - val_loss: 0.0288 - val_mae: 0.1364\n",
      "Epoch 27/30\n",
      "\u001b[1m114/114\u001b[0m \u001b[32m━━━━━━━━━━━━━━━━━━━━\u001b[0m\u001b[37m\u001b[0m \u001b[1m0s\u001b[0m 3ms/step - loss: 0.0248 - mae: 0.1252 - val_loss: 0.0288 - val_mae: 0.1355\n",
      "Epoch 28/30\n",
      "\u001b[1m114/114\u001b[0m \u001b[32m━━━━━━━━━━━━━━━━━━━━\u001b[0m\u001b[37m\u001b[0m \u001b[1m1s\u001b[0m 3ms/step - loss: 0.0236 - mae: 0.1206 - val_loss: 0.0288 - val_mae: 0.1362\n",
      "Epoch 29/30\n",
      "\u001b[1m114/114\u001b[0m \u001b[32m━━━━━━━━━━━━━━━━━━━━\u001b[0m\u001b[37m\u001b[0m \u001b[1m1s\u001b[0m 3ms/step - loss: 0.0244 - mae: 0.1243 - val_loss: 0.0288 - val_mae: 0.1366\n",
      "Epoch 30/30\n",
      "\u001b[1m114/114\u001b[0m \u001b[32m━━━━━━━━━━━━━━━━━━━━\u001b[0m\u001b[37m\u001b[0m \u001b[1m0s\u001b[0m 3ms/step - loss: 0.0239 - mae: 0.1227 - val_loss: 0.0289 - val_mae: 0.1366\n"
     ]
    }
   ],
   "source": [
    "# Now we can train our model\n",
    "history_model_user1=model_user1.fit(\n",
    "    x_train,y_train,\n",
    "    validation_split=0.2,\n",
    "    epochs=30,\n",
    "    batch_size=32,\n",
    "    verbose=1\n",
    ")"
   ]
  },
  {
   "cell_type": "code",
   "execution_count": 156,
   "metadata": {},
   "outputs": [
    {
     "data": {
      "image/png": "[encoded data removed]",
      "text/plain": [
       "<Figure size 1000x600 with 1 Axes>"
      ]
     },
     "metadata": {},
     "output_type": "display_data"
    }
   ],
   "source": [
    "# we can try to perform some plots\n",
    "plt.figure(figsize=(10,6))\n",
    "plt.plot(history_model_user1.history['loss'],color='blue',label='loss')\n",
    "plt.plot(history_model_user1.history['val_loss'],color='red',label='val_loss')\n",
    "plt.xlabel('Epoch')\n",
    "plt.ylabel('Loss')\n",
    "plt.title('Loss function through epoch')\n",
    "plt.legend()\n",
    "plt.grid()\n",
    "plt.show()"
   ]
  },
  {
   "cell_type": "code",
   "execution_count": 157,
   "metadata": {},
   "outputs": [
    {
     "data": {
      "image/png": "[encoded data removed]",
      "text/plain": [
       "<Figure size 1000x600 with 1 Axes>"
      ]
     },
     "metadata": {},
     "output_type": "display_data"
    }
   ],
   "source": [
    "plt.figure(figsize=(10,6))\n",
    "plt.plot(history_model_user1.history['mae'],color='blue',label='mae')\n",
    "plt.plot(history_model_user1.history['val_mae'],color='red',label='val_mae')\n",
    "plt.xlabel('Epoch')\n",
    "plt.ylabel('mae')\n",
    "plt.title('Mae function through epoch')\n",
    "plt.grid()\n",
    "plt.legend()\n",
    "plt.show()"
   ]
  },
  {
   "cell_type": "code",
   "execution_count": 138,
   "metadata": {},
   "outputs": [
    {
     "name": "stdout",
     "output_type": "stream",
     "text": [
      "dict_keys(['loss', 'mae', 'val_loss', 'val_mae'])\n"
     ]
    }
   ],
   "source": [
    "print(history_model_user1.history.keys())"
   ]
  },
  {
   "cell_type": "code",
   "execution_count": 48,
   "metadata": {},
   "outputs": [],
   "source": [
    "# keras.utils.plot_model( model, show_shapes=True)\n",
    "#keras.utils.plot_model(model_user1,show_shapes=True)\n",
    "\n",
    "# non mi plotta nulla --> da rivedere perchè non avevo pacchetto installato "
   ]
  },
  {
   "cell_type": "code",
   "execution_count": 158,
   "metadata": {},
   "outputs": [
    {
     "name": "stdout",
     "output_type": "stream",
     "text": [
      "\u001b[1m36/36\u001b[0m \u001b[32m━━━━━━━━━━━━━━━━━━━━\u001b[0m\u001b[37m\u001b[0m \u001b[1m0s\u001b[0m 2ms/step - loss: 0.0298 - mae: 0.1369\n"
     ]
    },
    {
     "data": {
      "text/plain": [
       "(0.02929583564400673, 0.1368471384048462)"
      ]
     },
     "execution_count": 158,
     "metadata": {},
     "output_type": "execute_result"
    }
   ],
   "source": [
    "# now we can evaluate the test data\n",
    "\n",
    "test_loss, test_mae = model_user1.evaluate(x_test,y_test,verbose=1)\n",
    "\n",
    "test_loss,test_mae"
   ]
  },
  {
   "cell_type": "markdown",
   "metadata": {},
   "source": [
    "Now we have to try to predict the possible valence (y_hat)"
   ]
  },
  {
   "cell_type": "code",
   "execution_count": 140,
   "metadata": {},
   "outputs": [
    {
     "name": "stdout",
     "output_type": "stream",
     "text": [
      "\u001b[1m143/143\u001b[0m \u001b[32m━━━━━━━━━━━━━━━━━━━━\u001b[0m\u001b[37m\u001b[0m \u001b[1m1s\u001b[0m 3ms/step\n"
     ]
    },
    {
     "name": "stderr",
     "output_type": "stream",
     "text": [
      "C:\\Users\\elped\\AppData\\Local\\Temp\\ipykernel_8768\\1889177075.py:9: UserWarning: No artists with labels found to put in legend.  Note that artists whose label start with an underscore are ignored when legend() is called with no argument.\n",
      "  plt.legend()\n"
     ]
    },
    {
     "data": {
      "image/png": "[encoded data removed]",
      "text/plain": [
       "<Figure size 1200x600 with 1 Axes>"
      ]
     },
     "metadata": {},
     "output_type": "display_data"
    }
   ],
   "source": [
    "#FORSE ELIMINARE!!\n",
    "yhat = model_user1.predict(x_train)\n",
    "\n",
    "#FARE UN NUOVO PLOT\n",
    "plt.figure(figsize=(12,6))\n",
    "plt.plot(y_train, color='r')\n",
    "plt.plot(yhat, color='b') #attenzione alcune predizione sono negative\n",
    "plt.title('Prediction')\n",
    "plt.legend()\n",
    "plt.show()"
   ]
  },
  {
   "cell_type": "code",
   "execution_count": 141,
   "metadata": {},
   "outputs": [
    {
     "name": "stdout",
     "output_type": "stream",
     "text": [
      "\u001b[1m36/36\u001b[0m \u001b[32m━━━━━━━━━━━━━━━━━━━━\u001b[0m\u001b[37m\u001b[0m \u001b[1m0s\u001b[0m 2ms/step\n"
     ]
    },
    {
     "data": {
      "text/html": [
       "<div>\n",
       "<style scoped>\n",
       "    .dataframe tbody tr th:only-of-type {\n",
       "        vertical-align: middle;\n",
       "    }\n",
       "\n",
       "    .dataframe tbody tr th {\n",
       "        vertical-align: top;\n",
       "    }\n",
       "\n",
       "    .dataframe thead th {\n",
       "        text-align: right;\n",
       "    }\n",
       "</style>\n",
       "<table border=\"1\" class=\"dataframe\">\n",
       "  <thead>\n",
       "    <tr style=\"text-align: right;\">\n",
       "      <th></th>\n",
       "      <th>Prediction Test</th>\n",
       "      <th>Original Test</th>\n",
       "    </tr>\n",
       "  </thead>\n",
       "  <tbody>\n",
       "    <tr>\n",
       "      <th>0</th>\n",
       "      <td>0.768960</td>\n",
       "      <td>0.883</td>\n",
       "    </tr>\n",
       "    <tr>\n",
       "      <th>1</th>\n",
       "      <td>0.670446</td>\n",
       "      <td>0.253</td>\n",
       "    </tr>\n",
       "    <tr>\n",
       "      <th>2</th>\n",
       "      <td>0.504789</td>\n",
       "      <td>0.569</td>\n",
       "    </tr>\n",
       "    <tr>\n",
       "      <th>3</th>\n",
       "      <td>0.410354</td>\n",
       "      <td>0.383</td>\n",
       "    </tr>\n",
       "    <tr>\n",
       "      <th>4</th>\n",
       "      <td>0.288941</td>\n",
       "      <td>0.180</td>\n",
       "    </tr>\n",
       "    <tr>\n",
       "      <th>...</th>\n",
       "      <td>...</td>\n",
       "      <td>...</td>\n",
       "    </tr>\n",
       "    <tr>\n",
       "      <th>1133</th>\n",
       "      <td>0.562104</td>\n",
       "      <td>0.682</td>\n",
       "    </tr>\n",
       "    <tr>\n",
       "      <th>1134</th>\n",
       "      <td>0.575527</td>\n",
       "      <td>0.863</td>\n",
       "    </tr>\n",
       "    <tr>\n",
       "      <th>1135</th>\n",
       "      <td>0.428474</td>\n",
       "      <td>0.352</td>\n",
       "    </tr>\n",
       "    <tr>\n",
       "      <th>1136</th>\n",
       "      <td>0.525369</td>\n",
       "      <td>0.679</td>\n",
       "    </tr>\n",
       "    <tr>\n",
       "      <th>1137</th>\n",
       "      <td>0.612147</td>\n",
       "      <td>0.581</td>\n",
       "    </tr>\n",
       "  </tbody>\n",
       "</table>\n",
       "<p>1138 rows × 2 columns</p>\n",
       "</div>"
      ],
      "text/plain": [
       "      Prediction Test  Original Test\n",
       "0            0.768960          0.883\n",
       "1            0.670446          0.253\n",
       "2            0.504789          0.569\n",
       "3            0.410354          0.383\n",
       "4            0.288941          0.180\n",
       "...               ...            ...\n",
       "1133         0.562104          0.682\n",
       "1134         0.575527          0.863\n",
       "1135         0.428474          0.352\n",
       "1136         0.525369          0.679\n",
       "1137         0.612147          0.581\n",
       "\n",
       "[1138 rows x 2 columns]"
      ]
     },
     "metadata": {},
     "output_type": "display_data"
    }
   ],
   "source": [
    "yhat = model_user1.predict(x_test) #DA RIVEDERE!!!!\n",
    "\n",
    "#display(yhat.flatten().shape)\n",
    "#display(y_test.shape)\n",
    "#display(yhat.tolist())\n",
    "\n",
    "data = {'Prediction Test': yhat.flatten(),\n",
    "        'Original Test': y_test}\n",
    "df_prediction = pd.DataFrame(data = data)\n",
    "display(df_prediction)\n",
    "#display(data)\n",
    "\n",
    "#plt.figure(figsize=(12,6))\n",
    "#plt.scatter(y = y_test, x = range (0, len(y_test)),color='r')\n",
    "#plt.scatter(y = yhat, x = range (0, len(y_test)), color='b') #attenzione alcune predizione sono negative\n",
    "#plt.title('Prediction')\n",
    "#plt.legend()\n",
    "#plt.show()\n",
    "\n",
    "#plt.figure(figsize=(12,6))\n",
    "#sns.barplot(df_prediction['Prediction Test'].round(2), color = 'Green', label='Prediction Test')\n",
    "#sns.barplot(df_prediction['Original Test'].round(2), color = 'Red', label = 'Original Test')\n",
    "#plt.xlabel('Valence')\n",
    "#plt.ylabel('Density')\n",
    "#plt.legend()\n",
    "#plt.show()"
   ]
  },
  {
   "cell_type": "code",
   "execution_count": 152,
   "metadata": {},
   "outputs": [
    {
     "data": {
      "text/plain": [
       "Index([''65 Love AffairPaul Davis',\n",
       "       ''til I Can Make It On My OwnTammy Wynette',\n",
       "       ''Til My Baby Comes HomeLuther Vandross',\n",
       "       ''Tis The Damn SeasonTaylor Swift',\n",
       "       '('til) I Kissed YouThe Everly Brothers',\n",
       "       '(Closest Thing To) PerfectJermaine Jackson',\n",
       "       '(Dance The) Mess AroundChubby Checker',\n",
       "       '(Do You) Wanna RideReel Tight',\n",
       "       '(Don't Fear) The ReaperBlue Oyster Cult',\n",
       "       '(I Can't Get No) SatisfactionThe Rolling Stones',\n",
       "       ...\n",
       "       'Feelings Of ForeverTiffany', 'Feliz NavidadJose Feliciano',\n",
       "       'Felt Good On My LipsTim McGraw', 'Fill Me InCraig David',\n",
       "       'Final FantasyDrake', 'Finding My Way BackJaheim', 'FinsJimmy Buffett',\n",
       "       'Fire FlameBirdman Featuring Lil Wayne', 'Fire N GoldBea Miller',\n",
       "       'Fire With FireWild Blue'],\n",
       "      dtype='object', name='SongID', length=1138)"
      ]
     },
     "metadata": {},
     "output_type": "display_data"
    },
    {
     "data": {
      "text/html": [
       "<div>\n",
       "<style scoped>\n",
       "    .dataframe tbody tr th:only-of-type {\n",
       "        vertical-align: middle;\n",
       "    }\n",
       "\n",
       "    .dataframe tbody tr th {\n",
       "        vertical-align: top;\n",
       "    }\n",
       "\n",
       "    .dataframe thead th {\n",
       "        text-align: right;\n",
       "    }\n",
       "</style>\n",
       "<table border=\"1\" class=\"dataframe\">\n",
       "  <thead>\n",
       "    <tr style=\"text-align: right;\">\n",
       "      <th></th>\n",
       "      <th>Song</th>\n",
       "      <th>Original Test</th>\n",
       "      <th>Prediction Test</th>\n",
       "      <th>Original over Thrashold</th>\n",
       "      <th>Predicted over Thrashold</th>\n",
       "    </tr>\n",
       "  </thead>\n",
       "  <tbody>\n",
       "    <tr>\n",
       "      <th>0</th>\n",
       "      <td>'65 Love AffairPaul Davis</td>\n",
       "      <td>0.883</td>\n",
       "      <td>0.768960</td>\n",
       "      <td>True</td>\n",
       "      <td>True</td>\n",
       "    </tr>\n",
       "    <tr>\n",
       "      <th>1</th>\n",
       "      <td>'til I Can Make It On My OwnTammy Wynette</td>\n",
       "      <td>0.253</td>\n",
       "      <td>0.670446</td>\n",
       "      <td>False</td>\n",
       "      <td>False</td>\n",
       "    </tr>\n",
       "    <tr>\n",
       "      <th>2</th>\n",
       "      <td>'Til My Baby Comes HomeLuther Vandross</td>\n",
       "      <td>0.569</td>\n",
       "      <td>0.504789</td>\n",
       "      <td>False</td>\n",
       "      <td>False</td>\n",
       "    </tr>\n",
       "    <tr>\n",
       "      <th>3</th>\n",
       "      <td>'Tis The Damn SeasonTaylor Swift</td>\n",
       "      <td>0.383</td>\n",
       "      <td>0.410354</td>\n",
       "      <td>False</td>\n",
       "      <td>False</td>\n",
       "    </tr>\n",
       "    <tr>\n",
       "      <th>4</th>\n",
       "      <td>('til) I Kissed YouThe Everly Brothers</td>\n",
       "      <td>0.180</td>\n",
       "      <td>0.288941</td>\n",
       "      <td>False</td>\n",
       "      <td>False</td>\n",
       "    </tr>\n",
       "    <tr>\n",
       "      <th>...</th>\n",
       "      <td>...</td>\n",
       "      <td>...</td>\n",
       "      <td>...</td>\n",
       "      <td>...</td>\n",
       "      <td>...</td>\n",
       "    </tr>\n",
       "    <tr>\n",
       "      <th>1133</th>\n",
       "      <td>Finding My Way BackJaheim</td>\n",
       "      <td>0.682</td>\n",
       "      <td>0.562104</td>\n",
       "      <td>False</td>\n",
       "      <td>False</td>\n",
       "    </tr>\n",
       "    <tr>\n",
       "      <th>1134</th>\n",
       "      <td>FinsJimmy Buffett</td>\n",
       "      <td>0.863</td>\n",
       "      <td>0.575527</td>\n",
       "      <td>True</td>\n",
       "      <td>False</td>\n",
       "    </tr>\n",
       "    <tr>\n",
       "      <th>1135</th>\n",
       "      <td>Fire FlameBirdman Featuring Lil Wayne</td>\n",
       "      <td>0.352</td>\n",
       "      <td>0.428474</td>\n",
       "      <td>False</td>\n",
       "      <td>False</td>\n",
       "    </tr>\n",
       "    <tr>\n",
       "      <th>1136</th>\n",
       "      <td>Fire N GoldBea Miller</td>\n",
       "      <td>0.679</td>\n",
       "      <td>0.525369</td>\n",
       "      <td>False</td>\n",
       "      <td>False</td>\n",
       "    </tr>\n",
       "    <tr>\n",
       "      <th>1137</th>\n",
       "      <td>Fire With FireWild Blue</td>\n",
       "      <td>0.581</td>\n",
       "      <td>0.612147</td>\n",
       "      <td>False</td>\n",
       "      <td>False</td>\n",
       "    </tr>\n",
       "  </tbody>\n",
       "</table>\n",
       "<p>1138 rows × 5 columns</p>\n",
       "</div>"
      ],
      "text/plain": [
       "                                           Song  Original Test  \\\n",
       "0                     '65 Love AffairPaul Davis          0.883   \n",
       "1     'til I Can Make It On My OwnTammy Wynette          0.253   \n",
       "2        'Til My Baby Comes HomeLuther Vandross          0.569   \n",
       "3              'Tis The Damn SeasonTaylor Swift          0.383   \n",
       "4        ('til) I Kissed YouThe Everly Brothers          0.180   \n",
       "...                                         ...            ...   \n",
       "1133                  Finding My Way BackJaheim          0.682   \n",
       "1134                          FinsJimmy Buffett          0.863   \n",
       "1135      Fire FlameBirdman Featuring Lil Wayne          0.352   \n",
       "1136                      Fire N GoldBea Miller          0.679   \n",
       "1137                    Fire With FireWild Blue          0.581   \n",
       "\n",
       "      Prediction Test  Original over Thrashold  Predicted over Thrashold  \n",
       "0            0.768960                     True                      True  \n",
       "1            0.670446                    False                     False  \n",
       "2            0.504789                    False                     False  \n",
       "3            0.410354                    False                     False  \n",
       "4            0.288941                    False                     False  \n",
       "...               ...                      ...                       ...  \n",
       "1133         0.562104                    False                     False  \n",
       "1134         0.575527                     True                     False  \n",
       "1135         0.428474                    False                     False  \n",
       "1136         0.525369                    False                     False  \n",
       "1137         0.612147                    False                     False  \n",
       "\n",
       "[1138 rows x 5 columns]"
      ]
     },
     "metadata": {},
     "output_type": "display_data"
    },
    {
     "data": {
      "image/png": "[encoded data removed]",
      "text/plain": [
       "<Figure size 640x480 with 2 Axes>"
      ]
     },
     "metadata": {},
     "output_type": "display_data"
    }
   ],
   "source": [
    "x_test_name_song = user1_df.iloc[np.arange(len(yhat))].index\n",
    "display(x_test_name_song)\n",
    "    \n",
    "# Threshold for raccommendations --> valence > 0.7\n",
    "\n",
    "#reccomended_songs=user_i_df.loc[x_test_indices][y_hat.flatten()>0.7] # filtet songs with valence > 0.7\n",
    "#reccomended_songs = user_i_df.loc[x_test_name_song][y_hat.flatten()>0.7] # filtet songs with valence > 0.7\n",
    "#display(reccomended_songs)    \n",
    "\n",
    "#Dataframe_prova = pd.DataFrame(columns=[])\n",
    "#Dataframe_prova = pd.DataFrame()\n",
    "\n",
    "reccomended_songs = {\n",
    "    'Song':x_test_name_song,\n",
    "    'Original Test': y_test,\n",
    "    'Prediction Test':yhat.flatten()\n",
    "}\n",
    "Dataframe_prova = pd.DataFrame(reccomended_songs)  #ATTENZINE LA PREDIZIONE DEVE AVERE UN VALORE COMPRESO TRA 0 E 1!!!!!!!!!!!!!!!!!!!!!\n",
    "\n",
    "Dataframe_prova['Original over Thrashold'] = Dataframe_prova['Original Test'] > 0.7\n",
    "Dataframe_prova['Predicted over Thrashold'] = Dataframe_prova['Prediction Test'] > 0.7\n",
    "\n",
    "display(Dataframe_prova)\n",
    "\n",
    "cm_bal = confusion_matrix(Dataframe_prova['Original over Thrashold'], Dataframe_prova['Predicted over Thrashold'])\n",
    "\n",
    "plt.figure()\n",
    "sns.heatmap(cm_bal, annot=True, fmt='d', cmap='Blues', xticklabels=['True', 'False'], yticklabels=['True', 'False'])\n",
    "plt.title('Confiusion matrix')\n",
    "plt.xlabel('predicted')\n",
    "plt.ylabel('actual')\n",
    "plt.show()"
   ]
  },
  {
   "cell_type": "markdown",
   "metadata": {},
   "source": [
    "### END of OUR TEST\n",
    "\n",
    "What we notice:\n",
    "\n",
    "1) Important to check for the correlation, in order to understand if all the features that we consider for the NN beside are relevant \n",
    "\n",
    "2) Mybe the numbers of the intial neurons are to high since we see that the loss and the mae after only five epoch are almost constant \n",
    "\n",
    "3) We want to automatize the process, in order to avoid to define each df for each user and appy for each a diffrent model"
   ]
  },
  {
   "cell_type": "markdown",
   "metadata": {},
   "source": [
    "---"
   ]
  },
  {
   "cell_type": "markdown",
   "metadata": {},
   "source": [
    "# UPDATE "
   ]
  },
  {
   "cell_type": "markdown",
   "metadata": {},
   "source": [
    "1) Check for the correlation "
   ]
  },
  {
   "cell_type": "code",
   "execution_count": 113,
   "metadata": {},
   "outputs": [
    {
     "data": {
      "image/png": "[encoded data removed]",
      "text/plain": [
       "<Figure size 2000x2000 with 2 Axes>"
      ]
     },
     "metadata": {},
     "output_type": "display_data"
    }
   ],
   "source": [
    "#i want to check possible correlation\n",
    "plt.figure(figsize=(20,20))\n",
    "sns.heatmap(user1_df[['spotify_track_duration_minute', 'danceability', 'energy', 'key', 'loudness',\n",
    "    'mode', 'speechiness', 'acousticness', 'tempo', 'time_signature',\n",
    "    'spotify_track_popularity', 'instrumentalness', 'liveness', 'valence']].corr(), annot= True)\n",
    "plt.show()"
   ]
  },
  {
   "cell_type": "markdown",
   "metadata": {},
   "source": [
    "We can notice that:\n",
    "\n",
    "-   key is a useless \n",
    "-   tempo is a useless \n",
    "-   time signature is a useless \n",
    "-   spotify track popularity, we can se that is negative correlated with valence; it is positive correlated with loudness (BOTH INTERESTING)\n",
    "\n",
    "So we can delite what are not usfull for our analysis"
   ]
  },
  {
   "cell_type": "markdown",
   "metadata": {},
   "source": [
    "We redefine the list of feature delating the one that are useless \n",
    "\n",
    "We convert the maingenere in a integer value (we want try to use it for improve our NN)\n",
    "\n",
    "--> da capire se una feature che era originariamente QUALITATIVA che convertiamo in NUMERICA \n",
    "possa effettivamente dare informazioni aggiuntive alla nostra NN (se si considera la sua frequenza può avere senso)"
   ]
  },
  {
   "cell_type": "code",
   "execution_count": 114,
   "metadata": {},
   "outputs": [
    {
     "name": "stdout",
     "output_type": "stream",
     "text": [
      "{'pop': 0, 'rock': 1, 'other': 2, 'soul': 3, 'rap': 4, 'country': 5, 'disco': 6, 'jazz': 7, 'blues': 8, 'funk': 9, 'dance': 10, 'metal': 11, 'folk': 12, 'house': 13, 'indie': 14, 'r&b': 15, 'latin': 16}\n"
     ]
    },
    {
     "name": "stderr",
     "output_type": "stream",
     "text": [
      "C:\\Users\\elped\\AppData\\Local\\Temp\\ipykernel_8768\\1201508369.py:14: FutureWarning: A value is trying to be set on a copy of a DataFrame or Series through chained assignment using an inplace method.\n",
      "The behavior will change in pandas 3.0. This inplace method will never work because the intermediate object on which we are setting values always behaves as a copy.\n",
      "\n",
      "For example, when doing 'df[col].method(value, inplace=True)', try using 'df.method({col: value}, inplace=True)' or df[col] = df[col].method(value) instead, to perform the operation inplace on the original object.\n",
      "\n",
      "\n",
      "  merge_unique_numain_df['maingenere'].replace(dizio_main, inplace=True)\n",
      "C:\\Users\\elped\\AppData\\Local\\Temp\\ipykernel_8768\\1201508369.py:14: FutureWarning: Downcasting behavior in `replace` is deprecated and will be removed in a future version. To retain the old behavior, explicitly call `result.infer_objects(copy=False)`. To opt-in to the future behavior, set `pd.set_option('future.no_silent_downcasting', True)`\n",
      "  merge_unique_numain_df['maingenere'].replace(dizio_main, inplace=True)\n"
     ]
    },
    {
     "data": {
      "text/html": [
       "<div>\n",
       "<style scoped>\n",
       "    .dataframe tbody tr th:only-of-type {\n",
       "        vertical-align: middle;\n",
       "    }\n",
       "\n",
       "    .dataframe tbody tr th {\n",
       "        vertical-align: top;\n",
       "    }\n",
       "\n",
       "    .dataframe thead th {\n",
       "        text-align: right;\n",
       "    }\n",
       "</style>\n",
       "<table border=\"1\" class=\"dataframe\">\n",
       "  <thead>\n",
       "    <tr style=\"text-align: right;\">\n",
       "      <th></th>\n",
       "      <th>Performer</th>\n",
       "      <th>Song</th>\n",
       "      <th>spotify_genre</th>\n",
       "      <th>spotify_track_duration_minute</th>\n",
       "      <th>spotify_track_explicit</th>\n",
       "      <th>spotify_track_album</th>\n",
       "      <th>danceability</th>\n",
       "      <th>energy</th>\n",
       "      <th>key</th>\n",
       "      <th>loudness</th>\n",
       "      <th>...</th>\n",
       "      <th>speechiness</th>\n",
       "      <th>acousticness</th>\n",
       "      <th>instrumentalness</th>\n",
       "      <th>liveness</th>\n",
       "      <th>valence</th>\n",
       "      <th>tempo</th>\n",
       "      <th>time_signature</th>\n",
       "      <th>spotify_track_popularity</th>\n",
       "      <th>maingenere</th>\n",
       "      <th>User</th>\n",
       "    </tr>\n",
       "    <tr>\n",
       "      <th>SongID</th>\n",
       "      <th></th>\n",
       "      <th></th>\n",
       "      <th></th>\n",
       "      <th></th>\n",
       "      <th></th>\n",
       "      <th></th>\n",
       "      <th></th>\n",
       "      <th></th>\n",
       "      <th></th>\n",
       "      <th></th>\n",
       "      <th></th>\n",
       "      <th></th>\n",
       "      <th></th>\n",
       "      <th></th>\n",
       "      <th></th>\n",
       "      <th></th>\n",
       "      <th></th>\n",
       "      <th></th>\n",
       "      <th></th>\n",
       "      <th></th>\n",
       "      <th></th>\n",
       "    </tr>\n",
       "  </thead>\n",
       "  <tbody>\n",
       "    <tr>\n",
       "      <th>-twistin'-White Silver SandsBill Black's Combo</th>\n",
       "      <td>Bill Black's Combo</td>\n",
       "      <td>-twistin'-White Silver Sands</td>\n",
       "      <td>[]</td>\n",
       "      <td>3.43</td>\n",
       "      <td>unknown</td>\n",
       "      <td>single</td>\n",
       "      <td>0.590</td>\n",
       "      <td>0.570</td>\n",
       "      <td>5.37</td>\n",
       "      <td>-9.970</td>\n",
       "      <td>...</td>\n",
       "      <td>0.0700</td>\n",
       "      <td>0.400</td>\n",
       "      <td>0.080000</td>\n",
       "      <td>0.200</td>\n",
       "      <td>0.63</td>\n",
       "      <td>117.760</td>\n",
       "      <td>3.89</td>\n",
       "      <td>22.16</td>\n",
       "      <td>2</td>\n",
       "      <td>2</td>\n",
       "    </tr>\n",
       "    <tr>\n",
       "      <th>¿Dònde Està Santa Claus? (Where Is Santa Claus?)Augie Rios</th>\n",
       "      <td>Augie Rios</td>\n",
       "      <td>¿Dònde Està Santa Claus? (Where Is Santa Claus?)</td>\n",
       "      <td>['novelty']</td>\n",
       "      <td>3.43</td>\n",
       "      <td>unknown</td>\n",
       "      <td>single</td>\n",
       "      <td>0.590</td>\n",
       "      <td>0.570</td>\n",
       "      <td>5.37</td>\n",
       "      <td>-9.970</td>\n",
       "      <td>...</td>\n",
       "      <td>0.0700</td>\n",
       "      <td>0.400</td>\n",
       "      <td>0.080000</td>\n",
       "      <td>0.200</td>\n",
       "      <td>0.63</td>\n",
       "      <td>117.760</td>\n",
       "      <td>3.89</td>\n",
       "      <td>22.16</td>\n",
       "      <td>2</td>\n",
       "      <td>2</td>\n",
       "    </tr>\n",
       "    <tr>\n",
       "      <th>......And Roses And RosesAndy Williams</th>\n",
       "      <td>Andy Williams</td>\n",
       "      <td>......And Roses And Roses</td>\n",
       "      <td>['adult standards', 'brill building pop', 'eas...</td>\n",
       "      <td>2.77</td>\n",
       "      <td>False</td>\n",
       "      <td>The Essential Andy Williams</td>\n",
       "      <td>0.154</td>\n",
       "      <td>0.185</td>\n",
       "      <td>5.00</td>\n",
       "      <td>-14.063</td>\n",
       "      <td>...</td>\n",
       "      <td>0.0315</td>\n",
       "      <td>0.911</td>\n",
       "      <td>0.000267</td>\n",
       "      <td>0.112</td>\n",
       "      <td>0.15</td>\n",
       "      <td>83.969</td>\n",
       "      <td>4.00</td>\n",
       "      <td>38.00</td>\n",
       "      <td>0</td>\n",
       "      <td>3</td>\n",
       "    </tr>\n",
       "  </tbody>\n",
       "</table>\n",
       "<p>3 rows × 21 columns</p>\n",
       "</div>"
      ],
      "text/plain": [
       "                                                             Performer  \\\n",
       "SongID                                                                   \n",
       "-twistin'-White Silver SandsBill Black's Combo      Bill Black's Combo   \n",
       "¿Dònde Està Santa Claus? (Where Is Santa Claus?...          Augie Rios   \n",
       "......And Roses And RosesAndy Williams                   Andy Williams   \n",
       "\n",
       "                                                                                                Song  \\\n",
       "SongID                                                                                                 \n",
       "-twistin'-White Silver SandsBill Black's Combo                          -twistin'-White Silver Sands   \n",
       "¿Dònde Està Santa Claus? (Where Is Santa Claus?...  ¿Dònde Està Santa Claus? (Where Is Santa Claus?)   \n",
       "......And Roses And RosesAndy Williams                                     ......And Roses And Roses   \n",
       "\n",
       "                                                                                        spotify_genre  \\\n",
       "SongID                                                                                                  \n",
       "-twistin'-White Silver SandsBill Black's Combo                                                     []   \n",
       "¿Dònde Està Santa Claus? (Where Is Santa Claus?...                                        ['novelty']   \n",
       "......And Roses And RosesAndy Williams              ['adult standards', 'brill building pop', 'eas...   \n",
       "\n",
       "                                                    spotify_track_duration_minute  \\\n",
       "SongID                                                                              \n",
       "-twistin'-White Silver SandsBill Black's Combo                               3.43   \n",
       "¿Dònde Està Santa Claus? (Where Is Santa Claus?...                           3.43   \n",
       "......And Roses And RosesAndy Williams                                       2.77   \n",
       "\n",
       "                                                   spotify_track_explicit  \\\n",
       "SongID                                                                      \n",
       "-twistin'-White Silver SandsBill Black's Combo                    unknown   \n",
       "¿Dònde Està Santa Claus? (Where Is Santa Claus?...                unknown   \n",
       "......And Roses And RosesAndy Williams                              False   \n",
       "\n",
       "                                                            spotify_track_album  \\\n",
       "SongID                                                                            \n",
       "-twistin'-White Silver SandsBill Black's Combo                           single   \n",
       "¿Dònde Està Santa Claus? (Where Is Santa Claus?...                       single   \n",
       "......And Roses And RosesAndy Williams              The Essential Andy Williams   \n",
       "\n",
       "                                                    danceability  energy  \\\n",
       "SongID                                                                     \n",
       "-twistin'-White Silver SandsBill Black's Combo             0.590   0.570   \n",
       "¿Dònde Està Santa Claus? (Where Is Santa Claus?...         0.590   0.570   \n",
       "......And Roses And RosesAndy Williams                     0.154   0.185   \n",
       "\n",
       "                                                     key  loudness  ...  \\\n",
       "SongID                                                              ...   \n",
       "-twistin'-White Silver SandsBill Black's Combo      5.37    -9.970  ...   \n",
       "¿Dònde Està Santa Claus? (Where Is Santa Claus?...  5.37    -9.970  ...   \n",
       "......And Roses And RosesAndy Williams              5.00   -14.063  ...   \n",
       "\n",
       "                                                    speechiness  acousticness  \\\n",
       "SongID                                                                          \n",
       "-twistin'-White Silver SandsBill Black's Combo           0.0700         0.400   \n",
       "¿Dònde Està Santa Claus? (Where Is Santa Claus?...       0.0700         0.400   \n",
       "......And Roses And RosesAndy Williams                   0.0315         0.911   \n",
       "\n",
       "                                                    instrumentalness  \\\n",
       "SongID                                                                 \n",
       "-twistin'-White Silver SandsBill Black's Combo              0.080000   \n",
       "¿Dònde Està Santa Claus? (Where Is Santa Claus?...          0.080000   \n",
       "......And Roses And RosesAndy Williams                      0.000267   \n",
       "\n",
       "                                                    liveness  valence  \\\n",
       "SongID                                                                  \n",
       "-twistin'-White Silver SandsBill Black's Combo         0.200     0.63   \n",
       "¿Dònde Està Santa Claus? (Where Is Santa Claus?...     0.200     0.63   \n",
       "......And Roses And RosesAndy Williams                 0.112     0.15   \n",
       "\n",
       "                                                      tempo  time_signature  \\\n",
       "SongID                                                                        \n",
       "-twistin'-White Silver SandsBill Black's Combo      117.760            3.89   \n",
       "¿Dònde Està Santa Claus? (Where Is Santa Claus?...  117.760            3.89   \n",
       "......And Roses And RosesAndy Williams               83.969            4.00   \n",
       "\n",
       "                                                    spotify_track_popularity  \\\n",
       "SongID                                                                         \n",
       "-twistin'-White Silver SandsBill Black's Combo                         22.16   \n",
       "¿Dònde Està Santa Claus? (Where Is Santa Claus?...                     22.16   \n",
       "......And Roses And RosesAndy Williams                                 38.00   \n",
       "\n",
       "                                                    maingenere  User  \n",
       "SongID                                                                \n",
       "-twistin'-White Silver SandsBill Black's Combo               2     2  \n",
       "¿Dònde Està Santa Claus? (Where Is Santa Claus?...           2     2  \n",
       "......And Roses And RosesAndy Williams                       0     3  \n",
       "\n",
       "[3 rows x 21 columns]"
      ]
     },
     "metadata": {},
     "output_type": "display_data"
    }
   ],
   "source": [
    "#first thing to do convert the maingenere in integer\n",
    "#the idea consist to use the merge df qith value count on the maingenere and use the index\n",
    "maing = merge_unique_df['maingenere'].value_counts()\n",
    "dizio_main = {}\n",
    "for index_maing in range(0,len(maing.index)): #value to indicate the genere\n",
    "    dizio_main[maing.index[index_maing]] = index_maing\n",
    "   #print(index_maing)\n",
    "\n",
    "\n",
    "print(dizio_main)\n",
    "#codifica dei maingeneri\n",
    "merge_unique_numain_df = merge_unique_df.copy()\n",
    "#rplace\n",
    "merge_unique_numain_df['maingenere'].replace(dizio_main, inplace=True)\n",
    "display(merge_unique_numain_df.head(3))"
   ]
  },
  {
   "cell_type": "markdown",
   "metadata": {},
   "source": [
    "# AUTOMATIZE THE PROCESS + change the n. of initial neurons \n",
    "\n",
    "## 2) - 3)"
   ]
  },
  {
   "cell_type": "markdown",
   "metadata": {},
   "source": [
    "### Our new feature"
   ]
  },
  {
   "cell_type": "code",
   "execution_count": 115,
   "metadata": {},
   "outputs": [],
   "source": [
    "#now we remove the useless feature and add maingenere codified #attenzione abbiamo deciso alla fine di togliere main genere, verrà rinserito come one-hot-encoding\n",
    "new_feature=[    'spotify_track_duration_minute', 'danceability', 'energy', 'loudness',\n",
    "    'mode', 'speechiness', 'acousticness',\n",
    "    'spotify_track_popularity', 'instrumentalness', 'liveness']\n",
    "# now we have to define our TARGET (what we are interested in) --> OUTPUT\n",
    "new_target='valence'"
   ]
  },
  {
   "cell_type": "markdown",
   "metadata": {},
   "source": [
    "IDEA:\n",
    "\n",
    "make a loop for create the 5 df, one for each user + NN model for each df"
   ]
  },
  {
   "cell_type": "code",
   "execution_count": 116,
   "metadata": {},
   "outputs": [
    {
     "data": {
      "text/plain": [
       "array([2, 3, 0, 4, 1])"
      ]
     },
     "execution_count": 116,
     "metadata": {},
     "output_type": "execute_result"
    }
   ],
   "source": [
    "merge_unique_numain_df['User'].unique()"
   ]
  },
  {
   "cell_type": "markdown",
   "metadata": {},
   "source": [
    "## PLOT\n",
    "\n",
    "interesting plots for visualize the output of our model"
   ]
  },
  {
   "cell_type": "code",
   "execution_count": 119,
   "metadata": {},
   "outputs": [],
   "source": [
    "def plot_for_model(history, y_hat, x_test):\n",
    "\n",
    "    #plot loss\n",
    "    plt.figure(figsize=(10,6))\n",
    "    plt.plot(history.history['loss'],color='blue',label='loss')\n",
    "    plt.plot(history.history['val_loss'],color='red',label='val_loss')\n",
    "    plt.xlabel('Epoch')\n",
    "    plt.ylabel('Loss')\n",
    "    plt.title('Loss function through epoch')\n",
    "    plt.legend()\n",
    "    plt.grid()\n",
    "    plt.show()\n",
    "\n",
    "    #plot mean\n",
    "    plt.figure(figsize=(10,6))\n",
    "    plt.plot(history.history['mae'],color='blue',label='mae')\n",
    "    plt.plot(history.history['val_mae'],color='red',label='val_mae')\n",
    "    plt.xlabel('Epoch')\n",
    "    plt.ylabel('mae')\n",
    "    plt.title('Mae function through epoch')\n",
    "    plt.grid()\n",
    "    plt.legend()\n",
    "    plt.show()   \n",
    "\n",
    "    # plot  #RIVEDERE\n",
    "    # aggiunto A.L\n",
    "    #plt.figure(figsize=(12,6))\n",
    "    #plt.plot(y_test, color='r')\n",
    "    #plt.plot(y_hat, color='b') #attenzione alcune predizione sono negative\n",
    "    #plt.title('Prediction')\n",
    "    #plt.legend()\n",
    "    #plt.show()"
   ]
  },
  {
   "cell_type": "markdown",
   "metadata": {},
   "source": [
    "## MODEL"
   ]
  },
  {
   "cell_type": "code",
   "execution_count": 118,
   "metadata": {},
   "outputs": [],
   "source": [
    "# function to create the model\n",
    "def create_model_user(shape_x_train): #number of columns -> shape\n",
    "    \n",
    "    \n",
    "    model_user_i = Sequential([\n",
    "        Dense(32, input_dim=shape_x_train, activation='relu', name='first_layer'),\n",
    "        # 64 as the number of initial layer is a common choice when we build a NN --> VEDIAMO COME FUNZIA POI NEL CASO SI SISTEMA IN SEGUITO\n",
    "        # input_dim: take the dimension of the x_train array --> that is equivalent to the number of feature in input\n",
    "        \n",
    "        # SI POSSONO AGGIUNGERE PER OGNI LAYER --> Dropout(0.3) per evitare overfitting\n",
    "        \n",
    "\n",
    "        Dense(16, activation='relu', name='secod_layer'),\n",
    "        Dense(1, activation='linear', name='final_layer')\n",
    "    ])\n",
    "\n",
    "    #compile the model\n",
    "    model_user_i.compile(optimizer = 'adam', loss = 'mse', metrics = ['mae'])\n",
    "\n",
    "    #summary\n",
    "    #display(model_user_i.summary())\n",
    "\n",
    "    #return  the model\n",
    "    return model_user_i\n",
    "    "
   ]
  },
  {
   "cell_type": "markdown",
   "metadata": {},
   "source": [
    "## FIT MODEL"
   ]
  },
  {
   "cell_type": "code",
   "execution_count": 120,
   "metadata": {},
   "outputs": [],
   "source": [
    "#function to train the model\n",
    "def fit_model(model, x_train, y_train, x_test, y_test):\n",
    "\n",
    "    history_model = model.fit(\n",
    "        x_train,y_train,\n",
    "        #validation_split=0.2,\n",
    "        validation_data = [x_test, y_test],\n",
    "        epochs=30,\n",
    "        batch_size=32,\n",
    "        #verbose=1\n",
    "    )\n",
    "\n",
    "    return history_model"
   ]
  },
  {
   "cell_type": "markdown",
   "metadata": {},
   "source": [
    "## MAIN"
   ]
  },
  {
   "cell_type": "code",
   "execution_count": null,
   "metadata": {},
   "outputs": [
    {
     "data": {
      "text/html": [
       "<div>\n",
       "<style scoped>\n",
       "    .dataframe tbody tr th:only-of-type {\n",
       "        vertical-align: middle;\n",
       "    }\n",
       "\n",
       "    .dataframe tbody tr th {\n",
       "        vertical-align: top;\n",
       "    }\n",
       "\n",
       "    .dataframe thead th {\n",
       "        text-align: right;\n",
       "    }\n",
       "</style>\n",
       "<table border=\"1\" class=\"dataframe\">\n",
       "  <thead>\n",
       "    <tr style=\"text-align: right;\">\n",
       "      <th></th>\n",
       "      <th>Performer</th>\n",
       "      <th>Song</th>\n",
       "      <th>spotify_genre</th>\n",
       "      <th>spotify_track_duration_minute</th>\n",
       "      <th>spotify_track_explicit</th>\n",
       "      <th>spotify_track_album</th>\n",
       "      <th>danceability</th>\n",
       "      <th>energy</th>\n",
       "      <th>key</th>\n",
       "      <th>loudness</th>\n",
       "      <th>...</th>\n",
       "      <th>speechiness</th>\n",
       "      <th>acousticness</th>\n",
       "      <th>instrumentalness</th>\n",
       "      <th>liveness</th>\n",
       "      <th>valence</th>\n",
       "      <th>tempo</th>\n",
       "      <th>time_signature</th>\n",
       "      <th>spotify_track_popularity</th>\n",
       "      <th>maingenere</th>\n",
       "      <th>User</th>\n",
       "    </tr>\n",
       "    <tr>\n",
       "      <th>SongID</th>\n",
       "      <th></th>\n",
       "      <th></th>\n",
       "      <th></th>\n",
       "      <th></th>\n",
       "      <th></th>\n",
       "      <th></th>\n",
       "      <th></th>\n",
       "      <th></th>\n",
       "      <th></th>\n",
       "      <th></th>\n",
       "      <th></th>\n",
       "      <th></th>\n",
       "      <th></th>\n",
       "      <th></th>\n",
       "      <th></th>\n",
       "      <th></th>\n",
       "      <th></th>\n",
       "      <th></th>\n",
       "      <th></th>\n",
       "      <th></th>\n",
       "      <th></th>\n",
       "    </tr>\n",
       "  </thead>\n",
       "  <tbody>\n",
       "    <tr>\n",
       "      <th>...Baby One More TimeBritney Spears</th>\n",
       "      <td>Britney Spears</td>\n",
       "      <td>...Baby One More Time</td>\n",
       "      <td>['dance pop', 'pop', 'post-teen pop']</td>\n",
       "      <td>3.52</td>\n",
       "      <td>False</td>\n",
       "      <td>...Baby One More Time (Digital Deluxe Version)</td>\n",
       "      <td>0.759</td>\n",
       "      <td>0.699</td>\n",
       "      <td>0.0</td>\n",
       "      <td>-5.745</td>\n",
       "      <td>...</td>\n",
       "      <td>0.0307</td>\n",
       "      <td>0.2020</td>\n",
       "      <td>0.000131</td>\n",
       "      <td>0.4430</td>\n",
       "      <td>0.907</td>\n",
       "      <td>92.960</td>\n",
       "      <td>4.0</td>\n",
       "      <td>77.0</td>\n",
       "      <td>0</td>\n",
       "      <td>0</td>\n",
       "    </tr>\n",
       "    <tr>\n",
       "      <th>(Call Me Your) Anything ManBobby Moore</th>\n",
       "      <td>Bobby Moore</td>\n",
       "      <td>(Call Me Your) Anything Man</td>\n",
       "      <td>['classic soul']</td>\n",
       "      <td>6.24</td>\n",
       "      <td>False</td>\n",
       "      <td>Disco Gold Vol. 2</td>\n",
       "      <td>0.624</td>\n",
       "      <td>0.604</td>\n",
       "      <td>3.0</td>\n",
       "      <td>-12.401</td>\n",
       "      <td>...</td>\n",
       "      <td>0.0459</td>\n",
       "      <td>0.0474</td>\n",
       "      <td>0.001590</td>\n",
       "      <td>0.2630</td>\n",
       "      <td>0.760</td>\n",
       "      <td>91.554</td>\n",
       "      <td>4.0</td>\n",
       "      <td>4.0</td>\n",
       "      <td>3</td>\n",
       "      <td>0</td>\n",
       "    </tr>\n",
       "    <tr>\n",
       "      <th>(everybody Wanna Get Rich) Rite AwayDr. John</th>\n",
       "      <td>Dr. John</td>\n",
       "      <td>(everybody Wanna Get Rich) Rite Away</td>\n",
       "      <td>['blues', 'blues rock', 'classic rock', 'elect...</td>\n",
       "      <td>2.73</td>\n",
       "      <td>False</td>\n",
       "      <td>Destively Bonnaroo</td>\n",
       "      <td>0.746</td>\n",
       "      <td>0.916</td>\n",
       "      <td>9.0</td>\n",
       "      <td>-10.061</td>\n",
       "      <td>...</td>\n",
       "      <td>0.0772</td>\n",
       "      <td>0.5180</td>\n",
       "      <td>0.068600</td>\n",
       "      <td>0.0785</td>\n",
       "      <td>0.971</td>\n",
       "      <td>99.926</td>\n",
       "      <td>4.0</td>\n",
       "      <td>54.0</td>\n",
       "      <td>8</td>\n",
       "      <td>0</td>\n",
       "    </tr>\n",
       "    <tr>\n",
       "      <th>(For God's Sake) Give More Power To The PeopleThe Chi-lites</th>\n",
       "      <td>The Chi-lites</td>\n",
       "      <td>(For God's Sake) Give More Power To The People</td>\n",
       "      <td>['chicago soul', 'classic soul', 'disco', 'fun...</td>\n",
       "      <td>3.00</td>\n",
       "      <td>False</td>\n",
       "      <td>The Ultimate Chi-Lites</td>\n",
       "      <td>0.665</td>\n",
       "      <td>0.552</td>\n",
       "      <td>6.0</td>\n",
       "      <td>-10.177</td>\n",
       "      <td>...</td>\n",
       "      <td>0.0307</td>\n",
       "      <td>0.4930</td>\n",
       "      <td>0.027200</td>\n",
       "      <td>0.4210</td>\n",
       "      <td>0.899</td>\n",
       "      <td>96.889</td>\n",
       "      <td>4.0</td>\n",
       "      <td>29.0</td>\n",
       "      <td>3</td>\n",
       "      <td>0</td>\n",
       "    </tr>\n",
       "    <tr>\n",
       "      <th>(He's) Raining In My SunshineJay &amp; The Americans</th>\n",
       "      <td>Jay &amp; The Americans</td>\n",
       "      <td>(He's) Raining In My Sunshine</td>\n",
       "      <td>['east coast hip hop', 'hip hop', 'pop rap', '...</td>\n",
       "      <td>3.26</td>\n",
       "      <td>False</td>\n",
       "      <td>Come A Little Bit Closer: The Best Of Jay &amp; Th...</td>\n",
       "      <td>0.478</td>\n",
       "      <td>0.298</td>\n",
       "      <td>2.0</td>\n",
       "      <td>-13.842</td>\n",
       "      <td>...</td>\n",
       "      <td>0.0342</td>\n",
       "      <td>0.7400</td>\n",
       "      <td>0.000011</td>\n",
       "      <td>0.1390</td>\n",
       "      <td>0.376</td>\n",
       "      <td>110.006</td>\n",
       "      <td>4.0</td>\n",
       "      <td>10.0</td>\n",
       "      <td>4</td>\n",
       "      <td>0</td>\n",
       "    </tr>\n",
       "    <tr>\n",
       "      <th>...</th>\n",
       "      <td>...</td>\n",
       "      <td>...</td>\n",
       "      <td>...</td>\n",
       "      <td>...</td>\n",
       "      <td>...</td>\n",
       "      <td>...</td>\n",
       "      <td>...</td>\n",
       "      <td>...</td>\n",
       "      <td>...</td>\n",
       "      <td>...</td>\n",
       "      <td>...</td>\n",
       "      <td>...</td>\n",
       "      <td>...</td>\n",
       "      <td>...</td>\n",
       "      <td>...</td>\n",
       "      <td>...</td>\n",
       "      <td>...</td>\n",
       "      <td>...</td>\n",
       "      <td>...</td>\n",
       "      <td>...</td>\n",
       "      <td>...</td>\n",
       "    </tr>\n",
       "    <tr>\n",
       "      <th>YouThe McCrarys</th>\n",
       "      <td>The McCrarys</td>\n",
       "      <td>You</td>\n",
       "      <td>['post-disco soul']</td>\n",
       "      <td>4.51</td>\n",
       "      <td>False</td>\n",
       "      <td>Loving Is Living (Bonus Track Version)</td>\n",
       "      <td>0.836</td>\n",
       "      <td>0.383</td>\n",
       "      <td>0.0</td>\n",
       "      <td>-10.924</td>\n",
       "      <td>...</td>\n",
       "      <td>0.0797</td>\n",
       "      <td>0.0246</td>\n",
       "      <td>0.000017</td>\n",
       "      <td>0.0701</td>\n",
       "      <td>0.853</td>\n",
       "      <td>106.355</td>\n",
       "      <td>4.0</td>\n",
       "      <td>10.0</td>\n",
       "      <td>6</td>\n",
       "      <td>0</td>\n",
       "    </tr>\n",
       "    <tr>\n",
       "      <th>YouthShawn Mendes Featuring Khalid</th>\n",
       "      <td>Shawn Mendes Featuring Khalid</td>\n",
       "      <td>Youth</td>\n",
       "      <td>['canadian pop', 'pop', 'post-teen pop', 'vira...</td>\n",
       "      <td>3.18</td>\n",
       "      <td>False</td>\n",
       "      <td>Shawn Mendes</td>\n",
       "      <td>0.534</td>\n",
       "      <td>0.596</td>\n",
       "      <td>6.0</td>\n",
       "      <td>-6.653</td>\n",
       "      <td>...</td>\n",
       "      <td>0.1170</td>\n",
       "      <td>0.5600</td>\n",
       "      <td>0.000000</td>\n",
       "      <td>0.1330</td>\n",
       "      <td>0.324</td>\n",
       "      <td>100.121</td>\n",
       "      <td>4.0</td>\n",
       "      <td>76.0</td>\n",
       "      <td>0</td>\n",
       "      <td>0</td>\n",
       "    </tr>\n",
       "    <tr>\n",
       "      <th>YouthTroye Sivan</th>\n",
       "      <td>Troye Sivan</td>\n",
       "      <td>Youth</td>\n",
       "      <td>['dance pop', 'electropop', 'pop', 'post-teen ...</td>\n",
       "      <td>3.09</td>\n",
       "      <td>False</td>\n",
       "      <td>Blue Neighbourhood (Deluxe)</td>\n",
       "      <td>0.628</td>\n",
       "      <td>0.737</td>\n",
       "      <td>7.0</td>\n",
       "      <td>-4.437</td>\n",
       "      <td>...</td>\n",
       "      <td>0.0410</td>\n",
       "      <td>0.0625</td>\n",
       "      <td>0.000000</td>\n",
       "      <td>0.0777</td>\n",
       "      <td>0.592</td>\n",
       "      <td>91.507</td>\n",
       "      <td>4.0</td>\n",
       "      <td>68.0</td>\n",
       "      <td>0</td>\n",
       "      <td>0</td>\n",
       "    </tr>\n",
       "    <tr>\n",
       "      <th>ZEZEKodak Black Featuring Travis Scott &amp; Offset</th>\n",
       "      <td>Kodak Black Featuring Travis Scott &amp; Offset</td>\n",
       "      <td>ZEZE</td>\n",
       "      <td>['florida rap', 'hip hop', 'melodic rap', 'mia...</td>\n",
       "      <td>3.81</td>\n",
       "      <td>True</td>\n",
       "      <td>Dying to Live</td>\n",
       "      <td>0.861</td>\n",
       "      <td>0.603</td>\n",
       "      <td>8.0</td>\n",
       "      <td>-5.788</td>\n",
       "      <td>...</td>\n",
       "      <td>0.1760</td>\n",
       "      <td>0.0521</td>\n",
       "      <td>0.000000</td>\n",
       "      <td>0.0924</td>\n",
       "      <td>0.504</td>\n",
       "      <td>98.043</td>\n",
       "      <td>4.0</td>\n",
       "      <td>84.0</td>\n",
       "      <td>4</td>\n",
       "      <td>0</td>\n",
       "    </tr>\n",
       "    <tr>\n",
       "      <th>Zunga ZengK7</th>\n",
       "      <td>K7</td>\n",
       "      <td>Zunga Zeng</td>\n",
       "      <td>['freestyle']</td>\n",
       "      <td>4.55</td>\n",
       "      <td>False</td>\n",
       "      <td>Swing Batta Swing!</td>\n",
       "      <td>0.846</td>\n",
       "      <td>0.657</td>\n",
       "      <td>1.0</td>\n",
       "      <td>-9.642</td>\n",
       "      <td>...</td>\n",
       "      <td>0.1400</td>\n",
       "      <td>0.0478</td>\n",
       "      <td>0.000363</td>\n",
       "      <td>0.0392</td>\n",
       "      <td>0.619</td>\n",
       "      <td>103.743</td>\n",
       "      <td>4.0</td>\n",
       "      <td>28.0</td>\n",
       "      <td>2</td>\n",
       "      <td>0</td>\n",
       "    </tr>\n",
       "  </tbody>\n",
       "</table>\n",
       "<p>5688 rows × 21 columns</p>\n",
       "</div>"
      ],
      "text/plain": [
       "                                                                                      Performer  \\\n",
       "SongID                                                                                            \n",
       "...Baby One More TimeBritney Spears                                              Britney Spears   \n",
       "(Call Me Your) Anything ManBobby Moore                                              Bobby Moore   \n",
       "(everybody Wanna Get Rich) Rite AwayDr. John                                           Dr. John   \n",
       "(For God's Sake) Give More Power To The PeopleT...                                The Chi-lites   \n",
       "(He's) Raining In My SunshineJay & The Americans                            Jay & The Americans   \n",
       "...                                                                                         ...   \n",
       "YouThe McCrarys                                                                    The McCrarys   \n",
       "YouthShawn Mendes Featuring Khalid                                Shawn Mendes Featuring Khalid   \n",
       "YouthTroye Sivan                                                                    Troye Sivan   \n",
       "ZEZEKodak Black Featuring Travis Scott & Offset     Kodak Black Featuring Travis Scott & Offset   \n",
       "Zunga ZengK7                                                                                 K7   \n",
       "\n",
       "                                                                                              Song  \\\n",
       "SongID                                                                                               \n",
       "...Baby One More TimeBritney Spears                                          ...Baby One More Time   \n",
       "(Call Me Your) Anything ManBobby Moore                                 (Call Me Your) Anything Man   \n",
       "(everybody Wanna Get Rich) Rite AwayDr. John                  (everybody Wanna Get Rich) Rite Away   \n",
       "(For God's Sake) Give More Power To The PeopleT...  (For God's Sake) Give More Power To The People   \n",
       "(He's) Raining In My SunshineJay & The Americans                     (He's) Raining In My Sunshine   \n",
       "...                                                                                            ...   \n",
       "YouThe McCrarys                                                                                You   \n",
       "YouthShawn Mendes Featuring Khalid                                                           Youth   \n",
       "YouthTroye Sivan                                                                             Youth   \n",
       "ZEZEKodak Black Featuring Travis Scott & Offset                                               ZEZE   \n",
       "Zunga ZengK7                                                                            Zunga Zeng   \n",
       "\n",
       "                                                                                        spotify_genre  \\\n",
       "SongID                                                                                                  \n",
       "...Baby One More TimeBritney Spears                             ['dance pop', 'pop', 'post-teen pop']   \n",
       "(Call Me Your) Anything ManBobby Moore                                               ['classic soul']   \n",
       "(everybody Wanna Get Rich) Rite AwayDr. John        ['blues', 'blues rock', 'classic rock', 'elect...   \n",
       "(For God's Sake) Give More Power To The PeopleT...  ['chicago soul', 'classic soul', 'disco', 'fun...   \n",
       "(He's) Raining In My SunshineJay & The Americans    ['east coast hip hop', 'hip hop', 'pop rap', '...   \n",
       "...                                                                                               ...   \n",
       "YouThe McCrarys                                                                   ['post-disco soul']   \n",
       "YouthShawn Mendes Featuring Khalid                  ['canadian pop', 'pop', 'post-teen pop', 'vira...   \n",
       "YouthTroye Sivan                                    ['dance pop', 'electropop', 'pop', 'post-teen ...   \n",
       "ZEZEKodak Black Featuring Travis Scott & Offset     ['florida rap', 'hip hop', 'melodic rap', 'mia...   \n",
       "Zunga ZengK7                                                                            ['freestyle']   \n",
       "\n",
       "                                                    spotify_track_duration_minute  \\\n",
       "SongID                                                                              \n",
       "...Baby One More TimeBritney Spears                                          3.52   \n",
       "(Call Me Your) Anything ManBobby Moore                                       6.24   \n",
       "(everybody Wanna Get Rich) Rite AwayDr. John                                 2.73   \n",
       "(For God's Sake) Give More Power To The PeopleT...                           3.00   \n",
       "(He's) Raining In My SunshineJay & The Americans                             3.26   \n",
       "...                                                                           ...   \n",
       "YouThe McCrarys                                                              4.51   \n",
       "YouthShawn Mendes Featuring Khalid                                           3.18   \n",
       "YouthTroye Sivan                                                             3.09   \n",
       "ZEZEKodak Black Featuring Travis Scott & Offset                              3.81   \n",
       "Zunga ZengK7                                                                 4.55   \n",
       "\n",
       "                                                   spotify_track_explicit  \\\n",
       "SongID                                                                      \n",
       "...Baby One More TimeBritney Spears                                 False   \n",
       "(Call Me Your) Anything ManBobby Moore                              False   \n",
       "(everybody Wanna Get Rich) Rite AwayDr. John                        False   \n",
       "(For God's Sake) Give More Power To The PeopleT...                  False   \n",
       "(He's) Raining In My SunshineJay & The Americans                    False   \n",
       "...                                                                   ...   \n",
       "YouThe McCrarys                                                     False   \n",
       "YouthShawn Mendes Featuring Khalid                                  False   \n",
       "YouthTroye Sivan                                                    False   \n",
       "ZEZEKodak Black Featuring Travis Scott & Offset                      True   \n",
       "Zunga ZengK7                                                        False   \n",
       "\n",
       "                                                                                  spotify_track_album  \\\n",
       "SongID                                                                                                  \n",
       "...Baby One More TimeBritney Spears                    ...Baby One More Time (Digital Deluxe Version)   \n",
       "(Call Me Your) Anything ManBobby Moore                                              Disco Gold Vol. 2   \n",
       "(everybody Wanna Get Rich) Rite AwayDr. John                                       Destively Bonnaroo   \n",
       "(For God's Sake) Give More Power To The PeopleT...                             The Ultimate Chi-Lites   \n",
       "(He's) Raining In My SunshineJay & The Americans    Come A Little Bit Closer: The Best Of Jay & Th...   \n",
       "...                                                                                               ...   \n",
       "YouThe McCrarys                                                Loving Is Living (Bonus Track Version)   \n",
       "YouthShawn Mendes Featuring Khalid                                                       Shawn Mendes   \n",
       "YouthTroye Sivan                                                          Blue Neighbourhood (Deluxe)   \n",
       "ZEZEKodak Black Featuring Travis Scott & Offset                                         Dying to Live   \n",
       "Zunga ZengK7                                                                       Swing Batta Swing!   \n",
       "\n",
       "                                                    danceability  energy  key  \\\n",
       "SongID                                                                          \n",
       "...Baby One More TimeBritney Spears                        0.759   0.699  0.0   \n",
       "(Call Me Your) Anything ManBobby Moore                     0.624   0.604  3.0   \n",
       "(everybody Wanna Get Rich) Rite AwayDr. John               0.746   0.916  9.0   \n",
       "(For God's Sake) Give More Power To The PeopleT...         0.665   0.552  6.0   \n",
       "(He's) Raining In My SunshineJay & The Americans           0.478   0.298  2.0   \n",
       "...                                                          ...     ...  ...   \n",
       "YouThe McCrarys                                            0.836   0.383  0.0   \n",
       "YouthShawn Mendes Featuring Khalid                         0.534   0.596  6.0   \n",
       "YouthTroye Sivan                                           0.628   0.737  7.0   \n",
       "ZEZEKodak Black Featuring Travis Scott & Offset            0.861   0.603  8.0   \n",
       "Zunga ZengK7                                               0.846   0.657  1.0   \n",
       "\n",
       "                                                    loudness  ...  \\\n",
       "SongID                                                        ...   \n",
       "...Baby One More TimeBritney Spears                   -5.745  ...   \n",
       "(Call Me Your) Anything ManBobby Moore               -12.401  ...   \n",
       "(everybody Wanna Get Rich) Rite AwayDr. John         -10.061  ...   \n",
       "(For God's Sake) Give More Power To The PeopleT...   -10.177  ...   \n",
       "(He's) Raining In My SunshineJay & The Americans     -13.842  ...   \n",
       "...                                                      ...  ...   \n",
       "YouThe McCrarys                                      -10.924  ...   \n",
       "YouthShawn Mendes Featuring Khalid                    -6.653  ...   \n",
       "YouthTroye Sivan                                      -4.437  ...   \n",
       "ZEZEKodak Black Featuring Travis Scott & Offset       -5.788  ...   \n",
       "Zunga ZengK7                                          -9.642  ...   \n",
       "\n",
       "                                                    speechiness  acousticness  \\\n",
       "SongID                                                                          \n",
       "...Baby One More TimeBritney Spears                      0.0307        0.2020   \n",
       "(Call Me Your) Anything ManBobby Moore                   0.0459        0.0474   \n",
       "(everybody Wanna Get Rich) Rite AwayDr. John             0.0772        0.5180   \n",
       "(For God's Sake) Give More Power To The PeopleT...       0.0307        0.4930   \n",
       "(He's) Raining In My SunshineJay & The Americans         0.0342        0.7400   \n",
       "...                                                         ...           ...   \n",
       "YouThe McCrarys                                          0.0797        0.0246   \n",
       "YouthShawn Mendes Featuring Khalid                       0.1170        0.5600   \n",
       "YouthTroye Sivan                                         0.0410        0.0625   \n",
       "ZEZEKodak Black Featuring Travis Scott & Offset          0.1760        0.0521   \n",
       "Zunga ZengK7                                             0.1400        0.0478   \n",
       "\n",
       "                                                    instrumentalness  \\\n",
       "SongID                                                                 \n",
       "...Baby One More TimeBritney Spears                         0.000131   \n",
       "(Call Me Your) Anything ManBobby Moore                      0.001590   \n",
       "(everybody Wanna Get Rich) Rite AwayDr. John                0.068600   \n",
       "(For God's Sake) Give More Power To The PeopleT...          0.027200   \n",
       "(He's) Raining In My SunshineJay & The Americans            0.000011   \n",
       "...                                                              ...   \n",
       "YouThe McCrarys                                             0.000017   \n",
       "YouthShawn Mendes Featuring Khalid                          0.000000   \n",
       "YouthTroye Sivan                                            0.000000   \n",
       "ZEZEKodak Black Featuring Travis Scott & Offset             0.000000   \n",
       "Zunga ZengK7                                                0.000363   \n",
       "\n",
       "                                                    liveness  valence  \\\n",
       "SongID                                                                  \n",
       "...Baby One More TimeBritney Spears                   0.4430    0.907   \n",
       "(Call Me Your) Anything ManBobby Moore                0.2630    0.760   \n",
       "(everybody Wanna Get Rich) Rite AwayDr. John          0.0785    0.971   \n",
       "(For God's Sake) Give More Power To The PeopleT...    0.4210    0.899   \n",
       "(He's) Raining In My SunshineJay & The Americans      0.1390    0.376   \n",
       "...                                                      ...      ...   \n",
       "YouThe McCrarys                                       0.0701    0.853   \n",
       "YouthShawn Mendes Featuring Khalid                    0.1330    0.324   \n",
       "YouthTroye Sivan                                      0.0777    0.592   \n",
       "ZEZEKodak Black Featuring Travis Scott & Offset       0.0924    0.504   \n",
       "Zunga ZengK7                                          0.0392    0.619   \n",
       "\n",
       "                                                      tempo  time_signature  \\\n",
       "SongID                                                                        \n",
       "...Baby One More TimeBritney Spears                  92.960             4.0   \n",
       "(Call Me Your) Anything ManBobby Moore               91.554             4.0   \n",
       "(everybody Wanna Get Rich) Rite AwayDr. John         99.926             4.0   \n",
       "(For God's Sake) Give More Power To The PeopleT...   96.889             4.0   \n",
       "(He's) Raining In My SunshineJay & The Americans    110.006             4.0   \n",
       "...                                                     ...             ...   \n",
       "YouThe McCrarys                                     106.355             4.0   \n",
       "YouthShawn Mendes Featuring Khalid                  100.121             4.0   \n",
       "YouthTroye Sivan                                     91.507             4.0   \n",
       "ZEZEKodak Black Featuring Travis Scott & Offset      98.043             4.0   \n",
       "Zunga ZengK7                                        103.743             4.0   \n",
       "\n",
       "                                                    spotify_track_popularity  \\\n",
       "SongID                                                                         \n",
       "...Baby One More TimeBritney Spears                                     77.0   \n",
       "(Call Me Your) Anything ManBobby Moore                                   4.0   \n",
       "(everybody Wanna Get Rich) Rite AwayDr. John                            54.0   \n",
       "(For God's Sake) Give More Power To The PeopleT...                      29.0   \n",
       "(He's) Raining In My SunshineJay & The Americans                        10.0   \n",
       "...                                                                      ...   \n",
       "YouThe McCrarys                                                         10.0   \n",
       "YouthShawn Mendes Featuring Khalid                                      76.0   \n",
       "YouthTroye Sivan                                                        68.0   \n",
       "ZEZEKodak Black Featuring Travis Scott & Offset                         84.0   \n",
       "Zunga ZengK7                                                            28.0   \n",
       "\n",
       "                                                    maingenere  User  \n",
       "SongID                                                                \n",
       "...Baby One More TimeBritney Spears                          0     0  \n",
       "(Call Me Your) Anything ManBobby Moore                       3     0  \n",
       "(everybody Wanna Get Rich) Rite AwayDr. John                 8     0  \n",
       "(For God's Sake) Give More Power To The PeopleT...           3     0  \n",
       "(He's) Raining In My SunshineJay & The Americans             4     0  \n",
       "...                                                        ...   ...  \n",
       "YouThe McCrarys                                              6     0  \n",
       "YouthShawn Mendes Featuring Khalid                           0     0  \n",
       "YouthTroye Sivan                                             0     0  \n",
       "ZEZEKodak Black Featuring Travis Scott & Offset              4     0  \n",
       "Zunga ZengK7                                                 2     0  \n",
       "\n",
       "[5688 rows x 21 columns]"
      ]
     },
     "metadata": {},
     "output_type": "display_data"
    },
    {
     "name": "stderr",
     "output_type": "stream",
     "text": [
      "c:\\Users\\elped\\AppData\\Local\\Programs\\Python\\Python312\\Lib\\site-packages\\keras\\src\\layers\\core\\dense.py:87: UserWarning: Do not pass an `input_shape`/`input_dim` argument to a layer. When using Sequential models, prefer using an `Input(shape)` object as the first layer in the model instead.\n",
      "  super().__init__(activity_regularizer=activity_regularizer, **kwargs)\n"
     ]
    },
    {
     "name": "stdout",
     "output_type": "stream",
     "text": [
      "Epoch 1/30\n",
      "\u001b[1m143/143\u001b[0m \u001b[32m━━━━━━━━━━━━━━━━━━━━\u001b[0m\u001b[37m\u001b[0m \u001b[1m6s\u001b[0m 15ms/step - loss: 0.1047 - mae: 0.2487 - val_loss: 0.0438 - val_mae: 0.1685\n",
      "Epoch 2/30\n",
      "\u001b[1m143/143\u001b[0m \u001b[32m━━━━━━━━━━━━━━━━━━━━\u001b[0m\u001b[37m\u001b[0m \u001b[1m0s\u001b[0m 2ms/step - loss: 0.0402 - mae: 0.1614 - val_loss: 0.0370 - val_mae: 0.1551\n",
      "Epoch 3/30\n",
      "\u001b[1m143/143\u001b[0m \u001b[32m━━━━━━━━━━━━━━━━━━━━\u001b[0m\u001b[37m\u001b[0m \u001b[1m1s\u001b[0m 6ms/step - loss: 0.0346 - mae: 0.1496 - val_loss: 0.0349 - val_mae: 0.1524\n",
      "Epoch 4/30\n",
      "\u001b[1m143/143\u001b[0m \u001b[32m━━━━━━━━━━━━━━━━━━━━\u001b[0m\u001b[37m\u001b[0m \u001b[1m1s\u001b[0m 4ms/step - loss: 0.0328 - mae: 0.1459 - val_loss: 0.0324 - val_mae: 0.1468\n",
      "Epoch 5/30\n",
      "\u001b[1m143/143\u001b[0m \u001b[32m━━━━━━━━━━━━━━━━━━━━\u001b[0m\u001b[37m\u001b[0m \u001b[1m1s\u001b[0m 6ms/step - loss: 0.0313 - mae: 0.1422 - val_loss: 0.0323 - val_mae: 0.1457\n",
      "Epoch 6/30\n",
      "\u001b[1m143/143\u001b[0m \u001b[32m━━━━━━━━━━━━━━━━━━━━\u001b[0m\u001b[37m\u001b[0m \u001b[1m0s\u001b[0m 3ms/step - loss: 0.0309 - mae: 0.1406 - val_loss: 0.0317 - val_mae: 0.1446\n",
      "Epoch 7/30\n",
      "\u001b[1m143/143\u001b[0m \u001b[32m━━━━━━━━━━━━━━━━━━━━\u001b[0m\u001b[37m\u001b[0m \u001b[1m1s\u001b[0m 6ms/step - loss: 0.0293 - mae: 0.1379 - val_loss: 0.0314 - val_mae: 0.1437\n",
      "Epoch 8/30\n",
      "\u001b[1m143/143\u001b[0m \u001b[32m━━━━━━━━━━━━━━━━━━━━\u001b[0m\u001b[37m\u001b[0m \u001b[1m0s\u001b[0m 2ms/step - loss: 0.0287 - mae: 0.1346 - val_loss: 0.0305 - val_mae: 0.1408\n",
      "Epoch 9/30\n",
      "\u001b[1m143/143\u001b[0m \u001b[32m━━━━━━━━━━━━━━━━━━━━\u001b[0m\u001b[37m\u001b[0m \u001b[1m0s\u001b[0m 2ms/step - loss: 0.0286 - mae: 0.1354 - val_loss: 0.0312 - val_mae: 0.1426\n",
      "Epoch 10/30\n",
      "\u001b[1m143/143\u001b[0m \u001b[32m━━━━━━━━━━━━━━━━━━━━\u001b[0m\u001b[37m\u001b[0m \u001b[1m1s\u001b[0m 3ms/step - loss: 0.0285 - mae: 0.1345 - val_loss: 0.0308 - val_mae: 0.1432\n",
      "Epoch 11/30\n",
      "\u001b[1m143/143\u001b[0m \u001b[32m━━━━━━━━━━━━━━━━━━━━\u001b[0m\u001b[37m\u001b[0m \u001b[1m0s\u001b[0m 3ms/step - loss: 0.0272 - mae: 0.1319 - val_loss: 0.0312 - val_mae: 0.1448\n",
      "Epoch 12/30\n",
      "\u001b[1m143/143\u001b[0m \u001b[32m━━━━━━━━━━━━━━━━━━━━\u001b[0m\u001b[37m\u001b[0m \u001b[1m1s\u001b[0m 3ms/step - loss: 0.0269 - mae: 0.1310 - val_loss: 0.0303 - val_mae: 0.1421\n",
      "Epoch 13/30\n",
      "\u001b[1m143/143\u001b[0m \u001b[32m━━━━━━━━━━━━━━━━━━━━\u001b[0m\u001b[37m\u001b[0m \u001b[1m0s\u001b[0m 3ms/step - loss: 0.0275 - mae: 0.1316 - val_loss: 0.0303 - val_mae: 0.1413\n",
      "Epoch 14/30\n",
      "\u001b[1m143/143\u001b[0m \u001b[32m━━━━━━━━━━━━━━━━━━━━\u001b[0m\u001b[37m\u001b[0m \u001b[1m0s\u001b[0m 3ms/step - loss: 0.0274 - mae: 0.1316 - val_loss: 0.0308 - val_mae: 0.1436\n",
      "Epoch 15/30\n",
      "\u001b[1m143/143\u001b[0m \u001b[32m━━━━━━━━━━━━━━━━━━━━\u001b[0m\u001b[37m\u001b[0m \u001b[1m1s\u001b[0m 2ms/step - loss: 0.0260 - mae: 0.1291 - val_loss: 0.0298 - val_mae: 0.1403\n",
      "Epoch 16/30\n",
      "\u001b[1m143/143\u001b[0m \u001b[32m━━━━━━━━━━━━━━━━━━━━\u001b[0m\u001b[37m\u001b[0m \u001b[1m0s\u001b[0m 2ms/step - loss: 0.0259 - mae: 0.1279 - val_loss: 0.0299 - val_mae: 0.1392\n",
      "Epoch 17/30\n",
      "\u001b[1m143/143\u001b[0m \u001b[32m━━━━━━━━━━━━━━━━━━━━\u001b[0m\u001b[37m\u001b[0m \u001b[1m0s\u001b[0m 3ms/step - loss: 0.0270 - mae: 0.1308 - val_loss: 0.0296 - val_mae: 0.1393\n",
      "Epoch 18/30\n",
      "\u001b[1m143/143\u001b[0m \u001b[32m━━━━━━━━━━━━━━━━━━━━\u001b[0m\u001b[37m\u001b[0m \u001b[1m0s\u001b[0m 2ms/step - loss: 0.0257 - mae: 0.1263 - val_loss: 0.0297 - val_mae: 0.1398\n",
      "Epoch 19/30\n",
      "\u001b[1m143/143\u001b[0m \u001b[32m━━━━━━━━━━━━━━━━━━━━\u001b[0m\u001b[37m\u001b[0m \u001b[1m0s\u001b[0m 2ms/step - loss: 0.0265 - mae: 0.1299 - val_loss: 0.0322 - val_mae: 0.1470\n",
      "Epoch 20/30\n",
      "\u001b[1m143/143\u001b[0m \u001b[32m━━━━━━━━━━━━━━━━━━━━\u001b[0m\u001b[37m\u001b[0m \u001b[1m1s\u001b[0m 3ms/step - loss: 0.0267 - mae: 0.1302 - val_loss: 0.0300 - val_mae: 0.1403\n",
      "Epoch 21/30\n",
      "\u001b[1m143/143\u001b[0m \u001b[32m━━━━━━━━━━━━━━━━━━━━\u001b[0m\u001b[37m\u001b[0m \u001b[1m0s\u001b[0m 3ms/step - loss: 0.0246 - mae: 0.1252 - val_loss: 0.0299 - val_mae: 0.1395\n",
      "Epoch 22/30\n",
      "\u001b[1m143/143\u001b[0m \u001b[32m━━━━━━━━━━━━━━━━━━━━\u001b[0m\u001b[37m\u001b[0m \u001b[1m0s\u001b[0m 3ms/step - loss: 0.0264 - mae: 0.1294 - val_loss: 0.0300 - val_mae: 0.1411\n",
      "Epoch 23/30\n",
      "\u001b[1m143/143\u001b[0m \u001b[32m━━━━━━━━━━━━━━━━━━━━\u001b[0m\u001b[37m\u001b[0m \u001b[1m1s\u001b[0m 6ms/step - loss: 0.0236 - mae: 0.1214 - val_loss: 0.0297 - val_mae: 0.1394\n",
      "Epoch 24/30\n",
      "\u001b[1m143/143\u001b[0m \u001b[32m━━━━━━━━━━━━━━━━━━━━\u001b[0m\u001b[37m\u001b[0m \u001b[1m1s\u001b[0m 4ms/step - loss: 0.0255 - mae: 0.1262 - val_loss: 0.0308 - val_mae: 0.1431\n",
      "Epoch 25/30\n",
      "\u001b[1m143/143\u001b[0m \u001b[32m━━━━━━━━━━━━━━━━━━━━\u001b[0m\u001b[37m\u001b[0m \u001b[1m0s\u001b[0m 3ms/step - loss: 0.0257 - mae: 0.1284 - val_loss: 0.0300 - val_mae: 0.1408\n",
      "Epoch 26/30\n",
      "\u001b[1m143/143\u001b[0m \u001b[32m━━━━━━━━━━━━━━━━━━━━\u001b[0m\u001b[37m\u001b[0m \u001b[1m1s\u001b[0m 5ms/step - loss: 0.0241 - mae: 0.1233 - val_loss: 0.0309 - val_mae: 0.1416\n",
      "Epoch 27/30\n",
      "\u001b[1m143/143\u001b[0m \u001b[32m━━━━━━━━━━━━━━━━━━━━\u001b[0m\u001b[37m\u001b[0m \u001b[1m1s\u001b[0m 4ms/step - loss: 0.0243 - mae: 0.1232 - val_loss: 0.0299 - val_mae: 0.1385\n",
      "Epoch 28/30\n",
      "\u001b[1m143/143\u001b[0m \u001b[32m━━━━━━━━━━━━━━━━━━━━\u001b[0m\u001b[37m\u001b[0m \u001b[1m0s\u001b[0m 3ms/step - loss: 0.0253 - mae: 0.1265 - val_loss: 0.0301 - val_mae: 0.1390\n",
      "Epoch 29/30\n",
      "\u001b[1m143/143\u001b[0m \u001b[32m━━━━━━━━━━━━━━━━━━━━\u001b[0m\u001b[37m\u001b[0m \u001b[1m0s\u001b[0m 3ms/step - loss: 0.0242 - mae: 0.1233 - val_loss: 0.0305 - val_mae: 0.1408\n",
      "Epoch 30/30\n",
      "\u001b[1m143/143\u001b[0m \u001b[32m━━━━━━━━━━━━━━━━━━━━\u001b[0m\u001b[37m\u001b[0m \u001b[1m1s\u001b[0m 3ms/step - loss: 0.0248 - mae: 0.1251 - val_loss: 0.0304 - val_mae: 0.1405\n",
      "\u001b[1m36/36\u001b[0m \u001b[32m━━━━━━━━━━━━━━━━━━━━\u001b[0m\u001b[37m\u001b[0m \u001b[1m0s\u001b[0m 3ms/step\n",
      "\n",
      "Reccomendations for User0:\n"
     ]
    },
    {
     "ename": "AttributeError",
     "evalue": "'dict' object has no attribute 'empty'",
     "output_type": "error",
     "traceback": [
      "\u001b[1;31m---------------------------------------------------------------------------\u001b[0m",
      "\u001b[1;31mAttributeError\u001b[0m                            Traceback (most recent call last)",
      "Cell \u001b[1;32mIn[125], line 80\u001b[0m\n\u001b[0;32m     78\u001b[0m \u001b[38;5;66;03m# in order to visualize reccomandation\u001b[39;00m\n\u001b[0;32m     79\u001b[0m \u001b[38;5;28mprint\u001b[39m(\u001b[38;5;124mf\u001b[39m\u001b[38;5;124m'\u001b[39m\u001b[38;5;130;01m\\n\u001b[39;00m\u001b[38;5;124mReccomendations for User\u001b[39m\u001b[38;5;132;01m{\u001b[39;00mi\u001b[38;5;132;01m}\u001b[39;00m\u001b[38;5;124m:\u001b[39m\u001b[38;5;124m'\u001b[39m)\n\u001b[1;32m---> 80\u001b[0m \u001b[38;5;28;01mif\u001b[39;00m \u001b[43mreccomended_songs\u001b[49m\u001b[38;5;241;43m.\u001b[39;49m\u001b[43mempty\u001b[49m:\n\u001b[0;32m     81\u001b[0m     \u001b[38;5;28mprint\u001b[39m(\u001b[38;5;124m'\u001b[39m\u001b[38;5;124mNo songs recommended based on valence threshold\u001b[39m\u001b[38;5;124m'\u001b[39m)\n\u001b[0;32m     82\u001b[0m \u001b[38;5;28;01melse\u001b[39;00m:\n",
      "\u001b[1;31mAttributeError\u001b[0m: 'dict' object has no attribute 'empty'"
     ]
    }
   ],
   "source": [
    "dizio_model_user = {} #in this dizio we store the model for each user\n",
    "\n",
    "# DICTIONARY TO STORE SONG RECOMMENDATION PER USER\n",
    "reccomandations_songs_per_user={}\n",
    "\n",
    "\n",
    "#loop creation user and model\n",
    "#for i in range(0, len(merge_unique_numain_df['User'].unique())): #i indica lo user   \n",
    "for i in range(0,1):\n",
    "\n",
    "    #select user\n",
    "    mask_user = merge_unique_numain_df['User'] == i\n",
    "    #display(mask_user)\n",
    "    user_i_df = merge_unique_numain_df[mask_user]\n",
    "    display(user_i_df) \n",
    "\n",
    "    #extract the feature and target\n",
    "    x = user_i_df[feature]\n",
    "    y = user_i_df[target]\n",
    "\n",
    "    #normalization\n",
    "    x_scaled = StandardScaler().fit_transform(x)\n",
    "\n",
    "    #split; serve farlo? non se ne occupa il fit? chiedere\n",
    "    x_train,x_test,y_train,y_test=train_test_split(x_scaled,y,test_size=0.2,random_state=42)\n",
    "    #display(x_train)\n",
    "\n",
    "    #conversion\n",
    "    y_train=np.array(y_train)\n",
    "    y_test=np.array(y_test)\n",
    "\n",
    "    #creation model for the specific user\n",
    "    model_user_i = create_model_user(x_train.shape[1])\n",
    "    \n",
    "    #fit the model with the different x, y train (for different user)\n",
    "    history_model_user_i = fit_model(model_user_i, x_train, y_train, x_test, y_test)\n",
    "\n",
    "    #test no function\n",
    "    '''history_model_user_i = model_user_i.fit(\n",
    "        x_train,y_train,\n",
    "        #validation_split=0.2,\n",
    "        validation_data = [x_test, y_test],\n",
    "        epochs=30,\n",
    "        batch_size=32,\n",
    "        #verbose=1\n",
    "    )'''\n",
    "\n",
    "    # AGGIUNTO A.L.\n",
    "    #y_hat=model_user_i.predict(x_train)\n",
    "    y_hat = model_user_i.predict(x_test)\n",
    "\n",
    "    ###################################\n",
    "    ###################################\n",
    "    # AGGIUNTO A.L. --> RECOMANDATION #\n",
    "    ###################################\n",
    "    ###################################\n",
    "\n",
    "    #in order to have indices match between y_hat and x_test\n",
    "    \n",
    "    #x_test_indices = user_i_df.iloc[np.arange(len(y_hat))].index\n",
    "    x_test_name_song = user_i_df.iloc[np.arange(len(y_hat))].index\n",
    "    \n",
    "    # Threshold for raccommendations --> valence > 0.7\n",
    "    \n",
    "    #reccomended_songs=user_i_df.loc[x_test_indices][y_hat.flatten()>0.7] # filtet songs with valence > 0.7\n",
    "    #reccomended_songs = user_i_df.loc[x_test_name_song][y_hat.flatten()>0.7] # filtet songs with valence > 0.7\n",
    "    #display(reccomended_songs)    \n",
    "\n",
    "    #Dataframe_prova = pd.DataFrame(columns=[])\n",
    "    Dataframe_prova = pd.DataFrame()\n",
    "\n",
    "    reccomended_songs = {\n",
    "        'Song':x_test_name_song,\n",
    "        'Original Test': y_test,\n",
    "        'Prediction Test':yhat.flatten()\n",
    "    }\n",
    "\n",
    "\n",
    "    # in order to visualize reccomandation\n",
    "    print(f'\\nReccomendations for User{i}:')\n",
    "    if reccomended_songs.empty:\n",
    "        print('No songs recommended based on valence threshold')\n",
    "    else:\n",
    "        display(reccomended_songs[['Song','Performer','valence']])\n",
    "\n",
    "    # Now we want to save recommendation in dictionary\n",
    "    reccomandations_songs_per_user['User{i}']=reccomended_songs\n",
    "\n",
    "    #QUALCOSA NON QUADRA --> AGGIUNGE AL DIZIONARIO ANCHE CANZONI CON VALENCE > 0.7\n",
    "\n",
    "    print('-----------------------------------------------------')\n",
    "\n",
    "    #plot the metrics of the model\n",
    "    print('---------------------------------------------------------')\n",
    "    print(f'USER {i}')\n",
    "    plot_for_model(history_model_user_i, y_hat, x_test)\n",
    "\n",
    "    #compute MSE\n",
    "    print('MSE')\n",
    "    mse = mean_squared_error(y_test, y_hat)\n",
    "    display(mse)\n",
    "\n",
    "    #save the model in the dictionary\n",
    "    #add also the raccomandations\n",
    "    dizio_model_user[f\"User{i}\"] = {'model_user_i' : model_user_i,\n",
    "                                    'history_model_user_i': history_model_user_i,\n",
    "                                    'x_train': x_train,\n",
    "                                    'x_test': x_test,\n",
    "                                    'y_train': y_train,\n",
    "                                    'y_test': y_test,\n",
    "                                    'y_hat': y_hat,\n",
    "                                    'recommendations:': reccomended_songs} \n",
    "\n",
    "    "
   ]
  },
  {
   "cell_type": "code",
   "execution_count": null,
   "metadata": {},
   "outputs": [
    {
     "data": {
      "text/plain": [
       "Index(['Performer', 'Song', 'spotify_genre', 'spotify_track_duration_minute',\n",
       "       'spotify_track_explicit', 'spotify_track_album', 'danceability',\n",
       "       'energy', 'key', 'loudness', 'mode', 'speechiness', 'acousticness',\n",
       "       'instrumentalness', 'liveness', 'valence', 'tempo', 'time_signature',\n",
       "       'spotify_track_popularity', 'maingenere', 'User'],\n",
       "      dtype='object')"
      ]
     },
     "execution_count": 42,
     "metadata": {},
     "output_type": "execute_result"
    }
   ],
   "source": [
    "merge_unique_numain_df.columns"
   ]
  },
  {
   "cell_type": "markdown",
   "metadata": {},
   "source": [
    "## TEST DIZIONARIO MODELLI PER USER"
   ]
  },
  {
   "cell_type": "code",
   "execution_count": null,
   "metadata": {},
   "outputs": [
    {
     "data": {
      "text/html": [
       "<pre style=\"white-space:pre;overflow-x:auto;line-height:normal;font-family:Menlo,'DejaVu Sans Mono',consolas,'Courier New',monospace\"><span style=\"font-weight: bold\">Model: \"sequential_1\"</span>\n",
       "</pre>\n"
      ],
      "text/plain": [
       "\u001b[1mModel: \"sequential_1\"\u001b[0m\n"
      ]
     },
     "metadata": {},
     "output_type": "display_data"
    },
    {
     "data": {
      "text/html": [
       "<pre style=\"white-space:pre;overflow-x:auto;line-height:normal;font-family:Menlo,'DejaVu Sans Mono',consolas,'Courier New',monospace\">┏━━━━━━━━━━━━━━━━━━━━━━━━━━━━━━━━━┳━━━━━━━━━━━━━━━━━━━━━━━━┳━━━━━━━━━━━━━━━┓\n",
       "┃<span style=\"font-weight: bold\"> Layer (type)                    </span>┃<span style=\"font-weight: bold\"> Output Shape           </span>┃<span style=\"font-weight: bold\">       Param # </span>┃\n",
       "┡━━━━━━━━━━━━━━━━━━━━━━━━━━━━━━━━━╇━━━━━━━━━━━━━━━━━━━━━━━━╇━━━━━━━━━━━━━━━┩\n",
       "│ first_layer (<span style=\"color: #0087ff; text-decoration-color: #0087ff\">Dense</span>)             │ (<span style=\"color: #00d7ff; text-decoration-color: #00d7ff\">None</span>, <span style=\"color: #00af00; text-decoration-color: #00af00\">32</span>)             │           <span style=\"color: #00af00; text-decoration-color: #00af00\">448</span> │\n",
       "├─────────────────────────────────┼────────────────────────┼───────────────┤\n",
       "│ secod_layer (<span style=\"color: #0087ff; text-decoration-color: #0087ff\">Dense</span>)             │ (<span style=\"color: #00d7ff; text-decoration-color: #00d7ff\">None</span>, <span style=\"color: #00af00; text-decoration-color: #00af00\">16</span>)             │           <span style=\"color: #00af00; text-decoration-color: #00af00\">528</span> │\n",
       "├─────────────────────────────────┼────────────────────────┼───────────────┤\n",
       "│ final_layer (<span style=\"color: #0087ff; text-decoration-color: #0087ff\">Dense</span>)             │ (<span style=\"color: #00d7ff; text-decoration-color: #00d7ff\">None</span>, <span style=\"color: #00af00; text-decoration-color: #00af00\">1</span>)              │            <span style=\"color: #00af00; text-decoration-color: #00af00\">17</span> │\n",
       "└─────────────────────────────────┴────────────────────────┴───────────────┘\n",
       "</pre>\n"
      ],
      "text/plain": [
       "┏━━━━━━━━━━━━━━━━━━━━━━━━━━━━━━━━━┳━━━━━━━━━━━━━━━━━━━━━━━━┳━━━━━━━━━━━━━━━┓\n",
       "┃\u001b[1m \u001b[0m\u001b[1mLayer (type)                   \u001b[0m\u001b[1m \u001b[0m┃\u001b[1m \u001b[0m\u001b[1mOutput Shape          \u001b[0m\u001b[1m \u001b[0m┃\u001b[1m \u001b[0m\u001b[1m      Param #\u001b[0m\u001b[1m \u001b[0m┃\n",
       "┡━━━━━━━━━━━━━━━━━━━━━━━━━━━━━━━━━╇━━━━━━━━━━━━━━━━━━━━━━━━╇━━━━━━━━━━━━━━━┩\n",
       "│ first_layer (\u001b[38;5;33mDense\u001b[0m)             │ (\u001b[38;5;45mNone\u001b[0m, \u001b[38;5;34m32\u001b[0m)             │           \u001b[38;5;34m448\u001b[0m │\n",
       "├─────────────────────────────────┼────────────────────────┼───────────────┤\n",
       "│ secod_layer (\u001b[38;5;33mDense\u001b[0m)             │ (\u001b[38;5;45mNone\u001b[0m, \u001b[38;5;34m16\u001b[0m)             │           \u001b[38;5;34m528\u001b[0m │\n",
       "├─────────────────────────────────┼────────────────────────┼───────────────┤\n",
       "│ final_layer (\u001b[38;5;33mDense\u001b[0m)             │ (\u001b[38;5;45mNone\u001b[0m, \u001b[38;5;34m1\u001b[0m)              │            \u001b[38;5;34m17\u001b[0m │\n",
       "└─────────────────────────────────┴────────────────────────┴───────────────┘\n"
      ]
     },
     "metadata": {},
     "output_type": "display_data"
    },
    {
     "data": {
      "text/html": [
       "<pre style=\"white-space:pre;overflow-x:auto;line-height:normal;font-family:Menlo,'DejaVu Sans Mono',consolas,'Courier New',monospace\"><span style=\"font-weight: bold\"> Total params: </span><span style=\"color: #00af00; text-decoration-color: #00af00\">2,981</span> (11.65 KB)\n",
       "</pre>\n"
      ],
      "text/plain": [
       "\u001b[1m Total params: \u001b[0m\u001b[38;5;34m2,981\u001b[0m (11.65 KB)\n"
      ]
     },
     "metadata": {},
     "output_type": "display_data"
    },
    {
     "data": {
      "text/html": [
       "<pre style=\"white-space:pre;overflow-x:auto;line-height:normal;font-family:Menlo,'DejaVu Sans Mono',consolas,'Courier New',monospace\"><span style=\"font-weight: bold\"> Trainable params: </span><span style=\"color: #00af00; text-decoration-color: #00af00\">993</span> (3.88 KB)\n",
       "</pre>\n"
      ],
      "text/plain": [
       "\u001b[1m Trainable params: \u001b[0m\u001b[38;5;34m993\u001b[0m (3.88 KB)\n"
      ]
     },
     "metadata": {},
     "output_type": "display_data"
    },
    {
     "data": {
      "text/html": [
       "<pre style=\"white-space:pre;overflow-x:auto;line-height:normal;font-family:Menlo,'DejaVu Sans Mono',consolas,'Courier New',monospace\"><span style=\"font-weight: bold\"> Non-trainable params: </span><span style=\"color: #00af00; text-decoration-color: #00af00\">0</span> (0.00 B)\n",
       "</pre>\n"
      ],
      "text/plain": [
       "\u001b[1m Non-trainable params: \u001b[0m\u001b[38;5;34m0\u001b[0m (0.00 B)\n"
      ]
     },
     "metadata": {},
     "output_type": "display_data"
    },
    {
     "data": {
      "text/html": [
       "<pre style=\"white-space:pre;overflow-x:auto;line-height:normal;font-family:Menlo,'DejaVu Sans Mono',consolas,'Courier New',monospace\"><span style=\"font-weight: bold\"> Optimizer params: </span><span style=\"color: #00af00; text-decoration-color: #00af00\">1,988</span> (7.77 KB)\n",
       "</pre>\n"
      ],
      "text/plain": [
       "\u001b[1m Optimizer params: \u001b[0m\u001b[38;5;34m1,988\u001b[0m (7.77 KB)\n"
      ]
     },
     "metadata": {},
     "output_type": "display_data"
    }
   ],
   "source": [
    "dizio_model_user['User0']['model_user_i'].summary()"
   ]
  },
  {
   "cell_type": "code",
   "execution_count": null,
   "metadata": {},
   "outputs": [
    {
     "name": "stdout",
     "output_type": "stream",
     "text": [
      "Stored 'merge_unique_df' (DataFrame)\n"
     ]
    }
   ],
   "source": [
    "%store merge_unique_df"
   ]
  },
  {
   "cell_type": "code",
   "execution_count": null,
   "metadata": {},
   "outputs": [
    {
     "name": "stdout",
     "output_type": "stream",
     "text": [
      "Stored 'merge_unique_numain_df' (DataFrame)\n"
     ]
    }
   ],
   "source": [
    "%store merge_unique_numain_df"
   ]
  },
  {
   "cell_type": "code",
   "execution_count": null,
   "metadata": {},
   "outputs": [
    {
     "name": "stdout",
     "output_type": "stream",
     "text": [
      "Stored 'dizio_main' (dict)\n"
     ]
    }
   ],
   "source": [
    "%store dizio_main"
   ]
  },
  {
   "cell_type": "code",
   "execution_count": null,
   "metadata": {},
   "outputs": [],
   "source": []
  }
 ],
 "metadata": {
  "kernelspec": {
   "display_name": "Python 3",
   "language": "python",
   "name": "python3"
  },
  "language_info": {
   "codemirror_mode": {
    "name": "ipython",
    "version": 3
   },
   "file_extension": ".py",
   "mimetype": "text/x-python",
   "name": "python",
   "nbconvert_exporter": "python",
   "pygments_lexer": "ipython3",
   "version": "3.12.1"
  }
 },
 "nbformat": 4,
 "nbformat_minor": 2
}
