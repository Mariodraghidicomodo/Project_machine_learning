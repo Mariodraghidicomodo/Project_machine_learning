{
 "cells": [
  {
   "cell_type": "markdown",
   "metadata": {},
   "source": [
    "# IDEA:\n",
    "\n",
    "Now we want group by the df for the users, in order to have 5 df one for each user \n",
    "In order to build our NN"
   ]
  },
  {
   "cell_type": "code",
   "execution_count": 1,
   "metadata": {},
   "outputs": [],
   "source": [
    "# we recall our df after the clustering procedure\n",
    "%store -r merge_unique_df"
   ]
  },
  {
   "cell_type": "code",
   "execution_count": 2,
   "metadata": {},
   "outputs": [
    {
     "name": "stdout",
     "output_type": "stream",
     "text": [
      "<class 'pandas.core.frame.DataFrame'>\n",
      "Index: 27207 entries, -twistin'-White Silver SandsBill Black's Combo to Zunga ZengK7\n",
      "Data columns (total 21 columns):\n",
      " #   Column                         Non-Null Count  Dtype  \n",
      "---  ------                         --------------  -----  \n",
      " 0   Performer                      27207 non-null  object \n",
      " 1   Song                           27207 non-null  object \n",
      " 2   spotify_genre                  27207 non-null  object \n",
      " 3   spotify_track_duration_minute  27207 non-null  float64\n",
      " 4   spotify_track_explicit         27207 non-null  object \n",
      " 5   spotify_track_album            27207 non-null  object \n",
      " 6   danceability                   27207 non-null  float64\n",
      " 7   energy                         27207 non-null  float64\n",
      " 8   key                            27207 non-null  float64\n",
      " 9   loudness                       27207 non-null  float64\n",
      " 10  mode                           27207 non-null  float64\n",
      " 11  speechiness                    27207 non-null  float64\n",
      " 12  acousticness                   27207 non-null  float64\n",
      " 13  instrumentalness               27207 non-null  float64\n",
      " 14  liveness                       27207 non-null  float64\n",
      " 15  valence                        27207 non-null  float64\n",
      " 16  tempo                          27207 non-null  float64\n",
      " 17  time_signature                 27207 non-null  float64\n",
      " 18  spotify_track_popularity       27207 non-null  float64\n",
      " 19  maingenere                     27207 non-null  object \n",
      " 20  cluster                        27207 non-null  int32  \n",
      "dtypes: float64(14), int32(1), object(6)\n",
      "memory usage: 4.5+ MB\n"
     ]
    }
   ],
   "source": [
    "merge_unique_df.info()"
   ]
  },
  {
   "cell_type": "code",
   "execution_count": null,
   "metadata": {},
   "outputs": [
    {
     "name": "stdout",
     "output_type": "stream",
     "text": [
      "<class 'pandas.core.frame.DataFrame'>\n",
      "Index: 27207 entries, -twistin'-White Silver SandsBill Black's Combo to Zunga ZengK7\n",
      "Data columns (total 21 columns):\n",
      " #   Column                         Non-Null Count  Dtype  \n",
      "---  ------                         --------------  -----  \n",
      " 0   Performer                      27207 non-null  object \n",
      " 1   Song                           27207 non-null  object \n",
      " 2   spotify_genre                  27207 non-null  object \n",
      " 3   spotify_track_duration_minute  27207 non-null  float64\n",
      " 4   spotify_track_explicit         27207 non-null  object \n",
      " 5   spotify_track_album            27207 non-null  object \n",
      " 6   danceability                   27207 non-null  float64\n",
      " 7   energy                         27207 non-null  float64\n",
      " 8   key                            27207 non-null  float64\n",
      " 9   loudness                       27207 non-null  float64\n",
      " 10  mode                           27207 non-null  float64\n",
      " 11  speechiness                    27207 non-null  float64\n",
      " 12  acousticness                   27207 non-null  float64\n",
      " 13  instrumentalness               27207 non-null  float64\n",
      " 14  liveness                       27207 non-null  float64\n",
      " 15  valence                        27207 non-null  float64\n",
      " 16  tempo                          27207 non-null  float64\n",
      " 17  time_signature                 27207 non-null  float64\n",
      " 18  spotify_track_popularity       27207 non-null  float64\n",
      " 19  maingenere                     27207 non-null  object \n",
      " 20  User                           27207 non-null  int32  \n",
      "dtypes: float64(14), int32(1), object(6)\n",
      "memory usage: 4.5+ MB\n"
     ]
    }
   ],
   "source": [
    "# i want to rename the column Cluster --> WILL BE OUR USER \n",
    "merge_unique_df.rename(columns={'cluster':'User'},inplace=True)\n",
    "merge_unique_df.info()"
   ]
  },
  {
   "cell_type": "code",
   "execution_count": null,
   "metadata": {},
   "outputs": [
    {
     "data": {
      "text/plain": [
       "Index(['Performer', 'Song', 'spotify_genre', 'spotify_track_duration_minute',\n",
       "       'spotify_track_explicit', 'spotify_track_album', 'danceability',\n",
       "       'energy', 'key', 'loudness', 'mode', 'speechiness', 'acousticness',\n",
       "       'instrumentalness', 'liveness', 'valence', 'tempo', 'time_signature',\n",
       "       'spotify_track_popularity', 'maingenere', 'User'],\n",
       "      dtype='object')"
      ]
     },
     "execution_count": 4,
     "metadata": {},
     "output_type": "execute_result"
    }
   ],
   "source": [
    "# to see wich feature consider in the model \n",
    "merge_unique_df.columns"
   ]
  },
  {
   "cell_type": "code",
   "execution_count": 5,
   "metadata": {},
   "outputs": [
    {
     "data": {
      "text/plain": [
       "(27207, 21)"
      ]
     },
     "execution_count": 5,
     "metadata": {},
     "output_type": "execute_result"
    }
   ],
   "source": [
    "merge_unique_df.shape"
   ]
  },
  {
   "cell_type": "code",
   "execution_count": null,
   "metadata": {},
   "outputs": [
    {
     "data": {
      "text/plain": [
       "Performer                        0\n",
       "Song                             0\n",
       "spotify_genre                    0\n",
       "spotify_track_duration_minute    0\n",
       "spotify_track_explicit           0\n",
       "spotify_track_album              0\n",
       "danceability                     0\n",
       "energy                           0\n",
       "key                              0\n",
       "loudness                         0\n",
       "mode                             0\n",
       "speechiness                      0\n",
       "acousticness                     0\n",
       "instrumentalness                 0\n",
       "liveness                         0\n",
       "valence                          0\n",
       "tempo                            0\n",
       "time_signature                   0\n",
       "spotify_track_popularity         0\n",
       "maingenere                       0\n",
       "User                             0\n",
       "dtype: int64"
      ]
     },
     "execution_count": 7,
     "metadata": {},
     "output_type": "execute_result"
    }
   ],
   "source": [
    "# to verify that we don't have Nan value after the marge\n",
    "merge_unique_df.isnull().sum()"
   ]
  },
  {
   "cell_type": "markdown",
   "metadata": {},
   "source": [
    "## Now we can try to develop our NN"
   ]
  },
  {
   "cell_type": "code",
   "execution_count": null,
   "metadata": {},
   "outputs": [
    {
     "name": "stdout",
     "output_type": "stream",
     "text": [
      "Collecting pydot\n",
      "  Downloading pydot-3.0.3-py3-none-any.whl.metadata (10 kB)\n",
      "Requirement already satisfied: pyparsing>=3.0.9 in c:\\users\\lovoa\\appdata\\local\\programs\\python\\python312\\lib\\site-packages (from pydot) (3.2.0)\n",
      "Downloading pydot-3.0.3-py3-none-any.whl (35 kB)\n",
      "Installing collected packages: pydot\n",
      "Successfully installed pydot-3.0.3\n"
     ]
    }
   ],
   "source": [
    "# package that we need\n",
    "import keras\n",
    "from keras.models import Sequential\n",
    "# we most use sequential model -> one layer after the other (sequence of layer)\n",
    "from keras.layers import Dense, Activation\n",
    "from keras.optimizers import Adam\n",
    "from tensorflow.keras.models import Sequential\n",
    "from tensorflow.keras.layers import Dense\n",
    "from tensorflow.keras.optimizers import SGD\n",
    "from tensorflow.keras.metrics import MeanAbsolutePercentageError\n",
    "\n",
    "\n",
    "# non so se siano utili\n",
    "from sklearn.model_selection import train_test_split\n",
    "from sklearn.preprocessing import StandardScaler, LabelEncoder\n",
    "\n",
    "# essential\n",
    "import numpy as np\n",
    "import matplotlib.pyplot as plt\n",
    "\n",
    "\n",
    "#RICORDARE DA INSTALLARE PEDROLLO \n",
    "#! pip install pydot"
   ]
  },
  {
   "cell_type": "code",
   "execution_count": 10,
   "metadata": {},
   "outputs": [],
   "source": [
    "# fisrt we define the FEATURE of our model --> INPUT\n",
    "feature=[    'spotify_track_duration_minute', 'danceability', 'energy', 'key', 'loudness',\n",
    "    'mode', 'speechiness', 'acousticness', 'tempo', 'time_signature',\n",
    "    'spotify_track_popularity', 'instrumentalness', 'liveness']\n",
    "# now we have to define our TARGET (what we are interested in) --> OUTPUT\n",
    "target='valence'\n",
    "\n",
    "# we also define the USER, since we train the model dividing by users\n",
    "user='User'"
   ]
  },
  {
   "cell_type": "markdown",
   "metadata": {},
   "source": [
    "### USER 1 - Test\n"
   ]
  },
  {
   "cell_type": "code",
   "execution_count": 11,
   "metadata": {},
   "outputs": [
    {
     "data": {
      "text/plain": [
       "(4669, 21)"
      ]
     },
     "execution_count": 11,
     "metadata": {},
     "output_type": "execute_result"
    }
   ],
   "source": [
    "# first we have to obtain only the songs listen to the USER1\n",
    "mask_user1=merge_unique_df['User']==1\n",
    "user1_df=merge_unique_df[mask_user1]\n",
    "user1_df.shape"
   ]
  },
  {
   "cell_type": "code",
   "execution_count": 12,
   "metadata": {},
   "outputs": [
    {
     "data": {
      "text/plain": [
       "array([1], dtype=int32)"
      ]
     },
     "execution_count": 12,
     "metadata": {},
     "output_type": "execute_result"
    }
   ],
   "source": [
    "user1_df.User.unique()"
   ]
  },
  {
   "cell_type": "code",
   "execution_count": null,
   "metadata": {},
   "outputs": [
    {
     "data": {
      "text/html": [
       "<div>\n",
       "<style scoped>\n",
       "    .dataframe tbody tr th:only-of-type {\n",
       "        vertical-align: middle;\n",
       "    }\n",
       "\n",
       "    .dataframe tbody tr th {\n",
       "        vertical-align: top;\n",
       "    }\n",
       "\n",
       "    .dataframe thead th {\n",
       "        text-align: right;\n",
       "    }\n",
       "</style>\n",
       "<table border=\"1\" class=\"dataframe\">\n",
       "  <thead>\n",
       "    <tr style=\"text-align: right;\">\n",
       "      <th></th>\n",
       "      <th>Performer</th>\n",
       "      <th>Song</th>\n",
       "      <th>spotify_genre</th>\n",
       "      <th>spotify_track_duration_minute</th>\n",
       "      <th>spotify_track_explicit</th>\n",
       "      <th>spotify_track_album</th>\n",
       "      <th>danceability</th>\n",
       "      <th>energy</th>\n",
       "      <th>key</th>\n",
       "      <th>loudness</th>\n",
       "      <th>...</th>\n",
       "      <th>speechiness</th>\n",
       "      <th>acousticness</th>\n",
       "      <th>instrumentalness</th>\n",
       "      <th>liveness</th>\n",
       "      <th>valence</th>\n",
       "      <th>tempo</th>\n",
       "      <th>time_signature</th>\n",
       "      <th>spotify_track_popularity</th>\n",
       "      <th>maingenere</th>\n",
       "      <th>User</th>\n",
       "    </tr>\n",
       "    <tr>\n",
       "      <th>SongID</th>\n",
       "      <th></th>\n",
       "      <th></th>\n",
       "      <th></th>\n",
       "      <th></th>\n",
       "      <th></th>\n",
       "      <th></th>\n",
       "      <th></th>\n",
       "      <th></th>\n",
       "      <th></th>\n",
       "      <th></th>\n",
       "      <th></th>\n",
       "      <th></th>\n",
       "      <th></th>\n",
       "      <th></th>\n",
       "      <th></th>\n",
       "      <th></th>\n",
       "      <th></th>\n",
       "      <th></th>\n",
       "      <th></th>\n",
       "      <th></th>\n",
       "      <th></th>\n",
       "    </tr>\n",
       "  </thead>\n",
       "  <tbody>\n",
       "    <tr>\n",
       "      <th>'65 Love AffairPaul Davis</th>\n",
       "      <td>Paul Davis</td>\n",
       "      <td>'65 Love Affair</td>\n",
       "      <td>['album rock', 'bubblegum pop', 'country rock'...</td>\n",
       "      <td>3.66</td>\n",
       "      <td>False</td>\n",
       "      <td>Radio Hits Of the '80s</td>\n",
       "      <td>0.647</td>\n",
       "      <td>0.686</td>\n",
       "      <td>2.0</td>\n",
       "      <td>-4.247</td>\n",
       "      <td>...</td>\n",
       "      <td>0.0274</td>\n",
       "      <td>0.4320</td>\n",
       "      <td>0.000006</td>\n",
       "      <td>0.1330</td>\n",
       "      <td>0.952</td>\n",
       "      <td>155.697</td>\n",
       "      <td>4.0</td>\n",
       "      <td>40.0</td>\n",
       "      <td>rock</td>\n",
       "      <td>1</td>\n",
       "    </tr>\n",
       "    <tr>\n",
       "      <th>'til I Can Make It On My OwnTammy Wynette</th>\n",
       "      <td>Tammy Wynette</td>\n",
       "      <td>'til I Can Make It On My Own</td>\n",
       "      <td>['country', 'country dawn', 'nashville sound']</td>\n",
       "      <td>3.03</td>\n",
       "      <td>False</td>\n",
       "      <td>The Essential Tammy Wynette</td>\n",
       "      <td>0.450</td>\n",
       "      <td>0.294</td>\n",
       "      <td>7.0</td>\n",
       "      <td>-12.022</td>\n",
       "      <td>...</td>\n",
       "      <td>0.0318</td>\n",
       "      <td>0.8320</td>\n",
       "      <td>0.000035</td>\n",
       "      <td>0.1080</td>\n",
       "      <td>0.146</td>\n",
       "      <td>141.148</td>\n",
       "      <td>4.0</td>\n",
       "      <td>31.0</td>\n",
       "      <td>country</td>\n",
       "      <td>1</td>\n",
       "    </tr>\n",
       "    <tr>\n",
       "      <th>'Til My Baby Comes HomeLuther Vandross</th>\n",
       "      <td>Luther Vandross</td>\n",
       "      <td>'Til My Baby Comes Home</td>\n",
       "      <td>['funk', 'motown', 'neo soul', 'new jack swing...</td>\n",
       "      <td>5.54</td>\n",
       "      <td>False</td>\n",
       "      <td>The Night I Fell In Love</td>\n",
       "      <td>0.804</td>\n",
       "      <td>0.714</td>\n",
       "      <td>11.0</td>\n",
       "      <td>-6.714</td>\n",
       "      <td>...</td>\n",
       "      <td>0.1830</td>\n",
       "      <td>0.0567</td>\n",
       "      <td>0.000006</td>\n",
       "      <td>0.0253</td>\n",
       "      <td>0.802</td>\n",
       "      <td>139.663</td>\n",
       "      <td>4.0</td>\n",
       "      <td>29.0</td>\n",
       "      <td>soul</td>\n",
       "      <td>1</td>\n",
       "    </tr>\n",
       "  </tbody>\n",
       "</table>\n",
       "<p>3 rows × 21 columns</p>\n",
       "</div>"
      ],
      "text/plain": [
       "                                                 Performer  \\\n",
       "SongID                                                       \n",
       "'65 Love AffairPaul Davis                       Paul Davis   \n",
       "'til I Can Make It On My OwnTammy Wynette    Tammy Wynette   \n",
       "'Til My Baby Comes HomeLuther Vandross     Luther Vandross   \n",
       "\n",
       "                                                                   Song  \\\n",
       "SongID                                                                    \n",
       "'65 Love AffairPaul Davis                               '65 Love Affair   \n",
       "'til I Can Make It On My OwnTammy Wynette  'til I Can Make It On My Own   \n",
       "'Til My Baby Comes HomeLuther Vandross          'Til My Baby Comes Home   \n",
       "\n",
       "                                                                               spotify_genre  \\\n",
       "SongID                                                                                         \n",
       "'65 Love AffairPaul Davis                  ['album rock', 'bubblegum pop', 'country rock'...   \n",
       "'til I Can Make It On My OwnTammy Wynette     ['country', 'country dawn', 'nashville sound']   \n",
       "'Til My Baby Comes HomeLuther Vandross     ['funk', 'motown', 'neo soul', 'new jack swing...   \n",
       "\n",
       "                                           spotify_track_duration_minute  \\\n",
       "SongID                                                                     \n",
       "'65 Love AffairPaul Davis                                           3.66   \n",
       "'til I Can Make It On My OwnTammy Wynette                           3.03   \n",
       "'Til My Baby Comes HomeLuther Vandross                              5.54   \n",
       "\n",
       "                                          spotify_track_explicit  \\\n",
       "SongID                                                             \n",
       "'65 Love AffairPaul Davis                                  False   \n",
       "'til I Can Make It On My OwnTammy Wynette                  False   \n",
       "'Til My Baby Comes HomeLuther Vandross                     False   \n",
       "\n",
       "                                                   spotify_track_album  \\\n",
       "SongID                                                                   \n",
       "'65 Love AffairPaul Davis                       Radio Hits Of the '80s   \n",
       "'til I Can Make It On My OwnTammy Wynette  The Essential Tammy Wynette   \n",
       "'Til My Baby Comes HomeLuther Vandross        The Night I Fell In Love   \n",
       "\n",
       "                                           danceability  energy   key  \\\n",
       "SongID                                                                  \n",
       "'65 Love AffairPaul Davis                         0.647   0.686   2.0   \n",
       "'til I Can Make It On My OwnTammy Wynette         0.450   0.294   7.0   \n",
       "'Til My Baby Comes HomeLuther Vandross            0.804   0.714  11.0   \n",
       "\n",
       "                                           loudness  ...  speechiness  \\\n",
       "SongID                                               ...                \n",
       "'65 Love AffairPaul Davis                    -4.247  ...       0.0274   \n",
       "'til I Can Make It On My OwnTammy Wynette   -12.022  ...       0.0318   \n",
       "'Til My Baby Comes HomeLuther Vandross       -6.714  ...       0.1830   \n",
       "\n",
       "                                           acousticness  instrumentalness  \\\n",
       "SongID                                                                      \n",
       "'65 Love AffairPaul Davis                        0.4320          0.000006   \n",
       "'til I Can Make It On My OwnTammy Wynette        0.8320          0.000035   \n",
       "'Til My Baby Comes HomeLuther Vandross           0.0567          0.000006   \n",
       "\n",
       "                                           liveness  valence    tempo  \\\n",
       "SongID                                                                  \n",
       "'65 Love AffairPaul Davis                    0.1330    0.952  155.697   \n",
       "'til I Can Make It On My OwnTammy Wynette    0.1080    0.146  141.148   \n",
       "'Til My Baby Comes HomeLuther Vandross       0.0253    0.802  139.663   \n",
       "\n",
       "                                           time_signature  \\\n",
       "SongID                                                      \n",
       "'65 Love AffairPaul Davis                             4.0   \n",
       "'til I Can Make It On My OwnTammy Wynette             4.0   \n",
       "'Til My Baby Comes HomeLuther Vandross                4.0   \n",
       "\n",
       "                                           spotify_track_popularity  \\\n",
       "SongID                                                                \n",
       "'65 Love AffairPaul Davis                                      40.0   \n",
       "'til I Can Make It On My OwnTammy Wynette                      31.0   \n",
       "'Til My Baby Comes HomeLuther Vandross                         29.0   \n",
       "\n",
       "                                           maingenere User  \n",
       "SongID                                                      \n",
       "'65 Love AffairPaul Davis                        rock    1  \n",
       "'til I Can Make It On My OwnTammy Wynette     country    1  \n",
       "'Til My Baby Comes HomeLuther Vandross           soul    1  \n",
       "\n",
       "[3 rows x 21 columns]"
      ]
     },
     "execution_count": 14,
     "metadata": {},
     "output_type": "execute_result"
    }
   ],
   "source": [
    "# we obtain the user1 subset\n",
    "user1_df.head(3)"
   ]
  },
  {
   "cell_type": "code",
   "execution_count": 18,
   "metadata": {},
   "outputs": [],
   "source": [
    "# now we estract the FEATURE\n",
    "x=user1_df[feature]\n",
    "#x.columns\n",
    "\n",
    "# and the TARGET\n",
    "y=user1_df[target]\n",
    "#y"
   ]
  },
  {
   "cell_type": "code",
   "execution_count": 21,
   "metadata": {},
   "outputs": [],
   "source": [
    "# NON RICORDO SE AVESSIMO GIA' NORMALIZZATO --> LO FACCIO NEL CASO QUESTO SARA' DA CONTOLLARE\n",
    "# HO SICURAMENTE STANDARDIZZATO QUANDO HO FATTO CLUSTER --> MA SE NON RICORDO MALE ABBIAMO UNITO IL DF ORIGINALE CON SOLO COLONNA USER\n",
    "# QUINDI DOVREBBE AVER SENSO NORMALIZZARE --> COMUNQUE DA VEDERE MEGLIO \n",
    "\n",
    "scaler=StandardScaler()\n",
    "\n",
    "x_scaled=scaler.fit_transform(x)"
   ]
  },
  {
   "cell_type": "code",
   "execution_count": 22,
   "metadata": {},
   "outputs": [],
   "source": [
    "# now we divide the df in test and train \n",
    "# necessary in order test our results after the application of the model\n",
    "x_train,x_test,y_train,y_test=train_test_split(x_scaled,y,test_size=0.2,random_state=42)"
   ]
  },
  {
   "cell_type": "code",
   "execution_count": 24,
   "metadata": {},
   "outputs": [
    {
     "data": {
      "text/plain": [
       "((3735, 13), (934, 13), (3735,), (934,))"
      ]
     },
     "execution_count": 24,
     "metadata": {},
     "output_type": "execute_result"
    }
   ],
   "source": [
    "# for keras we need to convert y_train and y_test in Numpy array \n",
    "y_train=np.array(y_train)\n",
    "y_test=np.array(y_test)\n",
    "\n",
    "#before apply the model we need to verify the shape of this array\n",
    "\n",
    "x_train.shape,x_test.shape,y_train.shape,y_test.shape"
   ]
  },
  {
   "cell_type": "code",
   "execution_count": null,
   "metadata": {},
   "outputs": [
    {
     "data": {
      "text/plain": [
       "13"
      ]
     },
     "execution_count": 28,
     "metadata": {},
     "output_type": "execute_result"
    }
   ],
   "source": [
    "x_train.shape[1]"
   ]
  },
  {
   "cell_type": "code",
   "execution_count": null,
   "metadata": {},
   "outputs": [
    {
     "data": {
      "text/plain": [
       "Index(['spotify_track_duration_minute', 'danceability', 'energy', 'key',\n",
       "       'loudness', 'mode', 'speechiness', 'acousticness', 'tempo',\n",
       "       'time_signature', 'spotify_track_popularity', 'instrumentalness',\n",
       "       'liveness'],\n",
       "      dtype='object')"
      ]
     },
     "execution_count": 34,
     "metadata": {},
     "output_type": "execute_result"
    }
   ],
   "source": [
    "# are 13 as the number of input that we have to insert in the input_dim --> only in the first layer\n",
    "x.columns"
   ]
  },
  {
   "cell_type": "code",
   "execution_count": 39,
   "metadata": {},
   "outputs": [
    {
     "name": "stderr",
     "output_type": "stream",
     "text": [
      "c:\\Users\\lovoa\\AppData\\Local\\Programs\\Python\\Python312\\Lib\\site-packages\\keras\\src\\layers\\core\\dense.py:87: UserWarning: Do not pass an `input_shape`/`input_dim` argument to a layer. When using Sequential models, prefer using an `Input(shape)` object as the first layer in the model instead.\n",
      "  super().__init__(activity_regularizer=activity_regularizer, **kwargs)\n"
     ]
    }
   ],
   "source": [
    "# NOW WE CAN TRY TO APPLY OUR NN (LINEAR)\n",
    "model_user1=Sequential([\n",
    "    Dense(64,input_dim=x_train.shape[1],activation='relu',name='first_layer'),\n",
    "    # 64 as the number of initial layer is a common choice when we build a NN --> VEDIAMO COME FUNZIA POI NEL CASO SI SISTEMA IN SEGUITO\n",
    "    # input_dim: take the dimension of the x_train array --> that is equivalent to the number of feature in input\n",
    "    \n",
    "    # SI POSSONO AGGIUNGERE PER OGNI LAYER --> Dropout(0.3) per evitare overfitting\n",
    "    \n",
    "\n",
    "    Dense(32,activation='relu',name='secod_layer'),\n",
    "    Dense(1,activation='linear',name='final_layer')\n",
    "])"
   ]
  },
  {
   "cell_type": "code",
   "execution_count": 40,
   "metadata": {},
   "outputs": [
    {
     "data": {
      "text/html": [
       "<pre style=\"white-space:pre;overflow-x:auto;line-height:normal;font-family:Menlo,'DejaVu Sans Mono',consolas,'Courier New',monospace\"><span style=\"font-weight: bold\">Model: \"sequential_1\"</span>\n",
       "</pre>\n"
      ],
      "text/plain": [
       "\u001b[1mModel: \"sequential_1\"\u001b[0m\n"
      ]
     },
     "metadata": {},
     "output_type": "display_data"
    },
    {
     "data": {
      "text/html": [
       "<pre style=\"white-space:pre;overflow-x:auto;line-height:normal;font-family:Menlo,'DejaVu Sans Mono',consolas,'Courier New',monospace\">┏━━━━━━━━━━━━━━━━━━━━━━━━━━━━━━━━━┳━━━━━━━━━━━━━━━━━━━━━━━━┳━━━━━━━━━━━━━━━┓\n",
       "┃<span style=\"font-weight: bold\"> Layer (type)                    </span>┃<span style=\"font-weight: bold\"> Output Shape           </span>┃<span style=\"font-weight: bold\">       Param # </span>┃\n",
       "┡━━━━━━━━━━━━━━━━━━━━━━━━━━━━━━━━━╇━━━━━━━━━━━━━━━━━━━━━━━━╇━━━━━━━━━━━━━━━┩\n",
       "│ first_layer (<span style=\"color: #0087ff; text-decoration-color: #0087ff\">Dense</span>)             │ (<span style=\"color: #00d7ff; text-decoration-color: #00d7ff\">None</span>, <span style=\"color: #00af00; text-decoration-color: #00af00\">64</span>)             │           <span style=\"color: #00af00; text-decoration-color: #00af00\">896</span> │\n",
       "├─────────────────────────────────┼────────────────────────┼───────────────┤\n",
       "│ secod_layer (<span style=\"color: #0087ff; text-decoration-color: #0087ff\">Dense</span>)             │ (<span style=\"color: #00d7ff; text-decoration-color: #00d7ff\">None</span>, <span style=\"color: #00af00; text-decoration-color: #00af00\">32</span>)             │         <span style=\"color: #00af00; text-decoration-color: #00af00\">2,080</span> │\n",
       "├─────────────────────────────────┼────────────────────────┼───────────────┤\n",
       "│ final_layer (<span style=\"color: #0087ff; text-decoration-color: #0087ff\">Dense</span>)             │ (<span style=\"color: #00d7ff; text-decoration-color: #00d7ff\">None</span>, <span style=\"color: #00af00; text-decoration-color: #00af00\">1</span>)              │            <span style=\"color: #00af00; text-decoration-color: #00af00\">33</span> │\n",
       "└─────────────────────────────────┴────────────────────────┴───────────────┘\n",
       "</pre>\n"
      ],
      "text/plain": [
       "┏━━━━━━━━━━━━━━━━━━━━━━━━━━━━━━━━━┳━━━━━━━━━━━━━━━━━━━━━━━━┳━━━━━━━━━━━━━━━┓\n",
       "┃\u001b[1m \u001b[0m\u001b[1mLayer (type)                   \u001b[0m\u001b[1m \u001b[0m┃\u001b[1m \u001b[0m\u001b[1mOutput Shape          \u001b[0m\u001b[1m \u001b[0m┃\u001b[1m \u001b[0m\u001b[1m      Param #\u001b[0m\u001b[1m \u001b[0m┃\n",
       "┡━━━━━━━━━━━━━━━━━━━━━━━━━━━━━━━━━╇━━━━━━━━━━━━━━━━━━━━━━━━╇━━━━━━━━━━━━━━━┩\n",
       "│ first_layer (\u001b[38;5;33mDense\u001b[0m)             │ (\u001b[38;5;45mNone\u001b[0m, \u001b[38;5;34m64\u001b[0m)             │           \u001b[38;5;34m896\u001b[0m │\n",
       "├─────────────────────────────────┼────────────────────────┼───────────────┤\n",
       "│ secod_layer (\u001b[38;5;33mDense\u001b[0m)             │ (\u001b[38;5;45mNone\u001b[0m, \u001b[38;5;34m32\u001b[0m)             │         \u001b[38;5;34m2,080\u001b[0m │\n",
       "├─────────────────────────────────┼────────────────────────┼───────────────┤\n",
       "│ final_layer (\u001b[38;5;33mDense\u001b[0m)             │ (\u001b[38;5;45mNone\u001b[0m, \u001b[38;5;34m1\u001b[0m)              │            \u001b[38;5;34m33\u001b[0m │\n",
       "└─────────────────────────────────┴────────────────────────┴───────────────┘\n"
      ]
     },
     "metadata": {},
     "output_type": "display_data"
    },
    {
     "data": {
      "text/html": [
       "<pre style=\"white-space:pre;overflow-x:auto;line-height:normal;font-family:Menlo,'DejaVu Sans Mono',consolas,'Courier New',monospace\"><span style=\"font-weight: bold\"> Total params: </span><span style=\"color: #00af00; text-decoration-color: #00af00\">3,009</span> (11.75 KB)\n",
       "</pre>\n"
      ],
      "text/plain": [
       "\u001b[1m Total params: \u001b[0m\u001b[38;5;34m3,009\u001b[0m (11.75 KB)\n"
      ]
     },
     "metadata": {},
     "output_type": "display_data"
    },
    {
     "data": {
      "text/html": [
       "<pre style=\"white-space:pre;overflow-x:auto;line-height:normal;font-family:Menlo,'DejaVu Sans Mono',consolas,'Courier New',monospace\"><span style=\"font-weight: bold\"> Trainable params: </span><span style=\"color: #00af00; text-decoration-color: #00af00\">3,009</span> (11.75 KB)\n",
       "</pre>\n"
      ],
      "text/plain": [
       "\u001b[1m Trainable params: \u001b[0m\u001b[38;5;34m3,009\u001b[0m (11.75 KB)\n"
      ]
     },
     "metadata": {},
     "output_type": "display_data"
    },
    {
     "data": {
      "text/html": [
       "<pre style=\"white-space:pre;overflow-x:auto;line-height:normal;font-family:Menlo,'DejaVu Sans Mono',consolas,'Courier New',monospace\"><span style=\"font-weight: bold\"> Non-trainable params: </span><span style=\"color: #00af00; text-decoration-color: #00af00\">0</span> (0.00 B)\n",
       "</pre>\n"
      ],
      "text/plain": [
       "\u001b[1m Non-trainable params: \u001b[0m\u001b[38;5;34m0\u001b[0m (0.00 B)\n"
      ]
     },
     "metadata": {},
     "output_type": "display_data"
    }
   ],
   "source": [
    "# Now we try to compile the model\n",
    "model_user1.compile(optimizer='adam',loss='mse',metrics=['mae'])\n",
    "\n",
    "#now see some results\n",
    "model_user1.summary()"
   ]
  },
  {
   "cell_type": "code",
   "execution_count": null,
   "metadata": {},
   "outputs": [
    {
     "name": "stdout",
     "output_type": "stream",
     "text": [
      "Epoch 1/30\n",
      "\u001b[1m94/94\u001b[0m \u001b[32m━━━━━━━━━━━━━━━━━━━━\u001b[0m\u001b[37m\u001b[0m \u001b[1m2s\u001b[0m 4ms/step - loss: 0.3013 - mae: 0.4231 - val_loss: 0.0607 - val_mae: 0.1891\n",
      "Epoch 2/30\n",
      "\u001b[1m94/94\u001b[0m \u001b[32m━━━━━━━━━━━━━━━━━━━━\u001b[0m\u001b[37m\u001b[0m \u001b[1m0s\u001b[0m 2ms/step - loss: 0.0482 - mae: 0.1757 - val_loss: 0.0463 - val_mae: 0.1693\n",
      "Epoch 3/30\n",
      "\u001b[1m94/94\u001b[0m \u001b[32m━━━━━━━━━━━━━━━━━━━━\u001b[0m\u001b[37m\u001b[0m \u001b[1m0s\u001b[0m 2ms/step - loss: 0.0339 - mae: 0.1469 - val_loss: 0.0422 - val_mae: 0.1617\n",
      "Epoch 4/30\n",
      "\u001b[1m94/94\u001b[0m \u001b[32m━━━━━━━━━━━━━━━━━━━━\u001b[0m\u001b[37m\u001b[0m \u001b[1m0s\u001b[0m 2ms/step - loss: 0.0317 - mae: 0.1432 - val_loss: 0.0377 - val_mae: 0.1542\n",
      "Epoch 5/30\n",
      "\u001b[1m94/94\u001b[0m \u001b[32m━━━━━━━━━━━━━━━━━━━━\u001b[0m\u001b[37m\u001b[0m \u001b[1m0s\u001b[0m 2ms/step - loss: 0.0289 - mae: 0.1383 - val_loss: 0.0381 - val_mae: 0.1524\n",
      "Epoch 6/30\n",
      "\u001b[1m94/94\u001b[0m \u001b[32m━━━━━━━━━━━━━━━━━━━━\u001b[0m\u001b[37m\u001b[0m \u001b[1m0s\u001b[0m 2ms/step - loss: 0.0274 - mae: 0.1326 - val_loss: 0.0357 - val_mae: 0.1481\n",
      "Epoch 7/30\n",
      "\u001b[1m94/94\u001b[0m \u001b[32m━━━━━━━━━━━━━━━━━━━━\u001b[0m\u001b[37m\u001b[0m \u001b[1m0s\u001b[0m 2ms/step - loss: 0.0271 - mae: 0.1318 - val_loss: 0.0336 - val_mae: 0.1446\n",
      "Epoch 8/30\n",
      "\u001b[1m94/94\u001b[0m \u001b[32m━━━━━━━━━━━━━━━━━━━━\u001b[0m\u001b[37m\u001b[0m \u001b[1m0s\u001b[0m 2ms/step - loss: 0.0262 - mae: 0.1306 - val_loss: 0.0342 - val_mae: 0.1455\n",
      "Epoch 9/30\n",
      "\u001b[1m94/94\u001b[0m \u001b[32m━━━━━━━━━━━━━━━━━━━━\u001b[0m\u001b[37m\u001b[0m \u001b[1m0s\u001b[0m 2ms/step - loss: 0.0246 - mae: 0.1262 - val_loss: 0.0327 - val_mae: 0.1412\n",
      "Epoch 10/30\n",
      "\u001b[1m94/94\u001b[0m \u001b[32m━━━━━━━━━━━━━━━━━━━━\u001b[0m\u001b[37m\u001b[0m \u001b[1m0s\u001b[0m 3ms/step - loss: 0.0239 - mae: 0.1249 - val_loss: 0.0329 - val_mae: 0.1418\n",
      "Epoch 11/30\n",
      "\u001b[1m94/94\u001b[0m \u001b[32m━━━━━━━━━━━━━━━━━━━━\u001b[0m\u001b[37m\u001b[0m \u001b[1m0s\u001b[0m 2ms/step - loss: 0.0235 - mae: 0.1221 - val_loss: 0.0336 - val_mae: 0.1428\n",
      "Epoch 12/30\n",
      "\u001b[1m94/94\u001b[0m \u001b[32m━━━━━━━━━━━━━━━━━━━━\u001b[0m\u001b[37m\u001b[0m \u001b[1m0s\u001b[0m 2ms/step - loss: 0.0238 - mae: 0.1240 - val_loss: 0.0330 - val_mae: 0.1429\n",
      "Epoch 13/30\n",
      "\u001b[1m94/94\u001b[0m \u001b[32m━━━━━━━━━━━━━━━━━━━━\u001b[0m\u001b[37m\u001b[0m \u001b[1m0s\u001b[0m 2ms/step - loss: 0.0225 - mae: 0.1195 - val_loss: 0.0334 - val_mae: 0.1416\n",
      "Epoch 14/30\n",
      "\u001b[1m94/94\u001b[0m \u001b[32m━━━━━━━━━━━━━━━━━━━━\u001b[0m\u001b[37m\u001b[0m \u001b[1m0s\u001b[0m 2ms/step - loss: 0.0217 - mae: 0.1177 - val_loss: 0.0315 - val_mae: 0.1380\n",
      "Epoch 15/30\n",
      "\u001b[1m94/94\u001b[0m \u001b[32m━━━━━━━━━━━━━━━━━━━━\u001b[0m\u001b[37m\u001b[0m \u001b[1m0s\u001b[0m 2ms/step - loss: 0.0214 - mae: 0.1165 - val_loss: 0.0322 - val_mae: 0.1395\n",
      "Epoch 16/30\n",
      "\u001b[1m94/94\u001b[0m \u001b[32m━━━━━━━━━━━━━━━━━━━━\u001b[0m\u001b[37m\u001b[0m \u001b[1m0s\u001b[0m 2ms/step - loss: 0.0216 - mae: 0.1167 - val_loss: 0.0332 - val_mae: 0.1407\n",
      "Epoch 17/30\n",
      "\u001b[1m94/94\u001b[0m \u001b[32m━━━━━━━━━━━━━━━━━━━━\u001b[0m\u001b[37m\u001b[0m \u001b[1m0s\u001b[0m 2ms/step - loss: 0.0211 - mae: 0.1157 - val_loss: 0.0333 - val_mae: 0.1404\n",
      "Epoch 18/30\n",
      "\u001b[1m94/94\u001b[0m \u001b[32m━━━━━━━━━━━━━━━━━━━━\u001b[0m\u001b[37m\u001b[0m \u001b[1m0s\u001b[0m 2ms/step - loss: 0.0204 - mae: 0.1124 - val_loss: 0.0329 - val_mae: 0.1397\n",
      "Epoch 19/30\n",
      "\u001b[1m94/94\u001b[0m \u001b[32m━━━━━━━━━━━━━━━━━━━━\u001b[0m\u001b[37m\u001b[0m \u001b[1m0s\u001b[0m 2ms/step - loss: 0.0205 - mae: 0.1138 - val_loss: 0.0322 - val_mae: 0.1385\n",
      "Epoch 20/30\n",
      "\u001b[1m94/94\u001b[0m \u001b[32m━━━━━━━━━━━━━━━━━━━━\u001b[0m\u001b[37m\u001b[0m \u001b[1m0s\u001b[0m 2ms/step - loss: 0.0202 - mae: 0.1129 - val_loss: 0.0337 - val_mae: 0.1420\n",
      "Epoch 21/30\n",
      "\u001b[1m94/94\u001b[0m \u001b[32m━━━━━━━━━━━━━━━━━━━━\u001b[0m\u001b[37m\u001b[0m \u001b[1m0s\u001b[0m 2ms/step - loss: 0.0207 - mae: 0.1136 - val_loss: 0.0330 - val_mae: 0.1406\n",
      "Epoch 22/30\n",
      "\u001b[1m94/94\u001b[0m \u001b[32m━━━━━━━━━━━━━━━━━━━━\u001b[0m\u001b[37m\u001b[0m \u001b[1m0s\u001b[0m 2ms/step - loss: 0.0204 - mae: 0.1132 - val_loss: 0.0323 - val_mae: 0.1399\n",
      "Epoch 23/30\n",
      "\u001b[1m94/94\u001b[0m \u001b[32m━━━━━━━━━━━━━━━━━━━━\u001b[0m\u001b[37m\u001b[0m \u001b[1m0s\u001b[0m 2ms/step - loss: 0.0200 - mae: 0.1120 - val_loss: 0.0323 - val_mae: 0.1401\n",
      "Epoch 24/30\n",
      "\u001b[1m94/94\u001b[0m \u001b[32m━━━━━━━━━━━━━━━━━━━━\u001b[0m\u001b[37m\u001b[0m \u001b[1m0s\u001b[0m 2ms/step - loss: 0.0184 - mae: 0.1084 - val_loss: 0.0327 - val_mae: 0.1402\n",
      "Epoch 25/30\n",
      "\u001b[1m94/94\u001b[0m \u001b[32m━━━━━━━━━━━━━━━━━━━━\u001b[0m\u001b[37m\u001b[0m \u001b[1m0s\u001b[0m 2ms/step - loss: 0.0192 - mae: 0.1093 - val_loss: 0.0371 - val_mae: 0.1479\n",
      "Epoch 26/30\n",
      "\u001b[1m94/94\u001b[0m \u001b[32m━━━━━━━━━━━━━━━━━━━━\u001b[0m\u001b[37m\u001b[0m \u001b[1m0s\u001b[0m 2ms/step - loss: 0.0201 - mae: 0.1124 - val_loss: 0.0357 - val_mae: 0.1445\n",
      "Epoch 27/30\n",
      "\u001b[1m94/94\u001b[0m \u001b[32m━━━━━━━━━━━━━━━━━━━━\u001b[0m\u001b[37m\u001b[0m \u001b[1m0s\u001b[0m 2ms/step - loss: 0.0196 - mae: 0.1099 - val_loss: 0.0321 - val_mae: 0.1385\n",
      "Epoch 28/30\n",
      "\u001b[1m94/94\u001b[0m \u001b[32m━━━━━━━━━━━━━━━━━━━━\u001b[0m\u001b[37m\u001b[0m \u001b[1m0s\u001b[0m 2ms/step - loss: 0.0181 - mae: 0.1064 - val_loss: 0.0321 - val_mae: 0.1402\n",
      "Epoch 29/30\n",
      "\u001b[1m94/94\u001b[0m \u001b[32m━━━━━━━━━━━━━━━━━━━━\u001b[0m\u001b[37m\u001b[0m \u001b[1m0s\u001b[0m 2ms/step - loss: 0.0180 - mae: 0.1064 - val_loss: 0.0322 - val_mae: 0.1397\n",
      "Epoch 30/30\n",
      "\u001b[1m94/94\u001b[0m \u001b[32m━━━━━━━━━━━━━━━━━━━━\u001b[0m\u001b[37m\u001b[0m \u001b[1m0s\u001b[0m 2ms/step - loss: 0.0172 - mae: 0.1037 - val_loss: 0.0328 - val_mae: 0.1392\n"
     ]
    }
   ],
   "source": [
    "# Now we can train our model\n",
    "history_model_user1=model_user1.fit(\n",
    "    x_train,y_train,\n",
    "    validation_split=0.2,\n",
    "    epochs=30,\n",
    "    batch_size=32,\n",
    "    verbose=1\n",
    ")"
   ]
  },
  {
   "cell_type": "code",
   "execution_count": 51,
   "metadata": {},
   "outputs": [
    {
     "data": {
      "image/png": "[encoded data removed]",
      "text/plain": [
       "<Figure size 1000x600 with 1 Axes>"
      ]
     },
     "metadata": {},
     "output_type": "display_data"
    }
   ],
   "source": [
    "# we can try to perform some plots\n",
    "plt.figure(figsize=(10,6))\n",
    "plt.plot(history_model_user1.history['loss'],color='blue',label='loss')\n",
    "plt.plot(history_model_user1.history['val_loss'],color='red',label='val_loss')\n",
    "plt.xlabel('Epoch')\n",
    "plt.ylabel('Loss')\n",
    "plt.title('Loss function through epoch')\n",
    "plt.legend()\n",
    "plt.grid()\n",
    "plt.show()"
   ]
  },
  {
   "cell_type": "code",
   "execution_count": 49,
   "metadata": {},
   "outputs": [
    {
     "data": {
      "image/png": "[encoded data removed]",
      "text/plain": [
       "<Figure size 1000x600 with 1 Axes>"
      ]
     },
     "metadata": {},
     "output_type": "display_data"
    }
   ],
   "source": [
    "plt.figure(figsize=(10,6))\n",
    "plt.plot(history_model_user1.history['mae'],color='blue',label='mae')\n",
    "plt.plot(history_model_user1.history['val_mae'],color='red',label='val_mae')\n",
    "plt.xlabel('Epoch')\n",
    "plt.ylabel('mae')\n",
    "plt.title('Mae function through epoch')\n",
    "plt.grid()\n",
    "plt.legend()\n",
    "plt.show()"
   ]
  },
  {
   "cell_type": "code",
   "execution_count": null,
   "metadata": {},
   "outputs": [
    {
     "name": "stdout",
     "output_type": "stream",
     "text": [
      "You must install pydot (`pip install pydot`) for `plot_model` to work.\n"
     ]
    }
   ],
   "source": [
    "# keras.utils.plot_model( model, show_shapes=True)\n",
    "keras.utils.plot_model(model_user1,show_shapes=True)\n",
    "\n",
    "# non mi plotta nulla --> da rivedere perchè non avevo pacchetto installato "
   ]
  },
  {
   "cell_type": "code",
   "execution_count": 42,
   "metadata": {},
   "outputs": [
    {
     "name": "stdout",
     "output_type": "stream",
     "text": [
      "\u001b[1m30/30\u001b[0m \u001b[32m━━━━━━━━━━━━━━━━━━━━\u001b[0m\u001b[37m\u001b[0m \u001b[1m0s\u001b[0m 2ms/step - loss: 0.0282 - mae: 0.1313\n"
     ]
    },
    {
     "data": {
      "text/plain": [
       "(0.029393326491117477, 0.1340172290802002)"
      ]
     },
     "execution_count": 42,
     "metadata": {},
     "output_type": "execute_result"
    }
   ],
   "source": [
    "# now we can evaluate the test data\n",
    "\n",
    "test_loss, test_mae = model_user1.evaluate(x_test,y_test,verbose=1)\n",
    "\n",
    "test_loss,test_mae"
   ]
  },
  {
   "cell_type": "code",
   "execution_count": null,
   "metadata": {},
   "outputs": [],
   "source": []
  }
 ],
 "metadata": {
  "kernelspec": {
   "display_name": "Python 3",
   "language": "python",
   "name": "python3"
  },
  "language_info": {
   "codemirror_mode": {
    "name": "ipython",
    "version": 3
   },
   "file_extension": ".py",
   "mimetype": "text/x-python",
   "name": "python",
   "nbconvert_exporter": "python",
   "pygments_lexer": "ipython3",
   "version": "3.12.2"
  }
 },
 "nbformat": 4,
 "nbformat_minor": 2
}
