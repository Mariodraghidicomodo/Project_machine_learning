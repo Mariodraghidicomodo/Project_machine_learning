{
 "cells": [
  {
   "cell_type": "markdown",
   "metadata": {},
   "source": [
    "# IDEA:\n",
    "\n",
    "Now we want group by the df for the users, in order to have 5 df one for each user \n",
    "In order to build our NN"
   ]
  },
  {
   "cell_type": "code",
   "execution_count": null,
   "metadata": {},
   "outputs": [],
   "source": [
    "# we recall our df after the clustering procedure\n",
    "%store -r merge_unique_df"
   ]
  },
  {
   "cell_type": "code",
   "execution_count": 2,
   "metadata": {},
   "outputs": [
    {
     "name": "stdout",
     "output_type": "stream",
     "text": [
      "<class 'pandas.core.frame.DataFrame'>\n",
      "Index: 27207 entries, -twistin'-White Silver SandsBill Black's Combo to Zunga ZengK7\n",
      "Data columns (total 21 columns):\n",
      " #   Column                         Non-Null Count  Dtype  \n",
      "---  ------                         --------------  -----  \n",
      " 0   Performer                      27207 non-null  object \n",
      " 1   Song                           27207 non-null  object \n",
      " 2   spotify_genre                  27207 non-null  object \n",
      " 3   spotify_track_duration_minute  27207 non-null  float64\n",
      " 4   spotify_track_explicit         27207 non-null  object \n",
      " 5   spotify_track_album            27207 non-null  object \n",
      " 6   danceability                   27207 non-null  float64\n",
      " 7   energy                         27207 non-null  float64\n",
      " 8   key                            27207 non-null  float64\n",
      " 9   loudness                       27207 non-null  float64\n",
      " 10  mode                           27207 non-null  float64\n",
      " 11  speechiness                    27207 non-null  float64\n",
      " 12  acousticness                   27207 non-null  float64\n",
      " 13  instrumentalness               27207 non-null  float64\n",
      " 14  liveness                       27207 non-null  float64\n",
      " 15  valence                        27207 non-null  float64\n",
      " 16  tempo                          27207 non-null  float64\n",
      " 17  time_signature                 27207 non-null  float64\n",
      " 18  spotify_track_popularity       27207 non-null  float64\n",
      " 19  maingenere                     27207 non-null  object \n",
      " 20  cluster                        27207 non-null  int32  \n",
      "dtypes: float64(14), int32(1), object(6)\n",
      "memory usage: 5.5+ MB\n"
     ]
    }
   ],
   "source": [
    "merge_unique_df.info()"
   ]
  },
  {
   "cell_type": "code",
   "execution_count": 3,
   "metadata": {},
   "outputs": [
    {
     "name": "stdout",
     "output_type": "stream",
     "text": [
      "<class 'pandas.core.frame.DataFrame'>\n",
      "Index: 27207 entries, -twistin'-White Silver SandsBill Black's Combo to Zunga ZengK7\n",
      "Data columns (total 21 columns):\n",
      " #   Column                         Non-Null Count  Dtype  \n",
      "---  ------                         --------------  -----  \n",
      " 0   Performer                      27207 non-null  object \n",
      " 1   Song                           27207 non-null  object \n",
      " 2   spotify_genre                  27207 non-null  object \n",
      " 3   spotify_track_duration_minute  27207 non-null  float64\n",
      " 4   spotify_track_explicit         27207 non-null  object \n",
      " 5   spotify_track_album            27207 non-null  object \n",
      " 6   danceability                   27207 non-null  float64\n",
      " 7   energy                         27207 non-null  float64\n",
      " 8   key                            27207 non-null  float64\n",
      " 9   loudness                       27207 non-null  float64\n",
      " 10  mode                           27207 non-null  float64\n",
      " 11  speechiness                    27207 non-null  float64\n",
      " 12  acousticness                   27207 non-null  float64\n",
      " 13  instrumentalness               27207 non-null  float64\n",
      " 14  liveness                       27207 non-null  float64\n",
      " 15  valence                        27207 non-null  float64\n",
      " 16  tempo                          27207 non-null  float64\n",
      " 17  time_signature                 27207 non-null  float64\n",
      " 18  spotify_track_popularity       27207 non-null  float64\n",
      " 19  maingenere                     27207 non-null  object \n",
      " 20  User                           27207 non-null  int32  \n",
      "dtypes: float64(14), int32(1), object(6)\n",
      "memory usage: 5.5+ MB\n"
     ]
    }
   ],
   "source": [
    "# i want to rename the column Cluster\n",
    "merge_unique_df.rename(columns={'cluster':'User'},inplace=True)\n",
    "merge_unique_df.info()"
   ]
  },
  {
   "cell_type": "code",
   "execution_count": null,
   "metadata": {},
   "outputs": [
    {
     "data": {
      "text/plain": [
       "Index(['Performer', 'Song', 'spotify_genre', 'spotify_track_duration_minute',\n",
       "       'spotify_track_explicit', 'spotify_track_album', 'danceability',\n",
       "       'energy', 'key', 'loudness', 'mode', 'speechiness', 'acousticness',\n",
       "       'instrumentalness', 'liveness', 'valence', 'tempo', 'time_signature',\n",
       "       'spotify_track_popularity', 'maingenere', 'User'],\n",
       "      dtype='object')"
      ]
     },
     "execution_count": 5,
     "metadata": {},
     "output_type": "execute_result"
    }
   ],
   "source": [
    "merge_unique_df.columns"
   ]
  },
  {
   "cell_type": "markdown",
   "metadata": {},
   "source": [
    "## Now we can try to develop our NN"
   ]
  },
  {
   "cell_type": "code",
   "execution_count": 4,
   "metadata": {},
   "outputs": [],
   "source": [
    "# package that we need\n",
    "import keras\n",
    "from keras.models import Sequential\n",
    "# we most use sequential model -> one layer after the other (sequence of layer)\n",
    "from keras.layers import Dense, Activation\n",
    "from keras.optimizers import Adam\n",
    "from tensorflow.keras.models import Sequential\n",
    "from tensorflow.keras.layers import Dense\n",
    "from tensorflow.keras.optimizers import SGD\n",
    "from tensorflow.keras.metrics import MeanAbsolutePercentageError"
   ]
  },
  {
   "cell_type": "code",
   "execution_count": null,
   "metadata": {},
   "outputs": [],
   "source": [
    "# we try with a sequential one\n",
    "\n",
    "model0=Sequential[(\n",
    "    # first layer --> da capire il numero di layer inizili \n",
    "    Dense(13,activation='ReLu',input_dim=13,name='first later')\n",
    "\n",
    ")]"
   ]
  }
 ],
 "metadata": {
  "kernelspec": {
   "display_name": "Python 3",
   "language": "python",
   "name": "python3"
  },
  "language_info": {
   "codemirror_mode": {
    "name": "ipython",
    "version": 3
   },
   "file_extension": ".py",
   "mimetype": "text/x-python",
   "name": "python",
   "nbconvert_exporter": "python",
   "pygments_lexer": "ipython3",
   "version": "3.12.2"
  }
 },
 "nbformat": 4,
 "nbformat_minor": 2
}
