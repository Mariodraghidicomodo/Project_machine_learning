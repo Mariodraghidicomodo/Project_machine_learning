{
 "cells": [
  {
   "cell_type": "code",
   "execution_count": 1,
   "metadata": {},
   "outputs": [],
   "source": [
    "# for recall clean df (after EDA)\n",
    "%store -r billboard_df_eda "
   ]
  },
  {
   "cell_type": "code",
   "execution_count": 2,
   "metadata": {},
   "outputs": [
    {
     "data": {
      "text/html": [
       "<div>\n",
       "<style scoped>\n",
       "    .dataframe tbody tr th:only-of-type {\n",
       "        vertical-align: middle;\n",
       "    }\n",
       "\n",
       "    .dataframe tbody tr th {\n",
       "        vertical-align: top;\n",
       "    }\n",
       "\n",
       "    .dataframe thead th {\n",
       "        text-align: right;\n",
       "    }\n",
       "</style>\n",
       "<table border=\"1\" class=\"dataframe\">\n",
       "  <thead>\n",
       "    <tr style=\"text-align: right;\">\n",
       "      <th></th>\n",
       "      <th>index</th>\n",
       "      <th>SongID</th>\n",
       "      <th>Performer</th>\n",
       "      <th>Song</th>\n",
       "      <th>spotify_genre</th>\n",
       "      <th>spotify_track_duration_minute</th>\n",
       "      <th>spotify_track_explicit</th>\n",
       "      <th>spotify_track_album</th>\n",
       "      <th>danceability</th>\n",
       "      <th>energy</th>\n",
       "      <th>...</th>\n",
       "      <th>mode</th>\n",
       "      <th>speechiness</th>\n",
       "      <th>acousticness</th>\n",
       "      <th>instrumentalness</th>\n",
       "      <th>liveness</th>\n",
       "      <th>valence</th>\n",
       "      <th>tempo</th>\n",
       "      <th>time_signature</th>\n",
       "      <th>spotify_track_popularity</th>\n",
       "      <th>maingenere</th>\n",
       "    </tr>\n",
       "  </thead>\n",
       "  <tbody>\n",
       "    <tr>\n",
       "      <th>0</th>\n",
       "      <td>0</td>\n",
       "      <td>-twistin'-White Silver SandsBill Black's Combo</td>\n",
       "      <td>Bill Black's Combo</td>\n",
       "      <td>-twistin'-White Silver Sands</td>\n",
       "      <td>[]</td>\n",
       "      <td>3.43</td>\n",
       "      <td>unknown</td>\n",
       "      <td>single</td>\n",
       "      <td>0.59</td>\n",
       "      <td>0.57</td>\n",
       "      <td>...</td>\n",
       "      <td>0.75</td>\n",
       "      <td>0.07</td>\n",
       "      <td>0.4</td>\n",
       "      <td>0.08</td>\n",
       "      <td>0.2</td>\n",
       "      <td>0.63</td>\n",
       "      <td>117.76</td>\n",
       "      <td>3.89</td>\n",
       "      <td>22.16</td>\n",
       "      <td>other</td>\n",
       "    </tr>\n",
       "  </tbody>\n",
       "</table>\n",
       "<p>1 rows × 22 columns</p>\n",
       "</div>"
      ],
      "text/plain": [
       "   index                                          SongID           Performer  \\\n",
       "0      0  -twistin'-White Silver SandsBill Black's Combo  Bill Black's Combo   \n",
       "\n",
       "                           Song spotify_genre  spotify_track_duration_minute  \\\n",
       "0  -twistin'-White Silver Sands            []                           3.43   \n",
       "\n",
       "  spotify_track_explicit spotify_track_album  danceability  energy  ...  mode  \\\n",
       "0                unknown              single          0.59    0.57  ...  0.75   \n",
       "\n",
       "   speechiness  acousticness  instrumentalness  liveness  valence   tempo  \\\n",
       "0         0.07           0.4              0.08       0.2     0.63  117.76   \n",
       "\n",
       "   time_signature  spotify_track_popularity  maingenere  \n",
       "0            3.89                     22.16       other  \n",
       "\n",
       "[1 rows x 22 columns]"
      ]
     },
     "execution_count": 2,
     "metadata": {},
     "output_type": "execute_result"
    }
   ],
   "source": [
    "billboard_df_eda.head(1)"
   ]
  },
  {
   "cell_type": "markdown",
   "metadata": {},
   "source": [
    "# SMV - first idea"
   ]
  },
  {
   "cell_type": "code",
   "execution_count": 3,
   "metadata": {},
   "outputs": [],
   "source": [
    "#import pacchetti\n",
    "#! pip install scikit-learn\n",
    "#! pip install tensorflow\n",
    "#! pip install torch\n",
    "\n"
   ]
  },
  {
   "cell_type": "code",
   "execution_count": 4,
   "metadata": {},
   "outputs": [
    {
     "data": {
      "text/plain": [
       "maingenere\n",
       "pop             7590\n",
       "rock            5156\n",
       "other           4167\n",
       "soul            2499\n",
       "rap             2259\n",
       "country         2218\n",
       "disco            602\n",
       "jazz             404\n",
       "blues            397\n",
       "funk             351\n",
       "dance            347\n",
       "metal            307\n",
       "folk             305\n",
       "house            242\n",
       "indie            178\n",
       "r&b              158\n",
       "latin            139\n",
       "trap              94\n",
       "emo               89\n",
       "reggae            79\n",
       "instrumental      73\n",
       "punk              39\n",
       "romantic          30\n",
       "gospel            25\n",
       "classical         23\n",
       "drill             19\n",
       "songwriter        18\n",
       "soundtrack        16\n",
       "beat              12\n",
       "celtic            11\n",
       "piano             11\n",
       "electronic        10\n",
       "techno             9\n",
       "ska                8\n",
       "experimental       5\n",
       "sertanejo          2\n",
       "ambient            2\n",
       "glitch             2\n",
       "orchestra          2\n",
       "prog               1\n",
       "salsa              1\n",
       "cumbia             1\n",
       "Name: count, dtype: int64"
      ]
     },
     "execution_count": 4,
     "metadata": {},
     "output_type": "execute_result"
    }
   ],
   "source": [
    "billboard_df_eda.maingenere.value_counts()"
   ]
  },
  {
   "cell_type": "code",
   "execution_count": 5,
   "metadata": {},
   "outputs": [
    {
     "data": {
      "text/plain": [
       "['pop',\n",
       " 'rock',\n",
       " 'other',\n",
       " 'soul',\n",
       " 'rap',\n",
       " 'country',\n",
       " 'disco',\n",
       " 'jazz',\n",
       " 'blues',\n",
       " 'funk',\n",
       " 'dance',\n",
       " 'metal',\n",
       " 'folk',\n",
       " 'house',\n",
       " 'indie',\n",
       " 'r&b',\n",
       " 'latin']"
      ]
     },
     "execution_count": 5,
     "metadata": {},
     "output_type": "execute_result"
    }
   ],
   "source": [
    "#make list of maingenere top 17 (more than 100 songs)\n",
    "list_top_17 = list(billboard_df_eda.maingenere.value_counts()[:17].index)\n",
    "#list(list_top_17.index)\n",
    "list_top_17"
   ]
  },
  {
   "cell_type": "code",
   "execution_count": 6,
   "metadata": {},
   "outputs": [
    {
     "data": {
      "text/plain": [
       "0    other\n",
       "1    other\n",
       "2      pop\n",
       "3     rock\n",
       "4      pop\n",
       "5      pop\n",
       "6      rap\n",
       "7     rock\n",
       "8    indie\n",
       "9    other\n",
       "Name: maingenere, dtype: object"
      ]
     },
     "execution_count": 6,
     "metadata": {},
     "output_type": "execute_result"
    }
   ],
   "source": [
    "billboard_df_eda.maingenere.head(10)"
   ]
  },
  {
   "cell_type": "code",
   "execution_count": 7,
   "metadata": {},
   "outputs": [
    {
     "data": {
      "text/plain": [
       "maingenere\n",
       "pop        7590\n",
       "rock       5156\n",
       "other      4167\n",
       "soul       2499\n",
       "rap        2259\n",
       "country    2218\n",
       "disco       602\n",
       "jazz        404\n",
       "blues       397\n",
       "funk        351\n",
       "dance       347\n",
       "metal       307\n",
       "folk        305\n",
       "house       242\n",
       "indie       178\n",
       "r&b         158\n",
       "latin       139\n",
       "Name: count, dtype: int64"
      ]
     },
     "metadata": {},
     "output_type": "display_data"
    }
   ],
   "source": [
    "#df_17maingenre=billboard_df[billboard_df.maingenere.value_counts()[:17]]\n",
    "#df_17maingenre.head(5)\n",
    "df_maingenere_more_100 = billboard_df_eda[billboard_df_eda.maingenere.isin(list_top_17)]\n",
    "#billboard_df.maingenere[genere_more_100]\n",
    "display(df_maingenere_more_100.maingenere.value_counts())"
   ]
  },
  {
   "cell_type": "code",
   "execution_count": 8,
   "metadata": {},
   "outputs": [
    {
     "name": "stdout",
     "output_type": "stream",
     "text": [
      "<class 'pandas.core.frame.DataFrame'>\n",
      "Index: 27319 entries, 0 to 29502\n",
      "Data columns (total 22 columns):\n",
      " #   Column                         Non-Null Count  Dtype  \n",
      "---  ------                         --------------  -----  \n",
      " 0   index                          27319 non-null  int64  \n",
      " 1   SongID                         27319 non-null  object \n",
      " 2   Performer                      27319 non-null  object \n",
      " 3   Song                           27319 non-null  object \n",
      " 4   spotify_genre                  27319 non-null  object \n",
      " 5   spotify_track_duration_minute  27319 non-null  float64\n",
      " 6   spotify_track_explicit         27319 non-null  object \n",
      " 7   spotify_track_album            27319 non-null  object \n",
      " 8   danceability                   27319 non-null  float64\n",
      " 9   energy                         27319 non-null  float64\n",
      " 10  key                            27319 non-null  float64\n",
      " 11  loudness                       27319 non-null  float64\n",
      " 12  mode                           27319 non-null  float64\n",
      " 13  speechiness                    27319 non-null  float64\n",
      " 14  acousticness                   27319 non-null  float64\n",
      " 15  instrumentalness               27319 non-null  float64\n",
      " 16  liveness                       27319 non-null  float64\n",
      " 17  valence                        27319 non-null  float64\n",
      " 18  tempo                          27319 non-null  float64\n",
      " 19  time_signature                 27319 non-null  float64\n",
      " 20  spotify_track_popularity       27319 non-null  float64\n",
      " 21  maingenere                     27319 non-null  object \n",
      "dtypes: float64(14), int64(1), object(7)\n",
      "memory usage: 4.8+ MB\n"
     ]
    }
   ],
   "source": [
    "# df with only the 17 meingenre \n",
    "df_maingenere_more_100.info()"
   ]
  },
  {
   "cell_type": "markdown",
   "metadata": {},
   "source": [
    "## **We want to classify the songs using SVM** "
   ]
  },
  {
   "cell_type": "code",
   "execution_count": 9,
   "metadata": {},
   "outputs": [],
   "source": [
    "import numpy as np\n",
    "from sklearn import svm"
   ]
  },
  {
   "cell_type": "code",
   "execution_count": 10,
   "metadata": {},
   "outputs": [],
   "source": [
    "# we want to consider numeric variable as feature "
   ]
  },
  {
   "cell_type": "code",
   "execution_count": 11,
   "metadata": {},
   "outputs": [],
   "source": [
    "#! pip install pandas \n",
    "#! pip install matplotlib.pyplot\n",
    "#! pip install seaborn"
   ]
  },
  {
   "cell_type": "code",
   "execution_count": null,
   "metadata": {},
   "outputs": [],
   "source": []
  }
 ],
 "metadata": {
  "kernelspec": {
   "display_name": "Python 3",
   "language": "python",
   "name": "python3"
  },
  "language_info": {
   "codemirror_mode": {
    "name": "ipython",
    "version": 3
   },
   "file_extension": ".py",
   "mimetype": "text/x-python",
   "name": "python",
   "nbconvert_exporter": "python",
   "pygments_lexer": "ipython3",
   "version": "3.12.2"
  }
 },
 "nbformat": 4,
 "nbformat_minor": 2
}
