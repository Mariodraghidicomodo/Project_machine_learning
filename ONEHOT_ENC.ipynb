{
 "cells": [
  {
   "cell_type": "markdown",
   "metadata": {},
   "source": [
    "## Df + Lib"
   ]
  },
  {
   "cell_type": "code",
   "execution_count": 1,
   "metadata": {},
   "outputs": [],
   "source": [
    "%store -r merge_unique_df"
   ]
  },
  {
   "cell_type": "code",
   "execution_count": 2,
   "metadata": {},
   "outputs": [],
   "source": [
    "# essential\n",
    "import pandas as pd\n",
    "import matplotlib.pyplot as plt\n",
    "\n",
    "# for NN\n",
    "import keras\n",
    "from keras.models import Sequential\n",
    "# we most use sequential model -> one layer after the other (sequence of layer)\n",
    "from keras.layers import Dense, Activation\n",
    "from keras.optimizers import Adam\n",
    "from tensorflow.keras.models import Sequential\n",
    "from tensorflow.keras.layers import Dense\n",
    "from tensorflow.keras.optimizers import SGD\n",
    "from tensorflow.keras.metrics import MeanAbsolutePercentageError\n",
    "\n",
    "\n",
    "# non so se siano utili\n",
    "from sklearn.model_selection import train_test_split\n",
    "from sklearn.preprocessing import StandardScaler, LabelEncoder\n",
    "from sklearn.metrics import mean_squared_error"
   ]
  },
  {
   "cell_type": "code",
   "execution_count": 3,
   "metadata": {},
   "outputs": [
    {
     "data": {
      "text/html": [
       "<div>\n",
       "<style scoped>\n",
       "    .dataframe tbody tr th:only-of-type {\n",
       "        vertical-align: middle;\n",
       "    }\n",
       "\n",
       "    .dataframe tbody tr th {\n",
       "        vertical-align: top;\n",
       "    }\n",
       "\n",
       "    .dataframe thead th {\n",
       "        text-align: right;\n",
       "    }\n",
       "</style>\n",
       "<table border=\"1\" class=\"dataframe\">\n",
       "  <thead>\n",
       "    <tr style=\"text-align: right;\">\n",
       "      <th></th>\n",
       "      <th>genre_blues</th>\n",
       "      <th>genre_country</th>\n",
       "      <th>genre_dance</th>\n",
       "      <th>genre_disco</th>\n",
       "      <th>genre_folk</th>\n",
       "      <th>genre_funk</th>\n",
       "      <th>genre_house</th>\n",
       "      <th>genre_indie</th>\n",
       "      <th>genre_jazz</th>\n",
       "      <th>genre_latin</th>\n",
       "      <th>genre_metal</th>\n",
       "      <th>genre_other</th>\n",
       "      <th>genre_pop</th>\n",
       "      <th>genre_r&amp;b</th>\n",
       "      <th>genre_rap</th>\n",
       "      <th>genre_rock</th>\n",
       "      <th>genre_soul</th>\n",
       "    </tr>\n",
       "    <tr>\n",
       "      <th>SongID</th>\n",
       "      <th></th>\n",
       "      <th></th>\n",
       "      <th></th>\n",
       "      <th></th>\n",
       "      <th></th>\n",
       "      <th></th>\n",
       "      <th></th>\n",
       "      <th></th>\n",
       "      <th></th>\n",
       "      <th></th>\n",
       "      <th></th>\n",
       "      <th></th>\n",
       "      <th></th>\n",
       "      <th></th>\n",
       "      <th></th>\n",
       "      <th></th>\n",
       "      <th></th>\n",
       "    </tr>\n",
       "  </thead>\n",
       "  <tbody>\n",
       "    <tr>\n",
       "      <th>-twistin'-White Silver SandsBill Black's Combo</th>\n",
       "      <td>False</td>\n",
       "      <td>False</td>\n",
       "      <td>False</td>\n",
       "      <td>False</td>\n",
       "      <td>False</td>\n",
       "      <td>False</td>\n",
       "      <td>False</td>\n",
       "      <td>False</td>\n",
       "      <td>False</td>\n",
       "      <td>False</td>\n",
       "      <td>False</td>\n",
       "      <td>True</td>\n",
       "      <td>False</td>\n",
       "      <td>False</td>\n",
       "      <td>False</td>\n",
       "      <td>False</td>\n",
       "      <td>False</td>\n",
       "    </tr>\n",
       "    <tr>\n",
       "      <th>¿Dònde Està Santa Claus? (Where Is Santa Claus?)Augie Rios</th>\n",
       "      <td>False</td>\n",
       "      <td>False</td>\n",
       "      <td>False</td>\n",
       "      <td>False</td>\n",
       "      <td>False</td>\n",
       "      <td>False</td>\n",
       "      <td>False</td>\n",
       "      <td>False</td>\n",
       "      <td>False</td>\n",
       "      <td>False</td>\n",
       "      <td>False</td>\n",
       "      <td>True</td>\n",
       "      <td>False</td>\n",
       "      <td>False</td>\n",
       "      <td>False</td>\n",
       "      <td>False</td>\n",
       "      <td>False</td>\n",
       "    </tr>\n",
       "  </tbody>\n",
       "</table>\n",
       "</div>"
      ],
      "text/plain": [
       "                                                    genre_blues  \\\n",
       "SongID                                                            \n",
       "-twistin'-White Silver SandsBill Black's Combo            False   \n",
       "¿Dònde Està Santa Claus? (Where Is Santa Claus?...        False   \n",
       "\n",
       "                                                    genre_country  \\\n",
       "SongID                                                              \n",
       "-twistin'-White Silver SandsBill Black's Combo              False   \n",
       "¿Dònde Està Santa Claus? (Where Is Santa Claus?...          False   \n",
       "\n",
       "                                                    genre_dance  genre_disco  \\\n",
       "SongID                                                                         \n",
       "-twistin'-White Silver SandsBill Black's Combo            False        False   \n",
       "¿Dònde Està Santa Claus? (Where Is Santa Claus?...        False        False   \n",
       "\n",
       "                                                    genre_folk  genre_funk  \\\n",
       "SongID                                                                       \n",
       "-twistin'-White Silver SandsBill Black's Combo           False       False   \n",
       "¿Dònde Està Santa Claus? (Where Is Santa Claus?...       False       False   \n",
       "\n",
       "                                                    genre_house  genre_indie  \\\n",
       "SongID                                                                         \n",
       "-twistin'-White Silver SandsBill Black's Combo            False        False   \n",
       "¿Dònde Està Santa Claus? (Where Is Santa Claus?...        False        False   \n",
       "\n",
       "                                                    genre_jazz  genre_latin  \\\n",
       "SongID                                                                        \n",
       "-twistin'-White Silver SandsBill Black's Combo           False        False   \n",
       "¿Dònde Està Santa Claus? (Where Is Santa Claus?...       False        False   \n",
       "\n",
       "                                                    genre_metal  genre_other  \\\n",
       "SongID                                                                         \n",
       "-twistin'-White Silver SandsBill Black's Combo            False         True   \n",
       "¿Dònde Està Santa Claus? (Where Is Santa Claus?...        False         True   \n",
       "\n",
       "                                                    genre_pop  genre_r&b  \\\n",
       "SongID                                                                     \n",
       "-twistin'-White Silver SandsBill Black's Combo          False      False   \n",
       "¿Dònde Està Santa Claus? (Where Is Santa Claus?...      False      False   \n",
       "\n",
       "                                                    genre_rap  genre_rock  \\\n",
       "SongID                                                                      \n",
       "-twistin'-White Silver SandsBill Black's Combo          False       False   \n",
       "¿Dònde Està Santa Claus? (Where Is Santa Claus?...      False       False   \n",
       "\n",
       "                                                    genre_soul  \n",
       "SongID                                                          \n",
       "-twistin'-White Silver SandsBill Black's Combo           False  \n",
       "¿Dònde Està Santa Claus? (Where Is Santa Claus?...       False  "
      ]
     },
     "execution_count": 3,
     "metadata": {},
     "output_type": "execute_result"
    }
   ],
   "source": [
    "# in order to obtain the True/False for each genre\n",
    "onehot_enc=pd.get_dummies(merge_unique_df['maingenere'],prefix='genre')\n",
    "onehot_enc.head(2)"
   ]
  },
  {
   "cell_type": "code",
   "execution_count": 4,
   "metadata": {},
   "outputs": [
    {
     "name": "stderr",
     "output_type": "stream",
     "text": [
      "C:\\Users\\lovoa\\AppData\\Local\\Temp\\ipykernel_13296\\823651478.py:2: FutureWarning: DataFrame.applymap has been deprecated. Use DataFrame.map instead.\n",
      "  one_hot_enc_binary = onehot_enc.applymap(lambda x: 1 if x else 0)\n"
     ]
    }
   ],
   "source": [
    "# Conversione in valori binari (0 o 1) per rappresentare il main genere con 1 e gli altri con 0\n",
    "one_hot_enc_binary = onehot_enc.applymap(lambda x: 1 if x else 0)"
   ]
  },
  {
   "cell_type": "code",
   "execution_count": 5,
   "metadata": {},
   "outputs": [
    {
     "data": {
      "text/html": [
       "<div>\n",
       "<style scoped>\n",
       "    .dataframe tbody tr th:only-of-type {\n",
       "        vertical-align: middle;\n",
       "    }\n",
       "\n",
       "    .dataframe tbody tr th {\n",
       "        vertical-align: top;\n",
       "    }\n",
       "\n",
       "    .dataframe thead th {\n",
       "        text-align: right;\n",
       "    }\n",
       "</style>\n",
       "<table border=\"1\" class=\"dataframe\">\n",
       "  <thead>\n",
       "    <tr style=\"text-align: right;\">\n",
       "      <th></th>\n",
       "      <th>Performer</th>\n",
       "      <th>Song</th>\n",
       "      <th>spotify_genre</th>\n",
       "      <th>spotify_track_duration_minute</th>\n",
       "      <th>spotify_track_explicit</th>\n",
       "      <th>spotify_track_album</th>\n",
       "      <th>danceability</th>\n",
       "      <th>energy</th>\n",
       "      <th>key</th>\n",
       "      <th>loudness</th>\n",
       "      <th>...</th>\n",
       "      <th>genre_indie</th>\n",
       "      <th>genre_jazz</th>\n",
       "      <th>genre_latin</th>\n",
       "      <th>genre_metal</th>\n",
       "      <th>genre_other</th>\n",
       "      <th>genre_pop</th>\n",
       "      <th>genre_r&amp;b</th>\n",
       "      <th>genre_rap</th>\n",
       "      <th>genre_rock</th>\n",
       "      <th>genre_soul</th>\n",
       "    </tr>\n",
       "    <tr>\n",
       "      <th>SongID</th>\n",
       "      <th></th>\n",
       "      <th></th>\n",
       "      <th></th>\n",
       "      <th></th>\n",
       "      <th></th>\n",
       "      <th></th>\n",
       "      <th></th>\n",
       "      <th></th>\n",
       "      <th></th>\n",
       "      <th></th>\n",
       "      <th></th>\n",
       "      <th></th>\n",
       "      <th></th>\n",
       "      <th></th>\n",
       "      <th></th>\n",
       "      <th></th>\n",
       "      <th></th>\n",
       "      <th></th>\n",
       "      <th></th>\n",
       "      <th></th>\n",
       "      <th></th>\n",
       "    </tr>\n",
       "  </thead>\n",
       "  <tbody>\n",
       "    <tr>\n",
       "      <th>-twistin'-White Silver SandsBill Black's Combo</th>\n",
       "      <td>Bill Black's Combo</td>\n",
       "      <td>-twistin'-White Silver Sands</td>\n",
       "      <td>[]</td>\n",
       "      <td>3.43</td>\n",
       "      <td>unknown</td>\n",
       "      <td>single</td>\n",
       "      <td>0.59</td>\n",
       "      <td>0.57</td>\n",
       "      <td>5.37</td>\n",
       "      <td>-9.97</td>\n",
       "      <td>...</td>\n",
       "      <td>0</td>\n",
       "      <td>0</td>\n",
       "      <td>0</td>\n",
       "      <td>0</td>\n",
       "      <td>1</td>\n",
       "      <td>0</td>\n",
       "      <td>0</td>\n",
       "      <td>0</td>\n",
       "      <td>0</td>\n",
       "      <td>0</td>\n",
       "    </tr>\n",
       "    <tr>\n",
       "      <th>¿Dònde Està Santa Claus? (Where Is Santa Claus?)Augie Rios</th>\n",
       "      <td>Augie Rios</td>\n",
       "      <td>¿Dònde Està Santa Claus? (Where Is Santa Claus?)</td>\n",
       "      <td>['novelty']</td>\n",
       "      <td>3.43</td>\n",
       "      <td>unknown</td>\n",
       "      <td>single</td>\n",
       "      <td>0.59</td>\n",
       "      <td>0.57</td>\n",
       "      <td>5.37</td>\n",
       "      <td>-9.97</td>\n",
       "      <td>...</td>\n",
       "      <td>0</td>\n",
       "      <td>0</td>\n",
       "      <td>0</td>\n",
       "      <td>0</td>\n",
       "      <td>1</td>\n",
       "      <td>0</td>\n",
       "      <td>0</td>\n",
       "      <td>0</td>\n",
       "      <td>0</td>\n",
       "      <td>0</td>\n",
       "    </tr>\n",
       "  </tbody>\n",
       "</table>\n",
       "<p>2 rows × 38 columns</p>\n",
       "</div>"
      ],
      "text/plain": [
       "                                                             Performer  \\\n",
       "SongID                                                                   \n",
       "-twistin'-White Silver SandsBill Black's Combo      Bill Black's Combo   \n",
       "¿Dònde Està Santa Claus? (Where Is Santa Claus?...          Augie Rios   \n",
       "\n",
       "                                                                                                Song  \\\n",
       "SongID                                                                                                 \n",
       "-twistin'-White Silver SandsBill Black's Combo                          -twistin'-White Silver Sands   \n",
       "¿Dònde Està Santa Claus? (Where Is Santa Claus?...  ¿Dònde Està Santa Claus? (Where Is Santa Claus?)   \n",
       "\n",
       "                                                   spotify_genre  \\\n",
       "SongID                                                             \n",
       "-twistin'-White Silver SandsBill Black's Combo                []   \n",
       "¿Dònde Està Santa Claus? (Where Is Santa Claus?...   ['novelty']   \n",
       "\n",
       "                                                    spotify_track_duration_minute  \\\n",
       "SongID                                                                              \n",
       "-twistin'-White Silver SandsBill Black's Combo                               3.43   \n",
       "¿Dònde Està Santa Claus? (Where Is Santa Claus?...                           3.43   \n",
       "\n",
       "                                                   spotify_track_explicit  \\\n",
       "SongID                                                                      \n",
       "-twistin'-White Silver SandsBill Black's Combo                    unknown   \n",
       "¿Dònde Està Santa Claus? (Where Is Santa Claus?...                unknown   \n",
       "\n",
       "                                                   spotify_track_album  \\\n",
       "SongID                                                                   \n",
       "-twistin'-White Silver SandsBill Black's Combo                  single   \n",
       "¿Dònde Està Santa Claus? (Where Is Santa Claus?...              single   \n",
       "\n",
       "                                                    danceability  energy  \\\n",
       "SongID                                                                     \n",
       "-twistin'-White Silver SandsBill Black's Combo              0.59    0.57   \n",
       "¿Dònde Està Santa Claus? (Where Is Santa Claus?...          0.59    0.57   \n",
       "\n",
       "                                                     key  loudness  ...  \\\n",
       "SongID                                                              ...   \n",
       "-twistin'-White Silver SandsBill Black's Combo      5.37     -9.97  ...   \n",
       "¿Dònde Està Santa Claus? (Where Is Santa Claus?...  5.37     -9.97  ...   \n",
       "\n",
       "                                                    genre_indie  genre_jazz  \\\n",
       "SongID                                                                        \n",
       "-twistin'-White Silver SandsBill Black's Combo                0           0   \n",
       "¿Dònde Està Santa Claus? (Where Is Santa Claus?...            0           0   \n",
       "\n",
       "                                                    genre_latin  genre_metal  \\\n",
       "SongID                                                                         \n",
       "-twistin'-White Silver SandsBill Black's Combo                0            0   \n",
       "¿Dònde Està Santa Claus? (Where Is Santa Claus?...            0            0   \n",
       "\n",
       "                                                    genre_other  genre_pop  \\\n",
       "SongID                                                                       \n",
       "-twistin'-White Silver SandsBill Black's Combo                1          0   \n",
       "¿Dònde Està Santa Claus? (Where Is Santa Claus?...            1          0   \n",
       "\n",
       "                                                    genre_r&b  genre_rap  \\\n",
       "SongID                                                                     \n",
       "-twistin'-White Silver SandsBill Black's Combo              0          0   \n",
       "¿Dònde Està Santa Claus? (Where Is Santa Claus?...          0          0   \n",
       "\n",
       "                                                    genre_rock genre_soul  \n",
       "SongID                                                                     \n",
       "-twistin'-White Silver SandsBill Black's Combo               0          0  \n",
       "¿Dònde Està Santa Claus? (Where Is Santa Claus?...           0          0  \n",
       "\n",
       "[2 rows x 38 columns]"
      ]
     },
     "execution_count": 5,
     "metadata": {},
     "output_type": "execute_result"
    }
   ],
   "source": [
    "# we merge the 2 df\n",
    "df_one_hot=pd.concat([merge_unique_df,one_hot_enc_binary],axis=1)\n",
    "df_one_hot.head(2)"
   ]
  },
  {
   "cell_type": "markdown",
   "metadata": {},
   "source": [
    "## U1 - Test ONE HOT"
   ]
  },
  {
   "cell_type": "code",
   "execution_count": 6,
   "metadata": {},
   "outputs": [
    {
     "data": {
      "text/plain": [
       "(4669, 38)"
      ]
     },
     "execution_count": 6,
     "metadata": {},
     "output_type": "execute_result"
    }
   ],
   "source": [
    "mask_u1=df_one_hot['User']==1\n",
    "u1_onehot_df=df_one_hot[mask_u1]\n",
    "u1_onehot_df.shape"
   ]
  },
  {
   "cell_type": "markdown",
   "metadata": {},
   "source": [
    "### NN - test ONE HOT"
   ]
  },
  {
   "cell_type": "code",
   "execution_count": 7,
   "metadata": {},
   "outputs": [],
   "source": [
    "# FIRST WE NEED TO DEFINE THE FEATURES\n",
    "numerical_features = [\n",
    "    'spotify_track_duration_minute', 'danceability', 'energy', 'loudness',\n",
    "    'mode', 'speechiness', 'acousticness',\n",
    "    'spotify_track_popularity', 'instrumentalness', 'liveness']\n",
    "\n",
    "genre_features = [col for col in u1_onehot_df.columns if col.startswith('genre_')]\n",
    "\n",
    "# UNION OF THE TWO \n",
    "total_features = numerical_features + genre_features\n",
    "\n",
    "target='valence'"
   ]
  },
  {
   "cell_type": "code",
   "execution_count": 8,
   "metadata": {},
   "outputs": [],
   "source": [
    "# DEFINITION OF TARGET AND FEATURES\n",
    "\n",
    "x=u1_onehot_df[total_features]\n",
    "\n",
    "y=u1_onehot_df[target]"
   ]
  },
  {
   "cell_type": "code",
   "execution_count": 9,
   "metadata": {},
   "outputs": [
    {
     "name": "stderr",
     "output_type": "stream",
     "text": [
      "C:\\Users\\lovoa\\AppData\\Local\\Temp\\ipykernel_13296\\3500654492.py:3: SettingWithCopyWarning: \n",
      "A value is trying to be set on a copy of a slice from a DataFrame.\n",
      "Try using .loc[row_indexer,col_indexer] = value instead\n",
      "\n",
      "See the caveats in the documentation: https://pandas.pydata.org/pandas-docs/stable/user_guide/indexing.html#returning-a-view-versus-a-copy\n",
      "  x[numerical_features]=scaler.fit_transform(x[numerical_features])\n"
     ]
    }
   ],
   "source": [
    "# first we have to standardize\n",
    "scaler=StandardScaler()\n",
    "x[numerical_features]=scaler.fit_transform(x[numerical_features])"
   ]
  },
  {
   "cell_type": "code",
   "execution_count": 10,
   "metadata": {},
   "outputs": [],
   "source": [
    "#TRAIN/TEST\n",
    "x_train,x_test,y_train,y_test=train_test_split(x,y,test_size=0.2,random_state=42)"
   ]
  },
  {
   "cell_type": "code",
   "execution_count": 11,
   "metadata": {},
   "outputs": [
    {
     "name": "stderr",
     "output_type": "stream",
     "text": [
      "c:\\Users\\lovoa\\AppData\\Local\\Programs\\Python\\Python312\\Lib\\site-packages\\keras\\src\\layers\\core\\dense.py:87: UserWarning: Do not pass an `input_shape`/`input_dim` argument to a layer. When using Sequential models, prefer using an `Input(shape)` object as the first layer in the model instead.\n",
      "  super().__init__(activity_regularizer=activity_regularizer, **kwargs)\n"
     ]
    }
   ],
   "source": [
    "model_onehot=Sequential([\n",
    "    Dense(32,activation='relu',input_shape=(x_train.shape[1],)),\n",
    "    Dense(16,activation='relu'),\n",
    "    Dense(1,activation='relu')\n",
    "])"
   ]
  },
  {
   "cell_type": "code",
   "execution_count": 12,
   "metadata": {},
   "outputs": [],
   "source": [
    "model_onehot.compile(optimizer='adam',loss='mse',metrics=['mae'])"
   ]
  },
  {
   "cell_type": "code",
   "execution_count": 13,
   "metadata": {},
   "outputs": [
    {
     "name": "stdout",
     "output_type": "stream",
     "text": [
      "Epoch 1/20\n",
      "\u001b[1m94/94\u001b[0m \u001b[32m━━━━━━━━━━━━━━━━━━━━\u001b[0m\u001b[37m\u001b[0m \u001b[1m1s\u001b[0m 3ms/step - loss: 0.1879 - mae: 0.3528 - val_loss: 0.0572 - val_mae: 0.1910\n",
      "Epoch 2/20\n",
      "\u001b[1m94/94\u001b[0m \u001b[32m━━━━━━━━━━━━━━━━━━━━\u001b[0m\u001b[37m\u001b[0m \u001b[1m0s\u001b[0m 2ms/step - loss: 0.0479 - mae: 0.1751 - val_loss: 0.0424 - val_mae: 0.1633\n",
      "Epoch 3/20\n",
      "\u001b[1m94/94\u001b[0m \u001b[32m━━━━━━━━━━━━━━━━━━━━\u001b[0m\u001b[37m\u001b[0m \u001b[1m0s\u001b[0m 1ms/step - loss: 0.0362 - mae: 0.1516 - val_loss: 0.0364 - val_mae: 0.1525\n",
      "Epoch 4/20\n",
      "\u001b[1m94/94\u001b[0m \u001b[32m━━━━━━━━━━━━━━━━━━━━\u001b[0m\u001b[37m\u001b[0m \u001b[1m0s\u001b[0m 2ms/step - loss: 0.0315 - mae: 0.1398 - val_loss: 0.0337 - val_mae: 0.1470\n",
      "Epoch 5/20\n",
      "\u001b[1m94/94\u001b[0m \u001b[32m━━━━━━━━━━━━━━━━━━━━\u001b[0m\u001b[37m\u001b[0m \u001b[1m0s\u001b[0m 2ms/step - loss: 0.0293 - mae: 0.1352 - val_loss: 0.0323 - val_mae: 0.1432\n",
      "Epoch 6/20\n",
      "\u001b[1m94/94\u001b[0m \u001b[32m━━━━━━━━━━━━━━━━━━━━\u001b[0m\u001b[37m\u001b[0m \u001b[1m0s\u001b[0m 2ms/step - loss: 0.0288 - mae: 0.1345 - val_loss: 0.0317 - val_mae: 0.1411\n",
      "Epoch 7/20\n",
      "\u001b[1m94/94\u001b[0m \u001b[32m━━━━━━━━━━━━━━━━━━━━\u001b[0m\u001b[37m\u001b[0m \u001b[1m0s\u001b[0m 2ms/step - loss: 0.0266 - mae: 0.1292 - val_loss: 0.0301 - val_mae: 0.1387\n",
      "Epoch 8/20\n",
      "\u001b[1m94/94\u001b[0m \u001b[32m━━━━━━━━━━━━━━━━━━━━\u001b[0m\u001b[37m\u001b[0m \u001b[1m0s\u001b[0m 2ms/step - loss: 0.0247 - mae: 0.1252 - val_loss: 0.0292 - val_mae: 0.1375\n",
      "Epoch 9/20\n",
      "\u001b[1m94/94\u001b[0m \u001b[32m━━━━━━━━━━━━━━━━━━━━\u001b[0m\u001b[37m\u001b[0m \u001b[1m0s\u001b[0m 2ms/step - loss: 0.0246 - mae: 0.1247 - val_loss: 0.0300 - val_mae: 0.1385\n",
      "Epoch 10/20\n",
      "\u001b[1m94/94\u001b[0m \u001b[32m━━━━━━━━━━━━━━━━━━━━\u001b[0m\u001b[37m\u001b[0m \u001b[1m0s\u001b[0m 2ms/step - loss: 0.0244 - mae: 0.1233 - val_loss: 0.0292 - val_mae: 0.1376\n",
      "Epoch 11/20\n",
      "\u001b[1m94/94\u001b[0m \u001b[32m━━━━━━━━━━━━━━━━━━━━\u001b[0m\u001b[37m\u001b[0m \u001b[1m0s\u001b[0m 2ms/step - loss: 0.0225 - mae: 0.1198 - val_loss: 0.0293 - val_mae: 0.1352\n",
      "Epoch 12/20\n",
      "\u001b[1m94/94\u001b[0m \u001b[32m━━━━━━━━━━━━━━━━━━━━\u001b[0m\u001b[37m\u001b[0m \u001b[1m0s\u001b[0m 1ms/step - loss: 0.0221 - mae: 0.1182 - val_loss: 0.0284 - val_mae: 0.1345\n",
      "Epoch 13/20\n",
      "\u001b[1m94/94\u001b[0m \u001b[32m━━━━━━━━━━━━━━━━━━━━\u001b[0m\u001b[37m\u001b[0m \u001b[1m0s\u001b[0m 2ms/step - loss: 0.0231 - mae: 0.1219 - val_loss: 0.0286 - val_mae: 0.1336\n",
      "Epoch 14/20\n",
      "\u001b[1m94/94\u001b[0m \u001b[32m━━━━━━━━━━━━━━━━━━━━\u001b[0m\u001b[37m\u001b[0m \u001b[1m0s\u001b[0m 2ms/step - loss: 0.0219 - mae: 0.1175 - val_loss: 0.0288 - val_mae: 0.1337\n",
      "Epoch 15/20\n",
      "\u001b[1m94/94\u001b[0m \u001b[32m━━━━━━━━━━━━━━━━━━━━\u001b[0m\u001b[37m\u001b[0m \u001b[1m0s\u001b[0m 2ms/step - loss: 0.0217 - mae: 0.1171 - val_loss: 0.0286 - val_mae: 0.1353\n",
      "Epoch 16/20\n",
      "\u001b[1m94/94\u001b[0m \u001b[32m━━━━━━━━━━━━━━━━━━━━\u001b[0m\u001b[37m\u001b[0m \u001b[1m0s\u001b[0m 2ms/step - loss: 0.0233 - mae: 0.1208 - val_loss: 0.0288 - val_mae: 0.1343\n",
      "Epoch 17/20\n",
      "\u001b[1m94/94\u001b[0m \u001b[32m━━━━━━━━━━━━━━━━━━━━\u001b[0m\u001b[37m\u001b[0m \u001b[1m0s\u001b[0m 2ms/step - loss: 0.0221 - mae: 0.1178 - val_loss: 0.0288 - val_mae: 0.1332\n",
      "Epoch 18/20\n",
      "\u001b[1m94/94\u001b[0m \u001b[32m━━━━━━━━━━━━━━━━━━━━\u001b[0m\u001b[37m\u001b[0m \u001b[1m0s\u001b[0m 2ms/step - loss: 0.0215 - mae: 0.1166 - val_loss: 0.0291 - val_mae: 0.1340\n",
      "Epoch 19/20\n",
      "\u001b[1m94/94\u001b[0m \u001b[32m━━━━━━━━━━━━━━━━━━━━\u001b[0m\u001b[37m\u001b[0m \u001b[1m0s\u001b[0m 2ms/step - loss: 0.0212 - mae: 0.1149 - val_loss: 0.0292 - val_mae: 0.1352\n",
      "Epoch 20/20\n",
      "\u001b[1m94/94\u001b[0m \u001b[32m━━━━━━━━━━━━━━━━━━━━\u001b[0m\u001b[37m\u001b[0m \u001b[1m0s\u001b[0m 2ms/step - loss: 0.0216 - mae: 0.1172 - val_loss: 0.0289 - val_mae: 0.1335\n"
     ]
    }
   ],
   "source": [
    "history_onehot=model_onehot.fit(x_train,y_train,epochs=20,batch_size=32,validation_split=0.2)"
   ]
  },
  {
   "cell_type": "code",
   "execution_count": 14,
   "metadata": {},
   "outputs": [
    {
     "name": "stdout",
     "output_type": "stream",
     "text": [
      "\u001b[1m30/30\u001b[0m \u001b[32m━━━━━━━━━━━━━━━━━━━━\u001b[0m\u001b[37m\u001b[0m \u001b[1m0s\u001b[0m 2ms/step - loss: 0.0278 - mae: 0.1299\n",
      "Loss: 0.027465935796499252, MAE: 0.12963631749153137\n"
     ]
    }
   ],
   "source": [
    "loss, mae = model_onehot.evaluate(x_test, y_test)\n",
    "print(f'Loss: {loss}, MAE: {mae}')"
   ]
  },
  {
   "cell_type": "markdown",
   "metadata": {},
   "source": [
    "WE CAN SEE THAT sice LOSS is our MSE=0.0278 \n",
    "\n",
    "when we use the simple NN our MSE is equal 0.0304\n",
    "\n",
    "so seams that we have a reduction\n",
    "\n",
    "we have also a reduction with respect with the cross validation 0.033"
   ]
  },
  {
   "cell_type": "code",
   "execution_count": 15,
   "metadata": {},
   "outputs": [
    {
     "data": {
      "image/png": "[encoded data removed]",
      "text/plain": [
       "<Figure size 1000x600 with 1 Axes>"
      ]
     },
     "metadata": {},
     "output_type": "display_data"
    },
    {
     "data": {
      "image/png": "[encoded data removed]",
      "text/plain": [
       "<Figure size 1000x600 with 1 Axes>"
      ]
     },
     "metadata": {},
     "output_type": "display_data"
    }
   ],
   "source": [
    "#SOME PLOT\n",
    "\n",
    "#plot loss\n",
    "plt.figure(figsize=(10,6))\n",
    "plt.plot(history_onehot.history['loss'],color='blue',label='loss')\n",
    "plt.plot(history_onehot.history['val_loss'],color='red',label='val_loss')\n",
    "plt.xlabel('Epoch')\n",
    "plt.ylabel('Loss')\n",
    "plt.title('Loss function through epoch')\n",
    "plt.legend()\n",
    "plt.grid()\n",
    "plt.show()\n",
    "\n",
    "    #plot mean\n",
    "plt.figure(figsize=(10,6))\n",
    "plt.plot(history_onehot.history['mae'],color='blue',label='mae')\n",
    "plt.plot(history_onehot.history['val_mae'],color='red',label='val_mae')\n",
    "plt.xlabel('Epoch')\n",
    "plt.ylabel('mae')\n",
    "plt.title('Mae function through epoch')\n",
    "plt.grid()\n",
    "plt.legend()\n",
    "plt.show()   "
   ]
  },
  {
   "cell_type": "code",
   "execution_count": null,
   "metadata": {},
   "outputs": [],
   "source": []
  }
 ],
 "metadata": {
  "kernelspec": {
   "display_name": "Python 3",
   "language": "python",
   "name": "python3"
  },
  "language_info": {
   "codemirror_mode": {
    "name": "ipython",
    "version": 3
   },
   "file_extension": ".py",
   "mimetype": "text/x-python",
   "name": "python",
   "nbconvert_exporter": "python",
   "pygments_lexer": "ipython3",
   "version": "3.12.2"
  }
 },
 "nbformat": 4,
 "nbformat_minor": 2
}
