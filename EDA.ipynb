{
 "cells": [
  {
   "cell_type": "code",
   "execution_count": 1,
   "metadata": {},
   "outputs": [],
   "source": [
    "import pandas as pd\n",
    "import numpy as np\n",
    "#! pip install pickleshare"
   ]
  },
  {
   "cell_type": "code",
   "execution_count": 2,
   "metadata": {},
   "outputs": [
    {
     "data": {
      "text/html": [
       "<div>\n",
       "<style scoped>\n",
       "    .dataframe tbody tr th:only-of-type {\n",
       "        vertical-align: middle;\n",
       "    }\n",
       "\n",
       "    .dataframe tbody tr th {\n",
       "        vertical-align: top;\n",
       "    }\n",
       "\n",
       "    .dataframe thead th {\n",
       "        text-align: right;\n",
       "    }\n",
       "</style>\n",
       "<table border=\"1\" class=\"dataframe\">\n",
       "  <thead>\n",
       "    <tr style=\"text-align: right;\">\n",
       "      <th></th>\n",
       "      <th>index</th>\n",
       "      <th>SongID</th>\n",
       "      <th>Performer</th>\n",
       "      <th>Song</th>\n",
       "      <th>spotify_genre</th>\n",
       "      <th>spotify_track_id</th>\n",
       "      <th>spotify_track_preview_url</th>\n",
       "      <th>spotify_track_duration_ms</th>\n",
       "      <th>spotify_track_explicit</th>\n",
       "      <th>spotify_track_album</th>\n",
       "      <th>...</th>\n",
       "      <th>loudness</th>\n",
       "      <th>mode</th>\n",
       "      <th>speechiness</th>\n",
       "      <th>acousticness</th>\n",
       "      <th>instrumentalness</th>\n",
       "      <th>liveness</th>\n",
       "      <th>valence</th>\n",
       "      <th>tempo</th>\n",
       "      <th>time_signature</th>\n",
       "      <th>spotify_track_popularity</th>\n",
       "    </tr>\n",
       "  </thead>\n",
       "  <tbody>\n",
       "    <tr>\n",
       "      <th>0</th>\n",
       "      <td>0</td>\n",
       "      <td>-twistin'-White Silver SandsBill Black's Combo</td>\n",
       "      <td>Bill Black's Combo</td>\n",
       "      <td>-twistin'-White Silver Sands</td>\n",
       "      <td>[]</td>\n",
       "      <td>NaN</td>\n",
       "      <td>NaN</td>\n",
       "      <td>NaN</td>\n",
       "      <td>NaN</td>\n",
       "      <td>NaN</td>\n",
       "      <td>...</td>\n",
       "      <td>NaN</td>\n",
       "      <td>NaN</td>\n",
       "      <td>NaN</td>\n",
       "      <td>NaN</td>\n",
       "      <td>NaN</td>\n",
       "      <td>NaN</td>\n",
       "      <td>NaN</td>\n",
       "      <td>NaN</td>\n",
       "      <td>NaN</td>\n",
       "      <td>NaN</td>\n",
       "    </tr>\n",
       "  </tbody>\n",
       "</table>\n",
       "<p>1 rows × 23 columns</p>\n",
       "</div>"
      ],
      "text/plain": [
       "   index                                          SongID           Performer  \\\n",
       "0      0  -twistin'-White Silver SandsBill Black's Combo  Bill Black's Combo   \n",
       "\n",
       "                           Song spotify_genre spotify_track_id  \\\n",
       "0  -twistin'-White Silver Sands            []              NaN   \n",
       "\n",
       "  spotify_track_preview_url  spotify_track_duration_ms spotify_track_explicit  \\\n",
       "0                       NaN                        NaN                    NaN   \n",
       "\n",
       "  spotify_track_album  ...  loudness  mode  speechiness  acousticness  \\\n",
       "0                 NaN  ...       NaN   NaN          NaN           NaN   \n",
       "\n",
       "   instrumentalness  liveness  valence  tempo  time_signature  \\\n",
       "0               NaN       NaN      NaN    NaN             NaN   \n",
       "\n",
       "   spotify_track_popularity  \n",
       "0                       NaN  \n",
       "\n",
       "[1 rows x 23 columns]"
      ]
     },
     "execution_count": 2,
     "metadata": {},
     "output_type": "execute_result"
    }
   ],
   "source": [
    "billboard_df=pd.read_csv('Hot 100 Audio Features.csv')\n",
    "billboard_df.head(1)"
   ]
  },
  {
   "cell_type": "code",
   "execution_count": 3,
   "metadata": {},
   "outputs": [],
   "source": [
    "# copy of the clean df original\n",
    "billboard_df_copy=billboard_df.copy()\n",
    "#display(billboard_df)"
   ]
  },
  {
   "cell_type": "markdown",
   "metadata": {},
   "source": [
    "### Preliminary analysis"
   ]
  },
  {
   "cell_type": "code",
   "execution_count": 4,
   "metadata": {},
   "outputs": [],
   "source": [
    "#billboard_df.info()"
   ]
  },
  {
   "cell_type": "code",
   "execution_count": 5,
   "metadata": {},
   "outputs": [
    {
     "name": "stdout",
     "output_type": "stream",
     "text": [
      "<class 'pandas.core.frame.DataFrame'>\n",
      "RangeIndex: 29503 entries, 0 to 29502\n",
      "Data columns (total 21 columns):\n",
      " #   Column                     Non-Null Count  Dtype  \n",
      "---  ------                     --------------  -----  \n",
      " 0   index                      29503 non-null  int64  \n",
      " 1   SongID                     29503 non-null  object \n",
      " 2   Performer                  29503 non-null  object \n",
      " 3   Song                       29503 non-null  object \n",
      " 4   spotify_genre              27903 non-null  object \n",
      " 5   spotify_track_duration_ms  24397 non-null  float64\n",
      " 6   spotify_track_explicit     24397 non-null  object \n",
      " 7   spotify_track_album        24391 non-null  object \n",
      " 8   danceability               24334 non-null  float64\n",
      " 9   energy                     24334 non-null  float64\n",
      " 10  key                        24334 non-null  float64\n",
      " 11  loudness                   24334 non-null  float64\n",
      " 12  mode                       24334 non-null  float64\n",
      " 13  speechiness                24334 non-null  float64\n",
      " 14  acousticness               24334 non-null  float64\n",
      " 15  instrumentalness           24334 non-null  float64\n",
      " 16  liveness                   24334 non-null  float64\n",
      " 17  valence                    24334 non-null  float64\n",
      " 18  tempo                      24334 non-null  float64\n",
      " 19  time_signature             24334 non-null  float64\n",
      " 20  spotify_track_popularity   24397 non-null  float64\n",
      "dtypes: float64(14), int64(1), object(6)\n",
      "memory usage: 4.7+ MB\n"
     ]
    }
   ],
   "source": [
    "# delate col for too much nan values (unusefull)\n",
    "del billboard_df['spotify_track_id']\n",
    "del billboard_df['spotify_track_preview_url']\n",
    "billboard_df.info()"
   ]
  },
  {
   "cell_type": "code",
   "execution_count": 6,
   "metadata": {},
   "outputs": [
    {
     "data": {
      "text/plain": [
       "index                           0\n",
       "SongID                          0\n",
       "Performer                       0\n",
       "Song                            0\n",
       "spotify_genre                1600\n",
       "spotify_track_duration_ms    5106\n",
       "spotify_track_explicit       5106\n",
       "spotify_track_album          5112\n",
       "danceability                 5169\n",
       "energy                       5169\n",
       "key                          5169\n",
       "loudness                     5169\n",
       "mode                         5169\n",
       "speechiness                  5169\n",
       "acousticness                 5169\n",
       "instrumentalness             5169\n",
       "liveness                     5169\n",
       "valence                      5169\n",
       "tempo                        5169\n",
       "time_signature               5169\n",
       "spotify_track_popularity     5106\n",
       "dtype: int64"
      ]
     },
     "execution_count": 6,
     "metadata": {},
     "output_type": "execute_result"
    }
   ],
   "source": [
    "#null values\n",
    "billboard_df.isnull().sum()"
   ]
  },
  {
   "cell_type": "code",
   "execution_count": 7,
   "metadata": {},
   "outputs": [
    {
     "data": {
      "text/plain": [
       "0"
      ]
     },
     "execution_count": 7,
     "metadata": {},
     "output_type": "execute_result"
    }
   ],
   "source": [
    "#decide to drop null values about 'spotify_genre' colum\n",
    "billboard_df=billboard_df[billboard_df['spotify_genre'].notna()]\n",
    "billboard_df['spotify_genre'].isnull().sum()"
   ]
  },
  {
   "cell_type": "code",
   "execution_count": 8,
   "metadata": {},
   "outputs": [
    {
     "name": "stderr",
     "output_type": "stream",
     "text": [
      "C:\\Users\\elped\\AppData\\Local\\Temp\\ipykernel_4384\\1913716826.py:3: FutureWarning: A value is trying to be set on a copy of a DataFrame or Series through chained assignment using an inplace method.\n",
      "The behavior will change in pandas 3.0. This inplace method will never work because the intermediate object on which we are setting values always behaves as a copy.\n",
      "\n",
      "For example, when doing 'df[col].method(value, inplace=True)', try using 'df.method({col: value}, inplace=True)' or df[col] = df[col].method(value) instead, to perform the operation inplace on the original object.\n",
      "\n",
      "\n",
      "  billboard_df['spotify_track_album'].fillna('single',inplace=True)\n"
     ]
    },
    {
     "data": {
      "text/plain": [
       "0"
      ]
     },
     "execution_count": 8,
     "metadata": {},
     "output_type": "execute_result"
    }
   ],
   "source": [
    "#decide to fill the Nan reguarding the column 'spotify_track_album' with 'single'\n",
    "#reason if a song is not in album could be a 'single' (we don't want to drop to much row)\n",
    "billboard_df['spotify_track_album'].fillna('single',inplace=True)\n",
    "billboard_df['spotify_track_album'].isnull().sum()"
   ]
  },
  {
   "cell_type": "code",
   "execution_count": 9,
   "metadata": {},
   "outputs": [
    {
     "name": "stderr",
     "output_type": "stream",
     "text": [
      "C:\\Users\\elped\\AppData\\Local\\Temp\\ipykernel_4384\\1241219966.py:2: FutureWarning: A value is trying to be set on a copy of a DataFrame or Series through chained assignment using an inplace method.\n",
      "The behavior will change in pandas 3.0. This inplace method will never work because the intermediate object on which we are setting values always behaves as a copy.\n",
      "\n",
      "For example, when doing 'df[col].method(value, inplace=True)', try using 'df.method({col: value}, inplace=True)' or df[col] = df[col].method(value) instead, to perform the operation inplace on the original object.\n",
      "\n",
      "\n",
      "  billboard_df['spotify_track_explicit'].fillna('unknown',inplace=True)\n"
     ]
    },
    {
     "data": {
      "text/plain": [
       "0"
      ]
     },
     "execution_count": 9,
     "metadata": {},
     "output_type": "execute_result"
    }
   ],
   "source": [
    "#same reasonig as before to column 'spotify_track_explicit'\n",
    "billboard_df['spotify_track_explicit'].fillna('unknown',inplace=True)\n",
    "billboard_df['spotify_track_explicit'].isnull().sum()"
   ]
  },
  {
   "cell_type": "markdown",
   "metadata": {},
   "source": [
    "### We want to find a **method to assign only one genre to each song**"
   ]
  },
  {
   "cell_type": "code",
   "execution_count": 10,
   "metadata": {},
   "outputs": [
    {
     "data": {
      "text/plain": [
       "0                                                   []\n",
       "1                                          ['novelty']\n",
       "2    ['adult standards', 'brill building pop', 'eas...\n",
       "3     ['rock-and-roll', 'space age pop', 'surf music']\n",
       "4                ['dance pop', 'pop', 'post-teen pop']\n",
       "Name: spotify_genre, dtype: object"
      ]
     },
     "execution_count": 10,
     "metadata": {},
     "output_type": "execute_result"
    }
   ],
   "source": [
    "# how this column is now composed?\n",
    "billboard_df['spotify_genre'].head(5)"
   ]
  },
  {
   "cell_type": "code",
   "execution_count": 11,
   "metadata": {},
   "outputs": [],
   "source": [
    "#so the idea is to create a list with the maingenre, and count how many times a genre in 'spotify_genre' list is present, the genre that has the most frequence became the maingenre\n",
    "\n",
    "#so firts we create the list of maingenre\n",
    "lista_main_generi=['pop','metal','rock','rap','trap','jazz','blues','country','indie','house','hip hop','techno','folk','reggae','punk','disco','classical','gospel','soul','instrumental','celtic','drill','dance','r&b','sertanejo','cumbia','electronic','lo-fi','ska','doom','prog','piano','soundtrack','salsa','cumbia','orchestra','beat','psych','alt','emo','old school','romantic','funk','choral','songwriter','talent show','latin','experimental','rumba','glitch','ambient','other']\n",
    "# i add a column in a dataset call 'maingenre' and i put for all the value 'other', after we modify it\n",
    "billboard_df['maingenere']='other'\n",
    "\n",
    "#so first we have to iterete in 'spotify_genre', this list is not well define so we have to repalce some charachters to eselly access to the list\n",
    "for index,generi in billboard_df.spotify_genre.items():\n",
    "  prova=str(generi).replace('[',\"\").replace(']',\"\").replace(\"'\",\"\").replace('\"',\"\").replace(',',\"\").replace('-',\" \")\n",
    "\n",
    "# i create a empty dictionary, where we will have (how many times the genere is present,genere)\n",
    "  counts = dict()\n",
    "\n",
    "  # we have to split it to access to every attribure\n",
    "  # we split the string into a list using spaces, and store it in prova2 list\n",
    "  prova2 = prova.split( )\n",
    "\n",
    "  # Iterate through each word in the 'prova2'\n",
    "  for word in prova2:\n",
    "        # Check if the word is already in the 'counts' dictionary.\n",
    "      if word in counts:\n",
    "            # If the word is already in the dictionary, increment its frequency by 1.\n",
    "          counts[word] += 1\n",
    "      else:\n",
    "            # If the word is not in the dictionary, add it to the dictionary with a frequency of 1.\n",
    "          counts[word] = 1\n",
    "# we create a list of dictionary and sort the tuple, the first tupla will be the one with the most frequency\n",
    "  lista_tuple_generi = sorted(counts.items(), key = lambda x:x[1], reverse=True)\n",
    "\n",
    "# now we have to fill the column maingenere with the genere that has the highst frequency\n",
    "\n",
    "#use to check first genre that are in list maingenere\n",
    "  primo = False\n",
    "  for tuple_genere in lista_tuple_generi:\n",
    "      if primo == False: # i did't already choose the maingenre\n",
    "        # exclude the genre that are not in lista maingnre\n",
    "          if tuple_genere[0] in lista_main_generi:\n",
    "                #print(tuple_genere[0])\n",
    "              primo =True\n",
    "              # after i check the genre i insert in the row with the index\n",
    "              billboard_df.loc[index,'maingenere']=tuple_genere[0]\n",
    "        #print(tuple_genere)\n"
   ]
  },
  {
   "cell_type": "code",
   "execution_count": 12,
   "metadata": {},
   "outputs": [
    {
     "data": {
      "text/plain": [
       "maingenere\n",
       "pop      7590\n",
       "rock     5156\n",
       "other    4167\n",
       "soul     2499\n",
       "rap      2259\n",
       "Name: count, dtype: int64"
      ]
     },
     "execution_count": 12,
     "metadata": {},
     "output_type": "execute_result"
    }
   ],
   "source": [
    "# now we can obtain song for maingenre\n",
    "billboard_df['maingenere'].value_counts()[:5]"
   ]
  },
  {
   "cell_type": "markdown",
   "metadata": {},
   "source": [
    "### Now, each song has a **main genre associated** to it, using which we can **substitute the null vlaues** of each row with the means of the column based on the main genre.\n"
   ]
  },
  {
   "cell_type": "code",
   "execution_count": 13,
   "metadata": {},
   "outputs": [
    {
     "data": {
      "text/plain": [
       "index                           0\n",
       "SongID                          0\n",
       "Performer                       0\n",
       "Song                            0\n",
       "spotify_genre                   0\n",
       "spotify_track_duration_ms    3654\n",
       "spotify_track_explicit          0\n",
       "spotify_track_album             0\n",
       "danceability                 3713\n",
       "energy                       3713\n",
       "key                          3713\n",
       "loudness                     3713\n",
       "mode                         3713\n",
       "speechiness                  3713\n",
       "acousticness                 3713\n",
       "instrumentalness             3713\n",
       "liveness                     3713\n",
       "valence                      3713\n",
       "tempo                        3713\n",
       "time_signature               3713\n",
       "spotify_track_popularity     3654\n",
       "maingenere                      0\n",
       "dtype: int64"
      ]
     },
     "execution_count": 13,
     "metadata": {},
     "output_type": "execute_result"
    }
   ],
   "source": [
    "# null values at the moment \n",
    "billboard_df.isnull().sum()"
   ]
  },
  {
   "cell_type": "code",
   "execution_count": 14,
   "metadata": {},
   "outputs": [],
   "source": [
    "#so for every columns that have nun values in df\n",
    "for null_column in billboard_df:\n",
    "    if billboard_df[null_column].isnull().any() == True :\n",
    "      # we iterete all generi in list of generi\n",
    "        for generi in lista_main_generi:\n",
    "          #we create a mask for each genere\n",
    "            mask_generi=billboard_df.maingenere==generi\n",
    "            genere_df=billboard_df[mask_generi]\n",
    "            #we apply the mansk and we fill the nan values with the mean for each genere\n",
    "\n",
    "            mean_generi=round(genere_df[null_column].mean(),2)\n",
    "            #using loc i substitute the mean of each genere in corrisponding index\n",
    "            billboard_df.loc[mask_generi, null_column] = billboard_df.loc[mask_generi, [null_column]].fillna(mean_generi)"
   ]
  },
  {
   "cell_type": "code",
   "execution_count": 15,
   "metadata": {},
   "outputs": [
    {
     "data": {
      "text/plain": [
       "index                        0\n",
       "SongID                       0\n",
       "Performer                    0\n",
       "Song                         0\n",
       "spotify_genre                0\n",
       "spotify_track_duration_ms    2\n",
       "spotify_track_explicit       0\n",
       "spotify_track_album          0\n",
       "danceability                 2\n",
       "energy                       2\n",
       "key                          2\n",
       "loudness                     2\n",
       "mode                         2\n",
       "speechiness                  2\n",
       "acousticness                 2\n",
       "instrumentalness             2\n",
       "liveness                     2\n",
       "valence                      2\n",
       "tempo                        2\n",
       "time_signature               2\n",
       "spotify_track_popularity     2\n",
       "maingenere                   0\n",
       "dtype: int64"
      ]
     },
     "execution_count": 15,
     "metadata": {},
     "output_type": "execute_result"
    }
   ],
   "source": [
    "billboard_df.isnull().sum()"
   ]
  },
  {
   "cell_type": "markdown",
   "metadata": {},
   "source": [
    "### Now we have a almost clean dataset, but some genre don't have enough values to be filled by the mean of his reference maingenre, **so we drop it**"
   ]
  },
  {
   "cell_type": "code",
   "execution_count": 16,
   "metadata": {},
   "outputs": [
    {
     "name": "stdout",
     "output_type": "stream",
     "text": [
      "<class 'pandas.core.frame.DataFrame'>\n",
      "Index: 27901 entries, 0 to 29502\n",
      "Data columns (total 22 columns):\n",
      " #   Column                     Non-Null Count  Dtype  \n",
      "---  ------                     --------------  -----  \n",
      " 0   index                      27901 non-null  int64  \n",
      " 1   SongID                     27901 non-null  object \n",
      " 2   Performer                  27901 non-null  object \n",
      " 3   Song                       27901 non-null  object \n",
      " 4   spotify_genre              27901 non-null  object \n",
      " 5   spotify_track_duration_ms  27901 non-null  float64\n",
      " 6   spotify_track_explicit     27901 non-null  object \n",
      " 7   spotify_track_album        27901 non-null  object \n",
      " 8   danceability               27901 non-null  float64\n",
      " 9   energy                     27901 non-null  float64\n",
      " 10  key                        27901 non-null  float64\n",
      " 11  loudness                   27901 non-null  float64\n",
      " 12  mode                       27901 non-null  float64\n",
      " 13  speechiness                27901 non-null  float64\n",
      " 14  acousticness               27901 non-null  float64\n",
      " 15  instrumentalness           27901 non-null  float64\n",
      " 16  liveness                   27901 non-null  float64\n",
      " 17  valence                    27901 non-null  float64\n",
      " 18  tempo                      27901 non-null  float64\n",
      " 19  time_signature             27901 non-null  float64\n",
      " 20  spotify_track_popularity   27901 non-null  float64\n",
      " 21  maingenere                 27901 non-null  object \n",
      "dtypes: float64(14), int64(1), object(7)\n",
      "memory usage: 4.9+ MB\n"
     ]
    }
   ],
   "source": [
    "billboard_df=billboard_df.dropna()\n",
    "billboard_df.info()"
   ]
  },
  {
   "cell_type": "code",
   "execution_count": 17,
   "metadata": {},
   "outputs": [
    {
     "data": {
      "text/plain": [
       "index                        0\n",
       "SongID                       0\n",
       "Performer                    0\n",
       "Song                         0\n",
       "spotify_genre                0\n",
       "spotify_track_duration_ms    0\n",
       "spotify_track_explicit       0\n",
       "spotify_track_album          0\n",
       "danceability                 0\n",
       "energy                       0\n",
       "key                          0\n",
       "loudness                     0\n",
       "mode                         0\n",
       "speechiness                  0\n",
       "acousticness                 0\n",
       "instrumentalness             0\n",
       "liveness                     0\n",
       "valence                      0\n",
       "tempo                        0\n",
       "time_signature               0\n",
       "spotify_track_popularity     0\n",
       "maingenere                   0\n",
       "dtype: int64"
      ]
     },
     "execution_count": 17,
     "metadata": {},
     "output_type": "execute_result"
    }
   ],
   "source": [
    "billboard_df_eda=billboard_df.copy()\n",
    "billboard_df_eda.isnull().sum()"
   ]
  },
  {
   "cell_type": "code",
   "execution_count": 18,
   "metadata": {},
   "outputs": [
    {
     "name": "stdout",
     "output_type": "stream",
     "text": [
      "<class 'pandas.core.frame.DataFrame'>\n",
      "Index: 27901 entries, 0 to 29502\n",
      "Data columns (total 22 columns):\n",
      " #   Column                         Non-Null Count  Dtype  \n",
      "---  ------                         --------------  -----  \n",
      " 0   index                          27901 non-null  int64  \n",
      " 1   SongID                         27901 non-null  object \n",
      " 2   Performer                      27901 non-null  object \n",
      " 3   Song                           27901 non-null  object \n",
      " 4   spotify_genre                  27901 non-null  object \n",
      " 5   spotify_track_duration_minute  27901 non-null  float64\n",
      " 6   spotify_track_explicit         27901 non-null  object \n",
      " 7   spotify_track_album            27901 non-null  object \n",
      " 8   danceability                   27901 non-null  float64\n",
      " 9   energy                         27901 non-null  float64\n",
      " 10  key                            27901 non-null  float64\n",
      " 11  loudness                       27901 non-null  float64\n",
      " 12  mode                           27901 non-null  float64\n",
      " 13  speechiness                    27901 non-null  float64\n",
      " 14  acousticness                   27901 non-null  float64\n",
      " 15  instrumentalness               27901 non-null  float64\n",
      " 16  liveness                       27901 non-null  float64\n",
      " 17  valence                        27901 non-null  float64\n",
      " 18  tempo                          27901 non-null  float64\n",
      " 19  time_signature                 27901 non-null  float64\n",
      " 20  spotify_track_popularity       27901 non-null  float64\n",
      " 21  maingenere                     27901 non-null  object \n",
      "dtypes: float64(14), int64(1), object(7)\n",
      "memory usage: 4.9+ MB\n"
     ]
    }
   ],
   "source": [
    "## i want also convert the'spotify_track_duration_ms' in 'spotify_track_duration_minute'\n",
    "billboard_df_eda.spotify_track_duration_ms=round(billboard_df_eda.spotify_track_duration_ms/60000,2)\n",
    "billboard_df_eda.rename(columns={'spotify_track_duration_ms':'spotify_track_duration_minute'},inplace=True)\n",
    "billboard_df_eda.info()"
   ]
  },
  {
   "cell_type": "markdown",
   "metadata": {},
   "source": [
    "END CLEAN DF\n",
    "_______________________________________________________________________________________________"
   ]
  },
  {
   "cell_type": "code",
   "execution_count": 19,
   "metadata": {},
   "outputs": [
    {
     "name": "stdout",
     "output_type": "stream",
     "text": [
      "Stored 'billboard_df_eda' (DataFrame)\n"
     ]
    }
   ],
   "source": [
    "%store billboard_df_eda "
   ]
  },
  {
   "cell_type": "code",
   "execution_count": 20,
   "metadata": {},
   "outputs": [],
   "source": [
    "# CHECK FOR THE DISTRIBUTION OF THE VARIABLE \n",
    "# CHECK FOR THE CORRELATION OF THE VARIABLE \n",
    "# CHECK FOR OUTLIER \n",
    "# SE MI VIENE ALTRO IN MENTE AGGIUNGERE"
   ]
  }
 ],
 "metadata": {
  "kernelspec": {
   "display_name": "Python 3",
   "language": "python",
   "name": "python3"
  },
  "language_info": {
   "codemirror_mode": {
    "name": "ipython",
    "version": 3
   },
   "file_extension": ".py",
   "mimetype": "text/x-python",
   "name": "python",
   "nbconvert_exporter": "python",
   "pygments_lexer": "ipython3",
   "version": "3.12.1"
  }
 },
 "nbformat": 4,
 "nbformat_minor": 2
}
